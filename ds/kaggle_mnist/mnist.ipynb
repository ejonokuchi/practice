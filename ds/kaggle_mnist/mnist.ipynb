{
 "cells": [
  {
   "cell_type": "code",
   "execution_count": 1,
   "id": "b70b51d8",
   "metadata": {},
   "outputs": [
    {
     "data": {
      "application/javascript": [
       "\n",
       "            setTimeout(function() {\n",
       "                var nbb_cell_id = 1;\n",
       "                var nbb_unformatted_code = \"%load_ext nb_black\";\n",
       "                var nbb_formatted_code = \"%load_ext nb_black\";\n",
       "                var nbb_cells = Jupyter.notebook.get_cells();\n",
       "                for (var i = 0; i < nbb_cells.length; ++i) {\n",
       "                    if (nbb_cells[i].input_prompt_number == nbb_cell_id) {\n",
       "                        if (nbb_cells[i].get_text() == nbb_unformatted_code) {\n",
       "                             nbb_cells[i].set_text(nbb_formatted_code);\n",
       "                        }\n",
       "                        break;\n",
       "                    }\n",
       "                }\n",
       "            }, 500);\n",
       "            "
      ],
      "text/plain": [
       "<IPython.core.display.Javascript object>"
      ]
     },
     "metadata": {},
     "output_type": "display_data"
    }
   ],
   "source": [
    "%load_ext nb_black"
   ]
  },
  {
   "cell_type": "code",
   "execution_count": 2,
   "id": "1c04a896",
   "metadata": {},
   "outputs": [
    {
     "data": {
      "application/javascript": [
       "\n",
       "            setTimeout(function() {\n",
       "                var nbb_cell_id = 2;\n",
       "                var nbb_unformatted_code = \"import matplotlib.pyplot as plt\\nimport numpy as np\\nimport pandas as pd\\nimport seaborn as sns\";\n",
       "                var nbb_formatted_code = \"import matplotlib.pyplot as plt\\nimport numpy as np\\nimport pandas as pd\\nimport seaborn as sns\";\n",
       "                var nbb_cells = Jupyter.notebook.get_cells();\n",
       "                for (var i = 0; i < nbb_cells.length; ++i) {\n",
       "                    if (nbb_cells[i].input_prompt_number == nbb_cell_id) {\n",
       "                        if (nbb_cells[i].get_text() == nbb_unformatted_code) {\n",
       "                             nbb_cells[i].set_text(nbb_formatted_code);\n",
       "                        }\n",
       "                        break;\n",
       "                    }\n",
       "                }\n",
       "            }, 500);\n",
       "            "
      ],
      "text/plain": [
       "<IPython.core.display.Javascript object>"
      ]
     },
     "metadata": {},
     "output_type": "display_data"
    }
   ],
   "source": [
    "import matplotlib.pyplot as plt\n",
    "import numpy as np\n",
    "import pandas as pd\n",
    "import seaborn as sns"
   ]
  },
  {
   "cell_type": "code",
   "execution_count": 3,
   "id": "f1e098f9",
   "metadata": {},
   "outputs": [
    {
     "data": {
      "application/javascript": [
       "\n",
       "            setTimeout(function() {\n",
       "                var nbb_cell_id = 3;\n",
       "                var nbb_unformatted_code = \"plt.rcParams[\\\"figure.figsize\\\"] = (8, 4)\\nplt.rcParams[\\\"patch.linewidth\\\"] = 0\\n\\nsns.set_palette(\\\"muted\\\")\";\n",
       "                var nbb_formatted_code = \"plt.rcParams[\\\"figure.figsize\\\"] = (8, 4)\\nplt.rcParams[\\\"patch.linewidth\\\"] = 0\\n\\nsns.set_palette(\\\"muted\\\")\";\n",
       "                var nbb_cells = Jupyter.notebook.get_cells();\n",
       "                for (var i = 0; i < nbb_cells.length; ++i) {\n",
       "                    if (nbb_cells[i].input_prompt_number == nbb_cell_id) {\n",
       "                        if (nbb_cells[i].get_text() == nbb_unformatted_code) {\n",
       "                             nbb_cells[i].set_text(nbb_formatted_code);\n",
       "                        }\n",
       "                        break;\n",
       "                    }\n",
       "                }\n",
       "            }, 500);\n",
       "            "
      ],
      "text/plain": [
       "<IPython.core.display.Javascript object>"
      ]
     },
     "metadata": {},
     "output_type": "display_data"
    }
   ],
   "source": [
    "plt.rcParams[\"figure.figsize\"] = (8, 4)\n",
    "plt.rcParams[\"patch.linewidth\"] = 0\n",
    "\n",
    "sns.set_palette(\"muted\")"
   ]
  },
  {
   "cell_type": "markdown",
   "id": "7abea1e9",
   "metadata": {},
   "source": [
    "### Data Exploration"
   ]
  },
  {
   "cell_type": "code",
   "execution_count": 4,
   "id": "9cf3ed2f",
   "metadata": {},
   "outputs": [
    {
     "data": {
      "application/javascript": [
       "\n",
       "            setTimeout(function() {\n",
       "                var nbb_cell_id = 4;\n",
       "                var nbb_unformatted_code = \"train_df = pd.read_csv(\\\"data/train.csv\\\")\\ntest_df = pd.read_csv(\\\"data/test.csv\\\")\";\n",
       "                var nbb_formatted_code = \"train_df = pd.read_csv(\\\"data/train.csv\\\")\\ntest_df = pd.read_csv(\\\"data/test.csv\\\")\";\n",
       "                var nbb_cells = Jupyter.notebook.get_cells();\n",
       "                for (var i = 0; i < nbb_cells.length; ++i) {\n",
       "                    if (nbb_cells[i].input_prompt_number == nbb_cell_id) {\n",
       "                        if (nbb_cells[i].get_text() == nbb_unformatted_code) {\n",
       "                             nbb_cells[i].set_text(nbb_formatted_code);\n",
       "                        }\n",
       "                        break;\n",
       "                    }\n",
       "                }\n",
       "            }, 500);\n",
       "            "
      ],
      "text/plain": [
       "<IPython.core.display.Javascript object>"
      ]
     },
     "metadata": {},
     "output_type": "display_data"
    }
   ],
   "source": [
    "train_df = pd.read_csv(\"data/train.csv\")\n",
    "test_df = pd.read_csv(\"data/test.csv\")"
   ]
  },
  {
   "cell_type": "code",
   "execution_count": 5,
   "id": "4db2e90c",
   "metadata": {},
   "outputs": [
    {
     "data": {
      "text/plain": [
       "(42000, 785)"
      ]
     },
     "execution_count": 5,
     "metadata": {},
     "output_type": "execute_result"
    },
    {
     "data": {
      "application/javascript": [
       "\n",
       "            setTimeout(function() {\n",
       "                var nbb_cell_id = 5;\n",
       "                var nbb_unformatted_code = \"train_df.shape\";\n",
       "                var nbb_formatted_code = \"train_df.shape\";\n",
       "                var nbb_cells = Jupyter.notebook.get_cells();\n",
       "                for (var i = 0; i < nbb_cells.length; ++i) {\n",
       "                    if (nbb_cells[i].input_prompt_number == nbb_cell_id) {\n",
       "                        if (nbb_cells[i].get_text() == nbb_unformatted_code) {\n",
       "                             nbb_cells[i].set_text(nbb_formatted_code);\n",
       "                        }\n",
       "                        break;\n",
       "                    }\n",
       "                }\n",
       "            }, 500);\n",
       "            "
      ],
      "text/plain": [
       "<IPython.core.display.Javascript object>"
      ]
     },
     "metadata": {},
     "output_type": "display_data"
    }
   ],
   "source": [
    "train_df.shape"
   ]
  },
  {
   "cell_type": "code",
   "execution_count": 6,
   "id": "2c60b92e",
   "metadata": {},
   "outputs": [
    {
     "data": {
      "text/plain": [
       "(28000, 784)"
      ]
     },
     "execution_count": 6,
     "metadata": {},
     "output_type": "execute_result"
    },
    {
     "data": {
      "application/javascript": [
       "\n",
       "            setTimeout(function() {\n",
       "                var nbb_cell_id = 6;\n",
       "                var nbb_unformatted_code = \"test_df.shape\";\n",
       "                var nbb_formatted_code = \"test_df.shape\";\n",
       "                var nbb_cells = Jupyter.notebook.get_cells();\n",
       "                for (var i = 0; i < nbb_cells.length; ++i) {\n",
       "                    if (nbb_cells[i].input_prompt_number == nbb_cell_id) {\n",
       "                        if (nbb_cells[i].get_text() == nbb_unformatted_code) {\n",
       "                             nbb_cells[i].set_text(nbb_formatted_code);\n",
       "                        }\n",
       "                        break;\n",
       "                    }\n",
       "                }\n",
       "            }, 500);\n",
       "            "
      ],
      "text/plain": [
       "<IPython.core.display.Javascript object>"
      ]
     },
     "metadata": {},
     "output_type": "display_data"
    }
   ],
   "source": [
    "test_df.shape"
   ]
  },
  {
   "cell_type": "code",
   "execution_count": 7,
   "id": "e5073d02",
   "metadata": {},
   "outputs": [
    {
     "data": {
      "text/html": [
       "<div>\n",
       "<style scoped>\n",
       "    .dataframe tbody tr th:only-of-type {\n",
       "        vertical-align: middle;\n",
       "    }\n",
       "\n",
       "    .dataframe tbody tr th {\n",
       "        vertical-align: top;\n",
       "    }\n",
       "\n",
       "    .dataframe thead th {\n",
       "        text-align: right;\n",
       "    }\n",
       "</style>\n",
       "<table border=\"1\" class=\"dataframe\">\n",
       "  <thead>\n",
       "    <tr style=\"text-align: right;\">\n",
       "      <th></th>\n",
       "      <th>label</th>\n",
       "      <th>pixel0</th>\n",
       "      <th>pixel1</th>\n",
       "      <th>pixel2</th>\n",
       "      <th>pixel3</th>\n",
       "      <th>pixel4</th>\n",
       "      <th>pixel5</th>\n",
       "      <th>pixel6</th>\n",
       "      <th>pixel7</th>\n",
       "      <th>pixel8</th>\n",
       "      <th>...</th>\n",
       "      <th>pixel774</th>\n",
       "      <th>pixel775</th>\n",
       "      <th>pixel776</th>\n",
       "      <th>pixel777</th>\n",
       "      <th>pixel778</th>\n",
       "      <th>pixel779</th>\n",
       "      <th>pixel780</th>\n",
       "      <th>pixel781</th>\n",
       "      <th>pixel782</th>\n",
       "      <th>pixel783</th>\n",
       "    </tr>\n",
       "  </thead>\n",
       "  <tbody>\n",
       "    <tr>\n",
       "      <th>0</th>\n",
       "      <td>1</td>\n",
       "      <td>0</td>\n",
       "      <td>0</td>\n",
       "      <td>0</td>\n",
       "      <td>0</td>\n",
       "      <td>0</td>\n",
       "      <td>0</td>\n",
       "      <td>0</td>\n",
       "      <td>0</td>\n",
       "      <td>0</td>\n",
       "      <td>...</td>\n",
       "      <td>0</td>\n",
       "      <td>0</td>\n",
       "      <td>0</td>\n",
       "      <td>0</td>\n",
       "      <td>0</td>\n",
       "      <td>0</td>\n",
       "      <td>0</td>\n",
       "      <td>0</td>\n",
       "      <td>0</td>\n",
       "      <td>0</td>\n",
       "    </tr>\n",
       "    <tr>\n",
       "      <th>1</th>\n",
       "      <td>0</td>\n",
       "      <td>0</td>\n",
       "      <td>0</td>\n",
       "      <td>0</td>\n",
       "      <td>0</td>\n",
       "      <td>0</td>\n",
       "      <td>0</td>\n",
       "      <td>0</td>\n",
       "      <td>0</td>\n",
       "      <td>0</td>\n",
       "      <td>...</td>\n",
       "      <td>0</td>\n",
       "      <td>0</td>\n",
       "      <td>0</td>\n",
       "      <td>0</td>\n",
       "      <td>0</td>\n",
       "      <td>0</td>\n",
       "      <td>0</td>\n",
       "      <td>0</td>\n",
       "      <td>0</td>\n",
       "      <td>0</td>\n",
       "    </tr>\n",
       "    <tr>\n",
       "      <th>2</th>\n",
       "      <td>1</td>\n",
       "      <td>0</td>\n",
       "      <td>0</td>\n",
       "      <td>0</td>\n",
       "      <td>0</td>\n",
       "      <td>0</td>\n",
       "      <td>0</td>\n",
       "      <td>0</td>\n",
       "      <td>0</td>\n",
       "      <td>0</td>\n",
       "      <td>...</td>\n",
       "      <td>0</td>\n",
       "      <td>0</td>\n",
       "      <td>0</td>\n",
       "      <td>0</td>\n",
       "      <td>0</td>\n",
       "      <td>0</td>\n",
       "      <td>0</td>\n",
       "      <td>0</td>\n",
       "      <td>0</td>\n",
       "      <td>0</td>\n",
       "    </tr>\n",
       "    <tr>\n",
       "      <th>3</th>\n",
       "      <td>4</td>\n",
       "      <td>0</td>\n",
       "      <td>0</td>\n",
       "      <td>0</td>\n",
       "      <td>0</td>\n",
       "      <td>0</td>\n",
       "      <td>0</td>\n",
       "      <td>0</td>\n",
       "      <td>0</td>\n",
       "      <td>0</td>\n",
       "      <td>...</td>\n",
       "      <td>0</td>\n",
       "      <td>0</td>\n",
       "      <td>0</td>\n",
       "      <td>0</td>\n",
       "      <td>0</td>\n",
       "      <td>0</td>\n",
       "      <td>0</td>\n",
       "      <td>0</td>\n",
       "      <td>0</td>\n",
       "      <td>0</td>\n",
       "    </tr>\n",
       "    <tr>\n",
       "      <th>4</th>\n",
       "      <td>0</td>\n",
       "      <td>0</td>\n",
       "      <td>0</td>\n",
       "      <td>0</td>\n",
       "      <td>0</td>\n",
       "      <td>0</td>\n",
       "      <td>0</td>\n",
       "      <td>0</td>\n",
       "      <td>0</td>\n",
       "      <td>0</td>\n",
       "      <td>...</td>\n",
       "      <td>0</td>\n",
       "      <td>0</td>\n",
       "      <td>0</td>\n",
       "      <td>0</td>\n",
       "      <td>0</td>\n",
       "      <td>0</td>\n",
       "      <td>0</td>\n",
       "      <td>0</td>\n",
       "      <td>0</td>\n",
       "      <td>0</td>\n",
       "    </tr>\n",
       "  </tbody>\n",
       "</table>\n",
       "<p>5 rows × 785 columns</p>\n",
       "</div>"
      ],
      "text/plain": [
       "   label  pixel0  pixel1  pixel2  pixel3  pixel4  pixel5  pixel6  pixel7  \\\n",
       "0      1       0       0       0       0       0       0       0       0   \n",
       "1      0       0       0       0       0       0       0       0       0   \n",
       "2      1       0       0       0       0       0       0       0       0   \n",
       "3      4       0       0       0       0       0       0       0       0   \n",
       "4      0       0       0       0       0       0       0       0       0   \n",
       "\n",
       "   pixel8  ...  pixel774  pixel775  pixel776  pixel777  pixel778  pixel779  \\\n",
       "0       0  ...         0         0         0         0         0         0   \n",
       "1       0  ...         0         0         0         0         0         0   \n",
       "2       0  ...         0         0         0         0         0         0   \n",
       "3       0  ...         0         0         0         0         0         0   \n",
       "4       0  ...         0         0         0         0         0         0   \n",
       "\n",
       "   pixel780  pixel781  pixel782  pixel783  \n",
       "0         0         0         0         0  \n",
       "1         0         0         0         0  \n",
       "2         0         0         0         0  \n",
       "3         0         0         0         0  \n",
       "4         0         0         0         0  \n",
       "\n",
       "[5 rows x 785 columns]"
      ]
     },
     "execution_count": 7,
     "metadata": {},
     "output_type": "execute_result"
    },
    {
     "data": {
      "application/javascript": [
       "\n",
       "            setTimeout(function() {\n",
       "                var nbb_cell_id = 7;\n",
       "                var nbb_unformatted_code = \"train_df.head()\";\n",
       "                var nbb_formatted_code = \"train_df.head()\";\n",
       "                var nbb_cells = Jupyter.notebook.get_cells();\n",
       "                for (var i = 0; i < nbb_cells.length; ++i) {\n",
       "                    if (nbb_cells[i].input_prompt_number == nbb_cell_id) {\n",
       "                        if (nbb_cells[i].get_text() == nbb_unformatted_code) {\n",
       "                             nbb_cells[i].set_text(nbb_formatted_code);\n",
       "                        }\n",
       "                        break;\n",
       "                    }\n",
       "                }\n",
       "            }, 500);\n",
       "            "
      ],
      "text/plain": [
       "<IPython.core.display.Javascript object>"
      ]
     },
     "metadata": {},
     "output_type": "display_data"
    }
   ],
   "source": [
    "train_df.head()"
   ]
  },
  {
   "cell_type": "code",
   "execution_count": 8,
   "id": "5514b6a6",
   "metadata": {},
   "outputs": [
    {
     "name": "stdout",
     "output_type": "stream",
     "text": [
      "<class 'pandas.core.frame.DataFrame'>\n",
      "RangeIndex: 42000 entries, 0 to 41999\n",
      "Columns: 785 entries, label to pixel783\n",
      "dtypes: int64(785)\n",
      "memory usage: 251.5 MB\n"
     ]
    },
    {
     "data": {
      "application/javascript": [
       "\n",
       "            setTimeout(function() {\n",
       "                var nbb_cell_id = 8;\n",
       "                var nbb_unformatted_code = \"train_df.info()\";\n",
       "                var nbb_formatted_code = \"train_df.info()\";\n",
       "                var nbb_cells = Jupyter.notebook.get_cells();\n",
       "                for (var i = 0; i < nbb_cells.length; ++i) {\n",
       "                    if (nbb_cells[i].input_prompt_number == nbb_cell_id) {\n",
       "                        if (nbb_cells[i].get_text() == nbb_unformatted_code) {\n",
       "                             nbb_cells[i].set_text(nbb_formatted_code);\n",
       "                        }\n",
       "                        break;\n",
       "                    }\n",
       "                }\n",
       "            }, 500);\n",
       "            "
      ],
      "text/plain": [
       "<IPython.core.display.Javascript object>"
      ]
     },
     "metadata": {},
     "output_type": "display_data"
    }
   ],
   "source": [
    "train_df.info()"
   ]
  },
  {
   "cell_type": "code",
   "execution_count": 9,
   "id": "8c1712dd",
   "metadata": {},
   "outputs": [
    {
     "data": {
      "text/plain": [
       "False"
      ]
     },
     "execution_count": 9,
     "metadata": {},
     "output_type": "execute_result"
    },
    {
     "data": {
      "application/javascript": [
       "\n",
       "            setTimeout(function() {\n",
       "                var nbb_cell_id = 9;\n",
       "                var nbb_unformatted_code = \"train_df.isna().any(axis=None)\";\n",
       "                var nbb_formatted_code = \"train_df.isna().any(axis=None)\";\n",
       "                var nbb_cells = Jupyter.notebook.get_cells();\n",
       "                for (var i = 0; i < nbb_cells.length; ++i) {\n",
       "                    if (nbb_cells[i].input_prompt_number == nbb_cell_id) {\n",
       "                        if (nbb_cells[i].get_text() == nbb_unformatted_code) {\n",
       "                             nbb_cells[i].set_text(nbb_formatted_code);\n",
       "                        }\n",
       "                        break;\n",
       "                    }\n",
       "                }\n",
       "            }, 500);\n",
       "            "
      ],
      "text/plain": [
       "<IPython.core.display.Javascript object>"
      ]
     },
     "metadata": {},
     "output_type": "display_data"
    }
   ],
   "source": [
    "train_df.isna().any(axis=None)"
   ]
  },
  {
   "cell_type": "code",
   "execution_count": 10,
   "id": "97fc459b",
   "metadata": {},
   "outputs": [
    {
     "data": {
      "text/plain": [
       "(0, 255)"
      ]
     },
     "execution_count": 10,
     "metadata": {},
     "output_type": "execute_result"
    },
    {
     "data": {
      "application/javascript": [
       "\n",
       "            setTimeout(function() {\n",
       "                var nbb_cell_id = 10;\n",
       "                var nbb_unformatted_code = \"np.min(train_df.values), np.max(train_df.values)\";\n",
       "                var nbb_formatted_code = \"np.min(train_df.values), np.max(train_df.values)\";\n",
       "                var nbb_cells = Jupyter.notebook.get_cells();\n",
       "                for (var i = 0; i < nbb_cells.length; ++i) {\n",
       "                    if (nbb_cells[i].input_prompt_number == nbb_cell_id) {\n",
       "                        if (nbb_cells[i].get_text() == nbb_unformatted_code) {\n",
       "                             nbb_cells[i].set_text(nbb_formatted_code);\n",
       "                        }\n",
       "                        break;\n",
       "                    }\n",
       "                }\n",
       "            }, 500);\n",
       "            "
      ],
      "text/plain": [
       "<IPython.core.display.Javascript object>"
      ]
     },
     "metadata": {},
     "output_type": "display_data"
    }
   ],
   "source": [
    "np.min(train_df.values), np.max(train_df.values)"
   ]
  },
  {
   "cell_type": "code",
   "execution_count": 11,
   "id": "3ea028c8",
   "metadata": {},
   "outputs": [
    {
     "data": {
      "image/png": "[encoded data removed]",
      "text/plain": [
       "<Figure size 576x288 with 1 Axes>"
      ]
     },
     "metadata": {
      "needs_background": "light"
     },
     "output_type": "display_data"
    },
    {
     "data": {
      "application/javascript": [
       "\n",
       "            setTimeout(function() {\n",
       "                var nbb_cell_id = 11;\n",
       "                var nbb_unformatted_code = \"sns.histplot(data=train_df.label.values)\\nplt.title(\\\"Label counts\\\")\\nplt.show()\";\n",
       "                var nbb_formatted_code = \"sns.histplot(data=train_df.label.values)\\nplt.title(\\\"Label counts\\\")\\nplt.show()\";\n",
       "                var nbb_cells = Jupyter.notebook.get_cells();\n",
       "                for (var i = 0; i < nbb_cells.length; ++i) {\n",
       "                    if (nbb_cells[i].input_prompt_number == nbb_cell_id) {\n",
       "                        if (nbb_cells[i].get_text() == nbb_unformatted_code) {\n",
       "                             nbb_cells[i].set_text(nbb_formatted_code);\n",
       "                        }\n",
       "                        break;\n",
       "                    }\n",
       "                }\n",
       "            }, 500);\n",
       "            "
      ],
      "text/plain": [
       "<IPython.core.display.Javascript object>"
      ]
     },
     "metadata": {},
     "output_type": "display_data"
    }
   ],
   "source": [
    "sns.histplot(data=train_df.label.values)\n",
    "plt.title(\"Label counts\")\n",
    "plt.show()"
   ]
  },
  {
   "cell_type": "markdown",
   "id": "78a22b7f",
   "metadata": {},
   "source": [
    "Transform data"
   ]
  },
  {
   "cell_type": "code",
   "execution_count": 12,
   "id": "44a45045",
   "metadata": {},
   "outputs": [
    {
     "data": {
      "application/javascript": [
       "\n",
       "            setTimeout(function() {\n",
       "                var nbb_cell_id = 12;\n",
       "                var nbb_unformatted_code = \"target_col = \\\"label\\\"\\n\\nX_train = (\\n    train_df.drop(target_col, axis=1)\\n    .to_numpy(dtype=np.uint8)\\n    .reshape(train_df.shape[0], 28, 28)\\n)\\nY_train = train_df[target_col].to_numpy(dtype=np.uint8)\\n\\nX_test = test_df.to_numpy(dtype=np.uint8).reshape(test_df.shape[0], 28, 28)\";\n",
       "                var nbb_formatted_code = \"target_col = \\\"label\\\"\\n\\nX_train = (\\n    train_df.drop(target_col, axis=1)\\n    .to_numpy(dtype=np.uint8)\\n    .reshape(train_df.shape[0], 28, 28)\\n)\\nY_train = train_df[target_col].to_numpy(dtype=np.uint8)\\n\\nX_test = test_df.to_numpy(dtype=np.uint8).reshape(test_df.shape[0], 28, 28)\";\n",
       "                var nbb_cells = Jupyter.notebook.get_cells();\n",
       "                for (var i = 0; i < nbb_cells.length; ++i) {\n",
       "                    if (nbb_cells[i].input_prompt_number == nbb_cell_id) {\n",
       "                        if (nbb_cells[i].get_text() == nbb_unformatted_code) {\n",
       "                             nbb_cells[i].set_text(nbb_formatted_code);\n",
       "                        }\n",
       "                        break;\n",
       "                    }\n",
       "                }\n",
       "            }, 500);\n",
       "            "
      ],
      "text/plain": [
       "<IPython.core.display.Javascript object>"
      ]
     },
     "metadata": {},
     "output_type": "display_data"
    }
   ],
   "source": [
    "target_col = \"label\"\n",
    "\n",
    "X_train = (\n",
    "    train_df.drop(target_col, axis=1)\n",
    "    .to_numpy(dtype=np.uint8)\n",
    "    .reshape(train_df.shape[0], 28, 28)\n",
    ")\n",
    "Y_train = train_df[target_col].to_numpy(dtype=np.uint8)\n",
    "\n",
    "X_test = test_df.to_numpy(dtype=np.uint8).reshape(test_df.shape[0], 28, 28)"
   ]
  },
  {
   "cell_type": "code",
   "execution_count": 13,
   "id": "669904e5",
   "metadata": {},
   "outputs": [
    {
     "data": {
      "text/plain": [
       "(42000, 28, 28)"
      ]
     },
     "execution_count": 13,
     "metadata": {},
     "output_type": "execute_result"
    },
    {
     "data": {
      "application/javascript": [
       "\n",
       "            setTimeout(function() {\n",
       "                var nbb_cell_id = 13;\n",
       "                var nbb_unformatted_code = \"X_train.shape\";\n",
       "                var nbb_formatted_code = \"X_train.shape\";\n",
       "                var nbb_cells = Jupyter.notebook.get_cells();\n",
       "                for (var i = 0; i < nbb_cells.length; ++i) {\n",
       "                    if (nbb_cells[i].input_prompt_number == nbb_cell_id) {\n",
       "                        if (nbb_cells[i].get_text() == nbb_unformatted_code) {\n",
       "                             nbb_cells[i].set_text(nbb_formatted_code);\n",
       "                        }\n",
       "                        break;\n",
       "                    }\n",
       "                }\n",
       "            }, 500);\n",
       "            "
      ],
      "text/plain": [
       "<IPython.core.display.Javascript object>"
      ]
     },
     "metadata": {},
     "output_type": "display_data"
    }
   ],
   "source": [
    "X_train.shape"
   ]
  },
  {
   "cell_type": "code",
   "execution_count": 14,
   "id": "ae383a29",
   "metadata": {},
   "outputs": [
    {
     "data": {
      "text/plain": [
       "(0, 255)"
      ]
     },
     "execution_count": 14,
     "metadata": {},
     "output_type": "execute_result"
    },
    {
     "data": {
      "application/javascript": [
       "\n",
       "            setTimeout(function() {\n",
       "                var nbb_cell_id = 14;\n",
       "                var nbb_unformatted_code = \"np.min(X_train), np.max(X_train)\";\n",
       "                var nbb_formatted_code = \"np.min(X_train), np.max(X_train)\";\n",
       "                var nbb_cells = Jupyter.notebook.get_cells();\n",
       "                for (var i = 0; i < nbb_cells.length; ++i) {\n",
       "                    if (nbb_cells[i].input_prompt_number == nbb_cell_id) {\n",
       "                        if (nbb_cells[i].get_text() == nbb_unformatted_code) {\n",
       "                             nbb_cells[i].set_text(nbb_formatted_code);\n",
       "                        }\n",
       "                        break;\n",
       "                    }\n",
       "                }\n",
       "            }, 500);\n",
       "            "
      ],
      "text/plain": [
       "<IPython.core.display.Javascript object>"
      ]
     },
     "metadata": {},
     "output_type": "display_data"
    }
   ],
   "source": [
    "np.min(X_train), np.max(X_train)"
   ]
  },
  {
   "cell_type": "code",
   "execution_count": 15,
   "id": "db01b746",
   "metadata": {},
   "outputs": [
    {
     "data": {
      "image/png": "[encoded data removed]",
      "text/plain": [
       "<Figure size 1152x576 with 1 Axes>"
      ]
     },
     "metadata": {
      "needs_background": "light"
     },
     "output_type": "display_data"
    },
    {
     "data": {
      "application/javascript": [
       "\n",
       "            setTimeout(function() {\n",
       "                var nbb_cell_id = 15;\n",
       "                var nbb_unformatted_code = \"fig = plt.figure(figsize=(16, 8))\\n\\nexample_digits = np.hstack(\\n    [X_train[np.nonzero(Y_train == i)][:4].reshape(28 * 4, -1) for i in range(10)]\\n)\\nplt.axis(\\\"off\\\")\\nplt.imshow(example_digits)\\nplt.show()\";\n",
       "                var nbb_formatted_code = \"fig = plt.figure(figsize=(16, 8))\\n\\nexample_digits = np.hstack(\\n    [X_train[np.nonzero(Y_train == i)][:4].reshape(28 * 4, -1) for i in range(10)]\\n)\\nplt.axis(\\\"off\\\")\\nplt.imshow(example_digits)\\nplt.show()\";\n",
       "                var nbb_cells = Jupyter.notebook.get_cells();\n",
       "                for (var i = 0; i < nbb_cells.length; ++i) {\n",
       "                    if (nbb_cells[i].input_prompt_number == nbb_cell_id) {\n",
       "                        if (nbb_cells[i].get_text() == nbb_unformatted_code) {\n",
       "                             nbb_cells[i].set_text(nbb_formatted_code);\n",
       "                        }\n",
       "                        break;\n",
       "                    }\n",
       "                }\n",
       "            }, 500);\n",
       "            "
      ],
      "text/plain": [
       "<IPython.core.display.Javascript object>"
      ]
     },
     "metadata": {},
     "output_type": "display_data"
    }
   ],
   "source": [
    "fig = plt.figure(figsize=(16, 8))\n",
    "\n",
    "example_digits = np.hstack(\n",
    "    [X_train[np.nonzero(Y_train == i)][:4].reshape(28 * 4, -1) for i in range(10)]\n",
    ")\n",
    "plt.axis(\"off\")\n",
    "plt.imshow(example_digits)\n",
    "plt.show()"
   ]
  },
  {
   "cell_type": "markdown",
   "id": "dee93ac8",
   "metadata": {},
   "source": [
    "### Model"
   ]
  },
  {
   "cell_type": "code",
   "execution_count": 16,
   "id": "a103add6",
   "metadata": {},
   "outputs": [
    {
     "data": {
      "application/javascript": [
       "\n",
       "            setTimeout(function() {\n",
       "                var nbb_cell_id = 16;\n",
       "                var nbb_unformatted_code = \"import torch\\nimport torch.nn as nn\\n\\n\\nclass SimpleCNN(nn.Module):\\n    def __init__(self):\\n        super().__init__()\\n        # (b, 1, 28, 28)\\n        self.conv1 = nn.Sequential(\\n            nn.Conv2d(1, 16, 3),\\n            nn.ReLU(),\\n            nn.MaxPool2d(2),\\n            nn.BatchNorm2d(16),\\n        )\\n        # (b, 32, 13, 13)\\n        self.conv2 = nn.Sequential(\\n            nn.Conv2d(16, 32, 3),\\n            nn.ReLU(),\\n            nn.MaxPool2d(2),\\n            nn.BatchNorm2d(32),\\n        )\\n        # (b, 32 * 5 * 5)\\n        self.linear = nn.Sequential(\\n            nn.Linear(800, 128),\\n            nn.ReLU(),\\n            nn.BatchNorm1d(128),\\n            nn.Dropout(0.5),\\n            nn.Linear(128, 10),\\n        )\\n        self.clf = nn.LogSoftmax(dim=1)\\n\\n    def forward(self, x):\\n        x = self.conv1(x)\\n        x = self.conv2(x)\\n        x = x.view(x.size(0), -1)\\n        x = self.linear(x)\\n        x = self.clf(x)\\n        return x\";\n",
       "                var nbb_formatted_code = \"import torch\\nimport torch.nn as nn\\n\\n\\nclass SimpleCNN(nn.Module):\\n    def __init__(self):\\n        super().__init__()\\n        # (b, 1, 28, 28)\\n        self.conv1 = nn.Sequential(\\n            nn.Conv2d(1, 16, 3),\\n            nn.ReLU(),\\n            nn.MaxPool2d(2),\\n            nn.BatchNorm2d(16),\\n        )\\n        # (b, 32, 13, 13)\\n        self.conv2 = nn.Sequential(\\n            nn.Conv2d(16, 32, 3),\\n            nn.ReLU(),\\n            nn.MaxPool2d(2),\\n            nn.BatchNorm2d(32),\\n        )\\n        # (b, 32 * 5 * 5)\\n        self.linear = nn.Sequential(\\n            nn.Linear(800, 128),\\n            nn.ReLU(),\\n            nn.BatchNorm1d(128),\\n            nn.Dropout(0.5),\\n            nn.Linear(128, 10),\\n        )\\n        self.clf = nn.LogSoftmax(dim=1)\\n\\n    def forward(self, x):\\n        x = self.conv1(x)\\n        x = self.conv2(x)\\n        x = x.view(x.size(0), -1)\\n        x = self.linear(x)\\n        x = self.clf(x)\\n        return x\";\n",
       "                var nbb_cells = Jupyter.notebook.get_cells();\n",
       "                for (var i = 0; i < nbb_cells.length; ++i) {\n",
       "                    if (nbb_cells[i].input_prompt_number == nbb_cell_id) {\n",
       "                        if (nbb_cells[i].get_text() == nbb_unformatted_code) {\n",
       "                             nbb_cells[i].set_text(nbb_formatted_code);\n",
       "                        }\n",
       "                        break;\n",
       "                    }\n",
       "                }\n",
       "            }, 500);\n",
       "            "
      ],
      "text/plain": [
       "<IPython.core.display.Javascript object>"
      ]
     },
     "metadata": {},
     "output_type": "display_data"
    }
   ],
   "source": [
    "import torch\n",
    "import torch.nn as nn\n",
    "\n",
    "\n",
    "class SimpleCNN(nn.Module):\n",
    "    def __init__(self):\n",
    "        super().__init__()\n",
    "        # (b, 1, 28, 28)\n",
    "        self.conv1 = nn.Sequential(\n",
    "            nn.Conv2d(1, 16, 3),\n",
    "            nn.ReLU(),\n",
    "            nn.MaxPool2d(2),\n",
    "            nn.BatchNorm2d(16),\n",
    "        )\n",
    "        # (b, 32, 13, 13)\n",
    "        self.conv2 = nn.Sequential(\n",
    "            nn.Conv2d(16, 32, 3),\n",
    "            nn.ReLU(),\n",
    "            nn.MaxPool2d(2),\n",
    "            nn.BatchNorm2d(32),\n",
    "        )\n",
    "        # (b, 32, 5, 5)\n",
    "        self.linear = nn.Sequential(\n",
    "            nn.Linear(800, 128),\n",
    "            nn.ReLU(),\n",
    "            nn.BatchNorm1d(128),\n",
    "            nn.Dropout(0.5),\n",
    "            nn.Linear(128, 10),\n",
    "        )\n",
    "        self.clf = nn.LogSoftmax(dim=1)\n",
    "\n",
    "    def forward(self, x):\n",
    "        x = self.conv1(x)\n",
    "        x = self.conv2(x)\n",
    "        x = x.view(x.size(0), -1)\n",
    "        x = self.linear(x)\n",
    "        x = self.clf(x)\n",
    "        return x"
   ]
  },
  {
   "cell_type": "code",
   "execution_count": 17,
   "id": "05f4f7ef",
   "metadata": {},
   "outputs": [
    {
     "name": "stdout",
     "output_type": "stream",
     "text": [
      "----------------------------------------------------------------\n",
      "        Layer (type)               Output Shape         Param #\n",
      "================================================================\n",
      "            Conv2d-1           [32, 16, 26, 26]             160\n",
      "              ReLU-2           [32, 16, 26, 26]               0\n",
      "         MaxPool2d-3           [32, 16, 13, 13]               0\n",
      "       BatchNorm2d-4           [32, 16, 13, 13]              32\n",
      "            Conv2d-5           [32, 32, 11, 11]           4,640\n",
      "              ReLU-6           [32, 32, 11, 11]               0\n",
      "         MaxPool2d-7             [32, 32, 5, 5]               0\n",
      "       BatchNorm2d-8             [32, 32, 5, 5]              64\n",
      "            Linear-9                  [32, 128]         102,528\n",
      "             ReLU-10                  [32, 128]               0\n",
      "      BatchNorm1d-11                  [32, 128]             256\n",
      "          Dropout-12                  [32, 128]               0\n",
      "           Linear-13                   [32, 10]           1,290\n",
      "       LogSoftmax-14                   [32, 10]               0\n",
      "================================================================\n",
      "Total params: 108,970\n",
      "Trainable params: 108,970\n",
      "Non-trainable params: 0\n",
      "----------------------------------------------------------------\n",
      "Input size (MB): 0.10\n",
      "Forward/backward pass size (MB): 9.01\n",
      "Params size (MB): 0.42\n",
      "Estimated Total Size (MB): 9.52\n",
      "----------------------------------------------------------------\n"
     ]
    },
    {
     "data": {
      "application/javascript": [
       "\n",
       "            setTimeout(function() {\n",
       "                var nbb_cell_id = 17;\n",
       "                var nbb_unformatted_code = \"from torchsummary import summary\\n\\nmodel = SimpleCNN()\\nsummary(model, (1, 28, 28), batch_size=32)\";\n",
       "                var nbb_formatted_code = \"from torchsummary import summary\\n\\nmodel = SimpleCNN()\\nsummary(model, (1, 28, 28), batch_size=32)\";\n",
       "                var nbb_cells = Jupyter.notebook.get_cells();\n",
       "                for (var i = 0; i < nbb_cells.length; ++i) {\n",
       "                    if (nbb_cells[i].input_prompt_number == nbb_cell_id) {\n",
       "                        if (nbb_cells[i].get_text() == nbb_unformatted_code) {\n",
       "                             nbb_cells[i].set_text(nbb_formatted_code);\n",
       "                        }\n",
       "                        break;\n",
       "                    }\n",
       "                }\n",
       "            }, 500);\n",
       "            "
      ],
      "text/plain": [
       "<IPython.core.display.Javascript object>"
      ]
     },
     "metadata": {},
     "output_type": "display_data"
    }
   ],
   "source": [
    "from torchsummary import summary\n",
    "\n",
    "model = SimpleCNN()\n",
    "summary(model, (1, 28, 28), batch_size=32)"
   ]
  },
  {
   "cell_type": "code",
   "execution_count": 18,
   "id": "55f85c8e",
   "metadata": {},
   "outputs": [
    {
     "data": {
      "application/javascript": [
       "\n",
       "            setTimeout(function() {\n",
       "                var nbb_cell_id = 18;\n",
       "                var nbb_unformatted_code = \"from sklearn.model_selection import train_test_split\\nfrom torch.utils.data import TensorDataset, DataLoader\\n\\n(\\n    X_train_split, \\n    X_val_split, \\n    Y_train_split, \\n    Y_val_split,\\n) = train_test_split(X_train, Y_train, train_size=0.7)\\n\\ntrain_dataset = TensorDataset(\\n    torch.tensor(\\n        (X_train_split.reshape(-1, 1, 28, 28) / 255 * 2) - 1,\\n        dtype=torch.float32,\\n    ),\\n    torch.tensor(Y_train_split),\\n)\\n\\nval_dataset = TensorDataset(\\n    torch.tensor(\\n        (X_val_split.reshape(-1, 1, 28, 28) / 255 * 2) - 1,\\n        dtype=torch.float32,\\n    ),\\n    torch.tensor(Y_val_split),\\n)\\n\\ntest_dataset = TensorDataset(\\n    torch.tensor(\\n        (X_test.reshape(-1, 1, 28, 28) / 255 * 2) - 1,\\n        dtype=torch.float32,\\n    ),\\n)\";\n",
       "                var nbb_formatted_code = \"from sklearn.model_selection import train_test_split\\nfrom torch.utils.data import TensorDataset, DataLoader\\n\\n(\\n    X_train_split,\\n    X_val_split,\\n    Y_train_split,\\n    Y_val_split,\\n) = train_test_split(X_train, Y_train, train_size=0.7)\\n\\ntrain_dataset = TensorDataset(\\n    torch.tensor(\\n        (X_train_split.reshape(-1, 1, 28, 28) / 255 * 2) - 1,\\n        dtype=torch.float32,\\n    ),\\n    torch.tensor(Y_train_split),\\n)\\n\\nval_dataset = TensorDataset(\\n    torch.tensor(\\n        (X_val_split.reshape(-1, 1, 28, 28) / 255 * 2) - 1,\\n        dtype=torch.float32,\\n    ),\\n    torch.tensor(Y_val_split),\\n)\\n\\ntest_dataset = TensorDataset(\\n    torch.tensor(\\n        (X_test.reshape(-1, 1, 28, 28) / 255 * 2) - 1,\\n        dtype=torch.float32,\\n    ),\\n)\";\n",
       "                var nbb_cells = Jupyter.notebook.get_cells();\n",
       "                for (var i = 0; i < nbb_cells.length; ++i) {\n",
       "                    if (nbb_cells[i].input_prompt_number == nbb_cell_id) {\n",
       "                        if (nbb_cells[i].get_text() == nbb_unformatted_code) {\n",
       "                             nbb_cells[i].set_text(nbb_formatted_code);\n",
       "                        }\n",
       "                        break;\n",
       "                    }\n",
       "                }\n",
       "            }, 500);\n",
       "            "
      ],
      "text/plain": [
       "<IPython.core.display.Javascript object>"
      ]
     },
     "metadata": {},
     "output_type": "display_data"
    }
   ],
   "source": [
    "from sklearn.model_selection import train_test_split\n",
    "from torch.utils.data import TensorDataset, DataLoader\n",
    "\n",
    "(\n",
    "    X_train_split, \n",
    "    X_val_split, \n",
    "    Y_train_split, \n",
    "    Y_val_split,\n",
    ") = train_test_split(X_train, Y_train, train_size=0.7)\n",
    "\n",
    "train_dataset = TensorDataset(\n",
    "    torch.tensor(\n",
    "        (X_train_split.reshape(-1, 1, 28, 28) / 255 * 2) - 1,\n",
    "        dtype=torch.float32,\n",
    "    ),\n",
    "    torch.tensor(Y_train_split),\n",
    ")\n",
    "\n",
    "val_dataset = TensorDataset(\n",
    "    torch.tensor(\n",
    "        (X_val_split.reshape(-1, 1, 28, 28) / 255 * 2) - 1,\n",
    "        dtype=torch.float32,\n",
    "    ),\n",
    "    torch.tensor(Y_val_split),\n",
    ")\n",
    "\n",
    "test_dataset = TensorDataset(\n",
    "    torch.tensor(\n",
    "        (X_test.reshape(-1, 1, 28, 28) / 255 * 2) - 1,\n",
    "        dtype=torch.float32,\n",
    "    ),\n",
    ")\n"
   ]
  },
  {
   "cell_type": "code",
   "execution_count": 19,
   "id": "20e86d7f",
   "metadata": {},
   "outputs": [
    {
     "data": {
      "application/javascript": [
       "\n",
       "            setTimeout(function() {\n",
       "                var nbb_cell_id = 19;\n",
       "                var nbb_unformatted_code = \"from torch.optim import Adam\\n\\nloss_f = nn.CrossEntropyLoss()\\noptimizer = Adam(model.parameters(), lr=0.0001)\";\n",
       "                var nbb_formatted_code = \"from torch.optim import Adam\\n\\nloss_f = nn.CrossEntropyLoss()\\noptimizer = Adam(model.parameters(), lr=0.0001)\";\n",
       "                var nbb_cells = Jupyter.notebook.get_cells();\n",
       "                for (var i = 0; i < nbb_cells.length; ++i) {\n",
       "                    if (nbb_cells[i].input_prompt_number == nbb_cell_id) {\n",
       "                        if (nbb_cells[i].get_text() == nbb_unformatted_code) {\n",
       "                             nbb_cells[i].set_text(nbb_formatted_code);\n",
       "                        }\n",
       "                        break;\n",
       "                    }\n",
       "                }\n",
       "            }, 500);\n",
       "            "
      ],
      "text/plain": [
       "<IPython.core.display.Javascript object>"
      ]
     },
     "metadata": {},
     "output_type": "display_data"
    }
   ],
   "source": [
    "from torch.optim import Adam\n",
    "\n",
    "loss_f = nn.CrossEntropyLoss()\n",
    "optimizer = Adam(model.parameters(), lr=0.0001)"
   ]
  },
  {
   "cell_type": "code",
   "execution_count": 20,
   "id": "11470896",
   "metadata": {},
   "outputs": [
    {
     "data": {
      "application/javascript": [
       "\n",
       "            setTimeout(function() {\n",
       "                var nbb_cell_id = 20;\n",
       "                var nbb_unformatted_code = \"from tqdm.notebook import tqdm\\n\\nbatch_size = 32\\nmax_num_epochs = 20\\nmin_delta_acc = 0.001\\npatience = 3\";\n",
       "                var nbb_formatted_code = \"from tqdm.notebook import tqdm\\n\\nbatch_size = 32\\nmax_num_epochs = 20\\nmin_delta_acc = 0.001\\npatience = 3\";\n",
       "                var nbb_cells = Jupyter.notebook.get_cells();\n",
       "                for (var i = 0; i < nbb_cells.length; ++i) {\n",
       "                    if (nbb_cells[i].input_prompt_number == nbb_cell_id) {\n",
       "                        if (nbb_cells[i].get_text() == nbb_unformatted_code) {\n",
       "                             nbb_cells[i].set_text(nbb_formatted_code);\n",
       "                        }\n",
       "                        break;\n",
       "                    }\n",
       "                }\n",
       "            }, 500);\n",
       "            "
      ],
      "text/plain": [
       "<IPython.core.display.Javascript object>"
      ]
     },
     "metadata": {},
     "output_type": "display_data"
    }
   ],
   "source": [
    "from tqdm.notebook import tqdm\n",
    "\n",
    "batch_size = 32\n",
    "max_num_epochs = 20\n",
    "min_delta_acc = 0.001\n",
    "patience = 3"
   ]
  },
  {
   "cell_type": "code",
   "execution_count": 21,
   "id": "6a01de1a",
   "metadata": {},
   "outputs": [
    {
     "data": {
      "application/vnd.jupyter.widget-view+json": {
       "model_id": "0a85ab786dc148109b4262ec5dc32b87",
       "version_major": 2,
       "version_minor": 0
      },
      "text/plain": [
       "  0%|          | 0/919 [00:00<?, ?it/s]"
      ]
     },
     "metadata": {},
     "output_type": "display_data"
    },
    {
     "data": {
      "application/vnd.jupyter.widget-view+json": {
       "model_id": "b75aa909363a4844806ecb2602aa883c",
       "version_major": 2,
       "version_minor": 0
      },
      "text/plain": [
       "  0%|          | 0/394 [00:00<?, ?it/s]"
      ]
     },
     "metadata": {},
     "output_type": "display_data"
    },
    {
     "name": "stdout",
     "output_type": "stream",
     "text": [
      "Epoch  1, vAcc = 95.254% (  +nan%), Loss = 458.306\n"
     ]
    },
    {
     "data": {
      "application/vnd.jupyter.widget-view+json": {
       "model_id": "910a350bd649439b9a927234ffe8166f",
       "version_major": 2,
       "version_minor": 0
      },
      "text/plain": [
       "  0%|          | 0/919 [00:00<?, ?it/s]"
      ]
     },
     "metadata": {},
     "output_type": "display_data"
    },
    {
     "data": {
      "application/vnd.jupyter.widget-view+json": {
       "model_id": "ce2302e928834c9693c1955335e2510d",
       "version_major": 2,
       "version_minor": 0
      },
      "text/plain": [
       "  0%|          | 0/394 [00:00<?, ?it/s]"
      ]
     },
     "metadata": {},
     "output_type": "display_data"
    },
    {
     "name": "stdout",
     "output_type": "stream",
     "text": [
      "Epoch  2, vAcc = 96.516% (+1.325%), Loss = 153.312\n"
     ]
    },
    {
     "data": {
      "application/vnd.jupyter.widget-view+json": {
       "model_id": "71c5b4c2a3274890a1e89785945070c8",
       "version_major": 2,
       "version_minor": 0
      },
      "text/plain": [
       "  0%|          | 0/919 [00:00<?, ?it/s]"
      ]
     },
     "metadata": {},
     "output_type": "display_data"
    },
    {
     "data": {
      "application/vnd.jupyter.widget-view+json": {
       "model_id": "b658b1c8bb2f4b228fe5040f7401bb04",
       "version_major": 2,
       "version_minor": 0
      },
      "text/plain": [
       "  0%|          | 0/394 [00:00<?, ?it/s]"
      ]
     },
     "metadata": {},
     "output_type": "display_data"
    },
    {
     "name": "stdout",
     "output_type": "stream",
     "text": [
      "Epoch  3, vAcc = 97.072% (+0.576%), Loss = 101.674\n"
     ]
    },
    {
     "data": {
      "application/vnd.jupyter.widget-view+json": {
       "model_id": "d8f44af17e9e48cbb7a7db22ef907c78",
       "version_major": 2,
       "version_minor": 0
      },
      "text/plain": [
       "  0%|          | 0/919 [00:00<?, ?it/s]"
      ]
     },
     "metadata": {},
     "output_type": "display_data"
    },
    {
     "data": {
      "application/vnd.jupyter.widget-view+json": {
       "model_id": "2f5e972fd44a49fd8f72b704ffd48ba5",
       "version_major": 2,
       "version_minor": 0
      },
      "text/plain": [
       "  0%|          | 0/394 [00:00<?, ?it/s]"
      ]
     },
     "metadata": {},
     "output_type": "display_data"
    },
    {
     "name": "stdout",
     "output_type": "stream",
     "text": [
      "Epoch  4, vAcc = 97.603% (+0.548%), Loss = 79.932\n"
     ]
    },
    {
     "data": {
      "application/vnd.jupyter.widget-view+json": {
       "model_id": "26497a4365e14cb7a5efdcc66f921ecc",
       "version_major": 2,
       "version_minor": 0
      },
      "text/plain": [
       "  0%|          | 0/919 [00:00<?, ?it/s]"
      ]
     },
     "metadata": {},
     "output_type": "display_data"
    },
    {
     "data": {
      "application/vnd.jupyter.widget-view+json": {
       "model_id": "2de0fecaad1a49e3a3aa1e10158eae89",
       "version_major": 2,
       "version_minor": 0
      },
      "text/plain": [
       "  0%|          | 0/394 [00:00<?, ?it/s]"
      ]
     },
     "metadata": {},
     "output_type": "display_data"
    },
    {
     "name": "stdout",
     "output_type": "stream",
     "text": [
      "Epoch  5, vAcc = 97.603% (+0.000%), Loss = 62.411\n"
     ]
    },
    {
     "data": {
      "application/vnd.jupyter.widget-view+json": {
       "model_id": "8000e6694bb64fafa0d6394c693a4380",
       "version_major": 2,
       "version_minor": 0
      },
      "text/plain": [
       "  0%|          | 0/919 [00:00<?, ?it/s]"
      ]
     },
     "metadata": {},
     "output_type": "display_data"
    },
    {
     "data": {
      "application/vnd.jupyter.widget-view+json": {
       "model_id": "c914325811b84a2e8f1432f9e5fd1234",
       "version_major": 2,
       "version_minor": 0
      },
      "text/plain": [
       "  0%|          | 0/394 [00:00<?, ?it/s]"
      ]
     },
     "metadata": {},
     "output_type": "display_data"
    },
    {
     "name": "stdout",
     "output_type": "stream",
     "text": [
      "Epoch  6, vAcc = 97.683% (+0.081%), Loss = 54.702\n"
     ]
    },
    {
     "data": {
      "application/vnd.jupyter.widget-view+json": {
       "model_id": "666fd79368f6484b8c5c105d4b69de3b",
       "version_major": 2,
       "version_minor": 0
      },
      "text/plain": [
       "  0%|          | 0/919 [00:00<?, ?it/s]"
      ]
     },
     "metadata": {},
     "output_type": "display_data"
    },
    {
     "data": {
      "application/vnd.jupyter.widget-view+json": {
       "model_id": "9808402141f3466ba48db1c3d5f5265b",
       "version_major": 2,
       "version_minor": 0
      },
      "text/plain": [
       "  0%|          | 0/394 [00:00<?, ?it/s]"
      ]
     },
     "metadata": {},
     "output_type": "display_data"
    },
    {
     "name": "stdout",
     "output_type": "stream",
     "text": [
      "Epoch  7, vAcc = 97.841% (+0.162%), Loss = 49.425\n"
     ]
    },
    {
     "data": {
      "application/vnd.jupyter.widget-view+json": {
       "model_id": "c418afe11d8348d69dfb69b0b907d7e3",
       "version_major": 2,
       "version_minor": 0
      },
      "text/plain": [
       "  0%|          | 0/919 [00:00<?, ?it/s]"
      ]
     },
     "metadata": {},
     "output_type": "display_data"
    },
    {
     "data": {
      "application/vnd.jupyter.widget-view+json": {
       "model_id": "2f7f37f0b89b489f99c2ad617b1b0590",
       "version_major": 2,
       "version_minor": 0
      },
      "text/plain": [
       "  0%|          | 0/394 [00:00<?, ?it/s]"
      ]
     },
     "metadata": {},
     "output_type": "display_data"
    },
    {
     "name": "stdout",
     "output_type": "stream",
     "text": [
      "Epoch  8, vAcc = 97.881% (+0.041%), Loss = 42.983\n"
     ]
    },
    {
     "data": {
      "application/vnd.jupyter.widget-view+json": {
       "model_id": "17f7bb3445ec41e59c09395f5c07059d",
       "version_major": 2,
       "version_minor": 0
      },
      "text/plain": [
       "  0%|          | 0/919 [00:00<?, ?it/s]"
      ]
     },
     "metadata": {},
     "output_type": "display_data"
    },
    {
     "data": {
      "application/vnd.jupyter.widget-view+json": {
       "model_id": "1dd48780c961443cadfe3da1038ce632",
       "version_major": 2,
       "version_minor": 0
      },
      "text/plain": [
       "  0%|          | 0/394 [00:00<?, ?it/s]"
      ]
     },
     "metadata": {},
     "output_type": "display_data"
    },
    {
     "name": "stdout",
     "output_type": "stream",
     "text": [
      "Epoch  9, vAcc = 98.032% (+0.154%), Loss = 36.340\n"
     ]
    },
    {
     "data": {
      "application/vnd.jupyter.widget-view+json": {
       "model_id": "8e2a05d2fd9541c9ab2ba48ccdd2332b",
       "version_major": 2,
       "version_minor": 0
      },
      "text/plain": [
       "  0%|          | 0/919 [00:00<?, ?it/s]"
      ]
     },
     "metadata": {},
     "output_type": "display_data"
    },
    {
     "data": {
      "application/vnd.jupyter.widget-view+json": {
       "model_id": "1c54c37efb504814827b545848bde211",
       "version_major": 2,
       "version_minor": 0
      },
      "text/plain": [
       "  0%|          | 0/394 [00:00<?, ?it/s]"
      ]
     },
     "metadata": {},
     "output_type": "display_data"
    },
    {
     "name": "stdout",
     "output_type": "stream",
     "text": [
      "Epoch 10, vAcc = 98.167% (+0.138%), Loss = 33.611\n"
     ]
    },
    {
     "data": {
      "application/vnd.jupyter.widget-view+json": {
       "model_id": "0bb6e56f48eb4e189d7325cc376c80dd",
       "version_major": 2,
       "version_minor": 0
      },
      "text/plain": [
       "  0%|          | 0/919 [00:00<?, ?it/s]"
      ]
     },
     "metadata": {},
     "output_type": "display_data"
    },
    {
     "data": {
      "application/vnd.jupyter.widget-view+json": {
       "model_id": "db091b2900974d25a9082bb0e5c369ba",
       "version_major": 2,
       "version_minor": 0
      },
      "text/plain": [
       "  0%|          | 0/394 [00:00<?, ?it/s]"
      ]
     },
     "metadata": {},
     "output_type": "display_data"
    },
    {
     "name": "stdout",
     "output_type": "stream",
     "text": [
      "Epoch 11, vAcc = 98.119% (-0.049%), Loss = 31.109\n"
     ]
    },
    {
     "data": {
      "application/vnd.jupyter.widget-view+json": {
       "model_id": "db6fff915dc2488b899c66f0f1165e54",
       "version_major": 2,
       "version_minor": 0
      },
      "text/plain": [
       "  0%|          | 0/919 [00:00<?, ?it/s]"
      ]
     },
     "metadata": {},
     "output_type": "display_data"
    },
    {
     "data": {
      "application/vnd.jupyter.widget-view+json": {
       "model_id": "94a445ba0fa640f99b84e174718ff024",
       "version_major": 2,
       "version_minor": 0
      },
      "text/plain": [
       "  0%|          | 0/394 [00:00<?, ?it/s]"
      ]
     },
     "metadata": {},
     "output_type": "display_data"
    },
    {
     "name": "stdout",
     "output_type": "stream",
     "text": [
      "Epoch 12, vAcc = 98.008% (-0.113%), Loss = 25.428\n",
      "Validation accuracy over last 3 iterations improved less than min delta 0.10%, stopping\n",
      "\n",
      "CPU times: user 3min 33s, sys: 28.1 s, total: 4min 1s\n",
      "Wall time: 4min 24s\n"
     ]
    },
    {
     "data": {
      "application/javascript": [
       "\n",
       "            setTimeout(function() {\n",
       "                var nbb_cell_id = 21;\n",
       "                var nbb_unformatted_code = \"%%time\\n\\ntrain_loader = DataLoader(\\n    dataset=train_dataset,\\n    batch_size=batch_size,\\n    shuffle=True,\\n    num_workers=8,\\n)\\n\\nval_loader = DataLoader(\\n    dataset=val_dataset,\\n    batch_size=batch_size,\\n    shuffle=False,\\n    num_workers=8,\\n)\\n\\nepoch_losses = [np.nan for _ in range(patience)]\\nepoch_val_acc = [np.nan for _ in range(patience)]\\nfor epoch_idx in range(max_num_epochs):\\n    # training\\n    epoch_loss = 0.0\\n    for batch_idx, (x, y) in tqdm(enumerate(train_loader), total=len(train_loader)):\\n        p_hat = model(x)\\n        loss = loss_f(p_hat, y)\\n\\n        optimizer.zero_grad()\\n        loss.backward()\\n        optimizer.step()\\n        \\n        epoch_loss += loss.item()\\n\\n    # validation\\n    num_correct = 0\\n    for batch_idx, (x, y) in tqdm(enumerate(val_loader), total=len(val_loader)):\\n        p_hat = model(x)\\n        pred = torch.max(p_hat, 1)[1]        \\n        num_correct += (y == pred).sum().item()\\n\\n    val_acc = num_correct / X_val_split.shape[0]\\n    acc_delta = (val_acc - epoch_val_acc[-1]) / epoch_val_acc[-1]\\n    print(\\n        f\\\"Epoch {epoch_idx + 1:>2d}, \\\"\\n        f\\\"vAcc = {val_acc*100:>6.3f}% ({acc_delta*100:>+6.3f}%), \\\"\\n        f\\\"Loss = {epoch_loss:.3f}\\\"\\n    )\\n    \\n    # early stopping check\\n    acc_delta_offset = (val_acc - epoch_val_acc[-patience]) / epoch_val_acc[-patience]\\n    if abs(acc_delta_offset) < min_delta_acc:\\n        print(\\n            f\\\"Validation accuracy over last {patience} iterations improved \\\"\\n            f\\\"less than min delta {min_delta_acc*100:.2f}%, stopping\\\\n\\\"\\n        )\\n        break\\n    \\n    epoch_val_acc.append(val_acc)\\n    epoch_losses.append(epoch_loss)\\n\\nepoch_val_acc = epoch_val_acc[patience:]\\nepoch_losses = epoch_losses[patience:]\";\n",
       "                var nbb_formatted_code = \"%%time\\n\\ntrain_loader = DataLoader(\\n    dataset=train_dataset,\\n    batch_size=batch_size,\\n    shuffle=True,\\n    num_workers=8,\\n)\\n\\nval_loader = DataLoader(\\n    dataset=val_dataset,\\n    batch_size=batch_size,\\n    shuffle=False,\\n    num_workers=8,\\n)\\n\\nepoch_losses = [np.nan for _ in range(patience)]\\nepoch_val_acc = [np.nan for _ in range(patience)]\\nfor epoch_idx in range(max_num_epochs):\\n    # training\\n    epoch_loss = 0.0\\n    for batch_idx, (x, y) in tqdm(enumerate(train_loader), total=len(train_loader)):\\n        p_hat = model(x)\\n        loss = loss_f(p_hat, y)\\n\\n        optimizer.zero_grad()\\n        loss.backward()\\n        optimizer.step()\\n        \\n        epoch_loss += loss.item()\\n\\n    # validation\\n    num_correct = 0\\n    for batch_idx, (x, y) in tqdm(enumerate(val_loader), total=len(val_loader)):\\n        p_hat = model(x)\\n        pred = torch.max(p_hat, 1)[1]        \\n        num_correct += (y == pred).sum().item()\\n\\n    val_acc = num_correct / X_val_split.shape[0]\\n    acc_delta = (val_acc - epoch_val_acc[-1]) / epoch_val_acc[-1]\\n    print(\\n        f\\\"Epoch {epoch_idx + 1:>2d}, \\\"\\n        f\\\"vAcc = {val_acc*100:>6.3f}% ({acc_delta*100:>+6.3f}%), \\\"\\n        f\\\"Loss = {epoch_loss:.3f}\\\"\\n    )\\n    \\n    # early stopping check\\n    acc_delta_offset = (val_acc - epoch_val_acc[-patience]) / epoch_val_acc[-patience]\\n    if abs(acc_delta_offset) < min_delta_acc:\\n        print(\\n            f\\\"Validation accuracy over last {patience} iterations improved \\\"\\n            f\\\"less than min delta {min_delta_acc*100:.2f}%, stopping\\\\n\\\"\\n        )\\n        break\\n    \\n    epoch_val_acc.append(val_acc)\\n    epoch_losses.append(epoch_loss)\\n\\nepoch_val_acc = epoch_val_acc[patience:]\\nepoch_losses = epoch_losses[patience:]\";\n",
       "                var nbb_cells = Jupyter.notebook.get_cells();\n",
       "                for (var i = 0; i < nbb_cells.length; ++i) {\n",
       "                    if (nbb_cells[i].input_prompt_number == nbb_cell_id) {\n",
       "                        if (nbb_cells[i].get_text() == nbb_unformatted_code) {\n",
       "                             nbb_cells[i].set_text(nbb_formatted_code);\n",
       "                        }\n",
       "                        break;\n",
       "                    }\n",
       "                }\n",
       "            }, 500);\n",
       "            "
      ],
      "text/plain": [
       "<IPython.core.display.Javascript object>"
      ]
     },
     "metadata": {},
     "output_type": "display_data"
    }
   ],
   "source": [
    "%%time\n",
    "\n",
    "train_loader = DataLoader(\n",
    "    dataset=train_dataset,\n",
    "    batch_size=batch_size,\n",
    "    shuffle=True,\n",
    "    num_workers=8,\n",
    ")\n",
    "\n",
    "val_loader = DataLoader(\n",
    "    dataset=val_dataset,\n",
    "    batch_size=batch_size,\n",
    "    shuffle=False,\n",
    "    num_workers=8,\n",
    ")\n",
    "\n",
    "epoch_losses = [np.nan for _ in range(patience)]\n",
    "epoch_val_acc = [np.nan for _ in range(patience)]\n",
    "for epoch_idx in range(max_num_epochs):\n",
    "    # training\n",
    "    epoch_loss = 0.0\n",
    "    for batch_idx, (x, y) in tqdm(enumerate(train_loader), total=len(train_loader)):\n",
    "        p_hat = model(x)\n",
    "        loss = loss_f(p_hat, y)\n",
    "\n",
    "        optimizer.zero_grad()\n",
    "        loss.backward()\n",
    "        optimizer.step()\n",
    "        \n",
    "        epoch_loss += loss.item()\n",
    "\n",
    "    # validation\n",
    "    num_correct = 0\n",
    "    for batch_idx, (x, y) in tqdm(enumerate(val_loader), total=len(val_loader)):\n",
    "        p_hat = model(x)\n",
    "        pred = torch.max(p_hat, 1)[1]        \n",
    "        num_correct += (y == pred).sum().item()\n",
    "\n",
    "    val_acc = num_correct / X_val_split.shape[0]\n",
    "    acc_delta = (val_acc - epoch_val_acc[-1]) / epoch_val_acc[-1]\n",
    "    print(\n",
    "        f\"Epoch {epoch_idx + 1:>2d}, \"\n",
    "        f\"vAcc = {val_acc*100:>6.3f}% ({acc_delta*100:>+6.3f}%), \"\n",
    "        f\"Loss = {epoch_loss:.3f}\"\n",
    "    )\n",
    "    \n",
    "    # early stopping check\n",
    "    acc_delta_offset = (val_acc - epoch_val_acc[-patience]) / epoch_val_acc[-patience]\n",
    "    if abs(acc_delta_offset) < min_delta_acc:\n",
    "        print(\n",
    "            f\"Validation accuracy over last {patience} iterations improved \"\n",
    "            f\"less than min delta {min_delta_acc*100:.2f}%, stopping\\n\"\n",
    "        )\n",
    "        break\n",
    "    \n",
    "    epoch_val_acc.append(val_acc)\n",
    "    epoch_losses.append(epoch_loss)\n",
    "\n",
    "epoch_val_acc = epoch_val_acc[patience:]\n",
    "epoch_losses = epoch_losses[patience:]"
   ]
  },
  {
   "cell_type": "code",
   "execution_count": 22,
   "id": "4cb8119d",
   "metadata": {},
   "outputs": [
    {
     "data": {
      "image/png": "[encoded data removed]",
      "text/plain": [
       "<Figure size 576x288 with 2 Axes>"
      ]
     },
     "metadata": {
      "needs_background": "light"
     },
     "output_type": "display_data"
    },
    {
     "data": {
      "application/javascript": [
       "\n",
       "            setTimeout(function() {\n",
       "                var nbb_cell_id = 22;\n",
       "                var nbb_unformatted_code = \"train_val_acc = np.array(epoch_val_acc)\\ntrain_loss = np.array(epoch_losses)\\n\\nn_samples = train_loss.shape[0]\\n\\nsns.lineplot(x=np.arange(n_samples), y=train_loss, color=\\\"red\\\")\\nax = plt.twinx()\\nsns.lineplot(x=np.arange(n_samples), y=train_val_acc, color=\\\"green\\\", ax=ax)\\nplt.title(\\\"Training loss/accuracy by epoch\\\")\\nplt.show()\";\n",
       "                var nbb_formatted_code = \"train_val_acc = np.array(epoch_val_acc)\\ntrain_loss = np.array(epoch_losses)\\n\\nn_samples = train_loss.shape[0]\\n\\nsns.lineplot(x=np.arange(n_samples), y=train_loss, color=\\\"red\\\")\\nax = plt.twinx()\\nsns.lineplot(x=np.arange(n_samples), y=train_val_acc, color=\\\"green\\\", ax=ax)\\nplt.title(\\\"Training loss/accuracy by epoch\\\")\\nplt.show()\";\n",
       "                var nbb_cells = Jupyter.notebook.get_cells();\n",
       "                for (var i = 0; i < nbb_cells.length; ++i) {\n",
       "                    if (nbb_cells[i].input_prompt_number == nbb_cell_id) {\n",
       "                        if (nbb_cells[i].get_text() == nbb_unformatted_code) {\n",
       "                             nbb_cells[i].set_text(nbb_formatted_code);\n",
       "                        }\n",
       "                        break;\n",
       "                    }\n",
       "                }\n",
       "            }, 500);\n",
       "            "
      ],
      "text/plain": [
       "<IPython.core.display.Javascript object>"
      ]
     },
     "metadata": {},
     "output_type": "display_data"
    }
   ],
   "source": [
    "train_val_acc = np.array(epoch_val_acc)\n",
    "train_loss = np.array(epoch_losses)\n",
    "\n",
    "n_samples = train_loss.shape[0]\n",
    "\n",
    "sns.lineplot(x=np.arange(n_samples), y=train_loss, color=\"red\")\n",
    "ax = plt.twinx()\n",
    "sns.lineplot(x=np.arange(n_samples), y=train_val_acc, color=\"green\", ax=ax)\n",
    "plt.title(\"Training loss/accuracy by epoch\")\n",
    "plt.show()"
   ]
  },
  {
   "cell_type": "code",
   "execution_count": 23,
   "id": "77211171",
   "metadata": {},
   "outputs": [
    {
     "data": {
      "application/javascript": [
       "\n",
       "            setTimeout(function() {\n",
       "                var nbb_cell_id = 23;\n",
       "                var nbb_unformatted_code = \"torch.save(model.state_dict(), f\\\"mnist_cnn.pt\\\")\";\n",
       "                var nbb_formatted_code = \"torch.save(model.state_dict(), f\\\"mnist_cnn.pt\\\")\";\n",
       "                var nbb_cells = Jupyter.notebook.get_cells();\n",
       "                for (var i = 0; i < nbb_cells.length; ++i) {\n",
       "                    if (nbb_cells[i].input_prompt_number == nbb_cell_id) {\n",
       "                        if (nbb_cells[i].get_text() == nbb_unformatted_code) {\n",
       "                             nbb_cells[i].set_text(nbb_formatted_code);\n",
       "                        }\n",
       "                        break;\n",
       "                    }\n",
       "                }\n",
       "            }, 500);\n",
       "            "
      ],
      "text/plain": [
       "<IPython.core.display.Javascript object>"
      ]
     },
     "metadata": {},
     "output_type": "display_data"
    }
   ],
   "source": [
    "torch.save(model.state_dict(), f\"mnist_cnn.pt\")"
   ]
  },
  {
   "cell_type": "markdown",
   "id": "9a760dc6",
   "metadata": {},
   "source": [
    "### Predict"
   ]
  },
  {
   "cell_type": "code",
   "execution_count": 24,
   "id": "fad0d923",
   "metadata": {},
   "outputs": [
    {
     "data": {
      "application/vnd.jupyter.widget-view+json": {
       "model_id": "33bb5959a7e7436fbc12ffe3ed207d29",
       "version_major": 2,
       "version_minor": 0
      },
      "text/plain": [
       "  0%|          | 0/875 [00:00<?, ?it/s]"
      ]
     },
     "metadata": {},
     "output_type": "display_data"
    },
    {
     "data": {
      "application/javascript": [
       "\n",
       "            setTimeout(function() {\n",
       "                var nbb_cell_id = 24;\n",
       "                var nbb_unformatted_code = \"test_loader = DataLoader(\\n    dataset=test_dataset,\\n    batch_size=batch_size,\\n    shuffle=False,\\n    num_workers=8,\\n)\\n\\npredictions = []\\n\\nfor batch_idx, data in tqdm(enumerate(test_loader), total=len(test_loader)):\\n    (x,) = data\\n    p_hat = model(x)\\n\\n    values, indices = torch.max(p_hat, 1)\\n    predictions.append(indices.numpy())\";\n",
       "                var nbb_formatted_code = \"test_loader = DataLoader(\\n    dataset=test_dataset,\\n    batch_size=batch_size,\\n    shuffle=False,\\n    num_workers=8,\\n)\\n\\npredictions = []\\n\\nfor batch_idx, data in tqdm(enumerate(test_loader), total=len(test_loader)):\\n    (x,) = data\\n    p_hat = model(x)\\n\\n    values, indices = torch.max(p_hat, 1)\\n    predictions.append(indices.numpy())\";\n",
       "                var nbb_cells = Jupyter.notebook.get_cells();\n",
       "                for (var i = 0; i < nbb_cells.length; ++i) {\n",
       "                    if (nbb_cells[i].input_prompt_number == nbb_cell_id) {\n",
       "                        if (nbb_cells[i].get_text() == nbb_unformatted_code) {\n",
       "                             nbb_cells[i].set_text(nbb_formatted_code);\n",
       "                        }\n",
       "                        break;\n",
       "                    }\n",
       "                }\n",
       "            }, 500);\n",
       "            "
      ],
      "text/plain": [
       "<IPython.core.display.Javascript object>"
      ]
     },
     "metadata": {},
     "output_type": "display_data"
    }
   ],
   "source": [
    "test_loader = DataLoader(\n",
    "    dataset=test_dataset,\n",
    "    batch_size=batch_size,\n",
    "    shuffle=False,\n",
    "    num_workers=8,\n",
    ")\n",
    "\n",
    "predictions = []\n",
    "\n",
    "for batch_idx, data in tqdm(enumerate(test_loader), total=len(test_loader)):\n",
    "    (x,) = data\n",
    "    p_hat = model(x)\n",
    "\n",
    "    values, indices = torch.max(p_hat, 1)\n",
    "    predictions.append(indices.numpy())"
   ]
  },
  {
   "cell_type": "code",
   "execution_count": 25,
   "id": "df7f42ad",
   "metadata": {},
   "outputs": [
    {
     "data": {
      "application/javascript": [
       "\n",
       "            setTimeout(function() {\n",
       "                var nbb_cell_id = 25;\n",
       "                var nbb_unformatted_code = \"predictions = np.array(predictions).reshape(-1)\";\n",
       "                var nbb_formatted_code = \"predictions = np.array(predictions).reshape(-1)\";\n",
       "                var nbb_cells = Jupyter.notebook.get_cells();\n",
       "                for (var i = 0; i < nbb_cells.length; ++i) {\n",
       "                    if (nbb_cells[i].input_prompt_number == nbb_cell_id) {\n",
       "                        if (nbb_cells[i].get_text() == nbb_unformatted_code) {\n",
       "                             nbb_cells[i].set_text(nbb_formatted_code);\n",
       "                        }\n",
       "                        break;\n",
       "                    }\n",
       "                }\n",
       "            }, 500);\n",
       "            "
      ],
      "text/plain": [
       "<IPython.core.display.Javascript object>"
      ]
     },
     "metadata": {},
     "output_type": "display_data"
    }
   ],
   "source": [
    "predictions = np.array(predictions).reshape(-1)"
   ]
  },
  {
   "cell_type": "code",
   "execution_count": 26,
   "id": "da8966b7",
   "metadata": {},
   "outputs": [
    {
     "data": {
      "image/png": "[encoded data removed]",
      "text/plain": [
       "<Figure size 1152x720 with 60 Axes>"
      ]
     },
     "metadata": {
      "needs_background": "light"
     },
     "output_type": "display_data"
    },
    {
     "data": {
      "application/javascript": [
       "\n",
       "            setTimeout(function() {\n",
       "                var nbb_cell_id = 26;\n",
       "                var nbb_unformatted_code = \"fig = plt.figure(figsize=(16, 10))\\n\\nn_rows, n_cols = 6, 10\\n\\nfor i in range(n_rows * n_cols):\\n    fig.add_subplot(n_rows, n_cols, i + 1)\\n    plt.imshow(X_test[i])\\n    plt.axis(\\\"off\\\")\\n    plt.title(predictions[i])\\n\\nplt.show()\";\n",
       "                var nbb_formatted_code = \"fig = plt.figure(figsize=(16, 10))\\n\\nn_rows, n_cols = 6, 10\\n\\nfor i in range(n_rows * n_cols):\\n    fig.add_subplot(n_rows, n_cols, i + 1)\\n    plt.imshow(X_test[i])\\n    plt.axis(\\\"off\\\")\\n    plt.title(predictions[i])\\n\\nplt.show()\";\n",
       "                var nbb_cells = Jupyter.notebook.get_cells();\n",
       "                for (var i = 0; i < nbb_cells.length; ++i) {\n",
       "                    if (nbb_cells[i].input_prompt_number == nbb_cell_id) {\n",
       "                        if (nbb_cells[i].get_text() == nbb_unformatted_code) {\n",
       "                             nbb_cells[i].set_text(nbb_formatted_code);\n",
       "                        }\n",
       "                        break;\n",
       "                    }\n",
       "                }\n",
       "            }, 500);\n",
       "            "
      ],
      "text/plain": [
       "<IPython.core.display.Javascript object>"
      ]
     },
     "metadata": {},
     "output_type": "display_data"
    }
   ],
   "source": [
    "fig = plt.figure(figsize=(16, 10))\n",
    "\n",
    "n_rows, n_cols = 6, 10\n",
    "\n",
    "for i in range(n_rows * n_cols):\n",
    "    fig.add_subplot(n_rows, n_cols, i + 1)\n",
    "    plt.imshow(X_test[i])\n",
    "    plt.axis(\"off\")\n",
    "    plt.title(predictions[i])\n",
    "\n",
    "plt.show()"
   ]
  },
  {
   "cell_type": "code",
   "execution_count": 27,
   "id": "b58ab40c",
   "metadata": {},
   "outputs": [
    {
     "data": {
      "text/html": [
       "<div>\n",
       "<style scoped>\n",
       "    .dataframe tbody tr th:only-of-type {\n",
       "        vertical-align: middle;\n",
       "    }\n",
       "\n",
       "    .dataframe tbody tr th {\n",
       "        vertical-align: top;\n",
       "    }\n",
       "\n",
       "    .dataframe thead th {\n",
       "        text-align: right;\n",
       "    }\n",
       "</style>\n",
       "<table border=\"1\" class=\"dataframe\">\n",
       "  <thead>\n",
       "    <tr style=\"text-align: right;\">\n",
       "      <th></th>\n",
       "      <th>ImageId</th>\n",
       "      <th>Label</th>\n",
       "    </tr>\n",
       "  </thead>\n",
       "  <tbody>\n",
       "    <tr>\n",
       "      <th>0</th>\n",
       "      <td>1</td>\n",
       "      <td>2</td>\n",
       "    </tr>\n",
       "    <tr>\n",
       "      <th>1</th>\n",
       "      <td>2</td>\n",
       "      <td>0</td>\n",
       "    </tr>\n",
       "    <tr>\n",
       "      <th>2</th>\n",
       "      <td>3</td>\n",
       "      <td>9</td>\n",
       "    </tr>\n",
       "    <tr>\n",
       "      <th>3</th>\n",
       "      <td>4</td>\n",
       "      <td>9</td>\n",
       "    </tr>\n",
       "    <tr>\n",
       "      <th>4</th>\n",
       "      <td>5</td>\n",
       "      <td>3</td>\n",
       "    </tr>\n",
       "  </tbody>\n",
       "</table>\n",
       "</div>"
      ],
      "text/plain": [
       "   ImageId  Label\n",
       "0        1      2\n",
       "1        2      0\n",
       "2        3      9\n",
       "3        4      9\n",
       "4        5      3"
      ]
     },
     "execution_count": 27,
     "metadata": {},
     "output_type": "execute_result"
    },
    {
     "data": {
      "application/javascript": [
       "\n",
       "            setTimeout(function() {\n",
       "                var nbb_cell_id = 27;\n",
       "                var nbb_unformatted_code = \"submission_df = (\\n    pd.DataFrame(predictions, columns=[\\\"Label\\\"])\\n    .reset_index()\\n    .assign(\\n        ImageId=lambda df: df[\\\"index\\\"] + 1,\\n    )\\n    .drop(\\\"index\\\", axis=1)\\n)[[\\\"ImageId\\\", \\\"Label\\\"]]\\nsubmission_df.head()\";\n",
       "                var nbb_formatted_code = \"submission_df = (\\n    pd.DataFrame(predictions, columns=[\\\"Label\\\"])\\n    .reset_index()\\n    .assign(\\n        ImageId=lambda df: df[\\\"index\\\"] + 1,\\n    )\\n    .drop(\\\"index\\\", axis=1)\\n)[[\\\"ImageId\\\", \\\"Label\\\"]]\\nsubmission_df.head()\";\n",
       "                var nbb_cells = Jupyter.notebook.get_cells();\n",
       "                for (var i = 0; i < nbb_cells.length; ++i) {\n",
       "                    if (nbb_cells[i].input_prompt_number == nbb_cell_id) {\n",
       "                        if (nbb_cells[i].get_text() == nbb_unformatted_code) {\n",
       "                             nbb_cells[i].set_text(nbb_formatted_code);\n",
       "                        }\n",
       "                        break;\n",
       "                    }\n",
       "                }\n",
       "            }, 500);\n",
       "            "
      ],
      "text/plain": [
       "<IPython.core.display.Javascript object>"
      ]
     },
     "metadata": {},
     "output_type": "display_data"
    }
   ],
   "source": [
    "submission_df = (\n",
    "    pd.DataFrame(predictions, columns=[\"Label\"])\n",
    "    .reset_index()\n",
    "    .assign(\n",
    "        ImageId=lambda df: df[\"index\"] + 1,\n",
    "    )\n",
    "    .drop(\"index\", axis=1)\n",
    ")[[\"ImageId\", \"Label\"]]\n",
    "submission_df.head()"
   ]
  },
  {
   "cell_type": "code",
   "execution_count": 28,
   "id": "f07ea3c8",
   "metadata": {},
   "outputs": [
    {
     "data": {
      "application/javascript": [
       "\n",
       "            setTimeout(function() {\n",
       "                var nbb_cell_id = 28;\n",
       "                var nbb_unformatted_code = \"submission_df.to_csv(\\n    f\\\"data/submission.csv\\\",\\n    index=False,\\n)\";\n",
       "                var nbb_formatted_code = \"submission_df.to_csv(\\n    f\\\"data/submission.csv\\\",\\n    index=False,\\n)\";\n",
       "                var nbb_cells = Jupyter.notebook.get_cells();\n",
       "                for (var i = 0; i < nbb_cells.length; ++i) {\n",
       "                    if (nbb_cells[i].input_prompt_number == nbb_cell_id) {\n",
       "                        if (nbb_cells[i].get_text() == nbb_unformatted_code) {\n",
       "                             nbb_cells[i].set_text(nbb_formatted_code);\n",
       "                        }\n",
       "                        break;\n",
       "                    }\n",
       "                }\n",
       "            }, 500);\n",
       "            "
      ],
      "text/plain": [
       "<IPython.core.display.Javascript object>"
      ]
     },
     "metadata": {},
     "output_type": "display_data"
    }
   ],
   "source": [
    "submission_df.to_csv(\n",
    "    f\"data/submission.csv\",\n",
    "    index=False,\n",
    ")"
   ]
  },
  {
   "cell_type": "code",
   "execution_count": null,
   "id": "abb7b00d",
   "metadata": {},
   "outputs": [],
   "source": []
  }
 ],
 "metadata": {
  "kernelspec": {
   "display_name": "Python 3 (ipykernel)",
   "language": "python",
   "name": "python3"
  },
  "language_info": {
   "codemirror_mode": {
    "name": "ipython",
    "version": 3
   },
   "file_extension": ".py",
   "mimetype": "text/x-python",
   "name": "python",
   "nbconvert_exporter": "python",
   "pygments_lexer": "ipython3",
   "version": "3.9.8"
  }
 },
 "nbformat": 4,
 "nbformat_minor": 5
}
