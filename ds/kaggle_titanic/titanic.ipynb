{
 "cells": [
  {
   "cell_type": "code",
   "execution_count": 1,
   "id": "3b098b9c",
   "metadata": {},
   "outputs": [
    {
     "data": {
      "application/javascript": [
       "\n",
       "            setTimeout(function() {\n",
       "                var nbb_cell_id = 1;\n",
       "                var nbb_unformatted_code = \"%load_ext nb_black\";\n",
       "                var nbb_formatted_code = \"%load_ext nb_black\";\n",
       "                var nbb_cells = Jupyter.notebook.get_cells();\n",
       "                for (var i = 0; i < nbb_cells.length; ++i) {\n",
       "                    if (nbb_cells[i].input_prompt_number == nbb_cell_id) {\n",
       "                        if (nbb_cells[i].get_text() == nbb_unformatted_code) {\n",
       "                             nbb_cells[i].set_text(nbb_formatted_code);\n",
       "                        }\n",
       "                        break;\n",
       "                    }\n",
       "                }\n",
       "            }, 500);\n",
       "            "
      ],
      "text/plain": [
       "<IPython.core.display.Javascript object>"
      ]
     },
     "metadata": {},
     "output_type": "display_data"
    }
   ],
   "source": [
    "%load_ext nb_black"
   ]
  },
  {
   "cell_type": "code",
   "execution_count": 2,
   "id": "11fa9513",
   "metadata": {},
   "outputs": [
    {
     "data": {
      "application/javascript": [
       "\n",
       "            setTimeout(function() {\n",
       "                var nbb_cell_id = 2;\n",
       "                var nbb_unformatted_code = \"import matplotlib.pyplot as plt\\nimport numpy as np\\nimport pandas as pd\\nimport seaborn as sns\";\n",
       "                var nbb_formatted_code = \"import matplotlib.pyplot as plt\\nimport numpy as np\\nimport pandas as pd\\nimport seaborn as sns\";\n",
       "                var nbb_cells = Jupyter.notebook.get_cells();\n",
       "                for (var i = 0; i < nbb_cells.length; ++i) {\n",
       "                    if (nbb_cells[i].input_prompt_number == nbb_cell_id) {\n",
       "                        if (nbb_cells[i].get_text() == nbb_unformatted_code) {\n",
       "                             nbb_cells[i].set_text(nbb_formatted_code);\n",
       "                        }\n",
       "                        break;\n",
       "                    }\n",
       "                }\n",
       "            }, 500);\n",
       "            "
      ],
      "text/plain": [
       "<IPython.core.display.Javascript object>"
      ]
     },
     "metadata": {},
     "output_type": "display_data"
    }
   ],
   "source": [
    "import matplotlib.pyplot as plt\n",
    "import numpy as np\n",
    "import pandas as pd\n",
    "import seaborn as sns"
   ]
  },
  {
   "cell_type": "code",
   "execution_count": 3,
   "id": "cc7c2fc5",
   "metadata": {},
   "outputs": [
    {
     "data": {
      "application/javascript": [
       "\n",
       "            setTimeout(function() {\n",
       "                var nbb_cell_id = 3;\n",
       "                var nbb_unformatted_code = \"plt.rcParams[\\\"figure.figsize\\\"] = (8, 4)\\nplt.rcParams[\\\"patch.linewidth\\\"] = 0\\nsns.set_palette(\\\"muted\\\")\";\n",
       "                var nbb_formatted_code = \"plt.rcParams[\\\"figure.figsize\\\"] = (8, 4)\\nplt.rcParams[\\\"patch.linewidth\\\"] = 0\\nsns.set_palette(\\\"muted\\\")\";\n",
       "                var nbb_cells = Jupyter.notebook.get_cells();\n",
       "                for (var i = 0; i < nbb_cells.length; ++i) {\n",
       "                    if (nbb_cells[i].input_prompt_number == nbb_cell_id) {\n",
       "                        if (nbb_cells[i].get_text() == nbb_unformatted_code) {\n",
       "                             nbb_cells[i].set_text(nbb_formatted_code);\n",
       "                        }\n",
       "                        break;\n",
       "                    }\n",
       "                }\n",
       "            }, 500);\n",
       "            "
      ],
      "text/plain": [
       "<IPython.core.display.Javascript object>"
      ]
     },
     "metadata": {},
     "output_type": "display_data"
    }
   ],
   "source": [
    "plt.rcParams[\"figure.figsize\"] = (8, 4)\n",
    "plt.rcParams[\"patch.linewidth\"] = 0\n",
    "sns.set_palette(\"muted\")"
   ]
  },
  {
   "cell_type": "markdown",
   "id": "e5a6911e",
   "metadata": {},
   "source": [
    "### Data Exploration"
   ]
  },
  {
   "cell_type": "code",
   "execution_count": 4,
   "id": "a411faeb",
   "metadata": {},
   "outputs": [
    {
     "data": {
      "application/javascript": [
       "\n",
       "            setTimeout(function() {\n",
       "                var nbb_cell_id = 4;\n",
       "                var nbb_unformatted_code = \"train_df = pd.read_csv(\\\"data/train.csv\\\")\\ntest_df = pd.read_csv(\\\"data/test.csv\\\")\";\n",
       "                var nbb_formatted_code = \"train_df = pd.read_csv(\\\"data/train.csv\\\")\\ntest_df = pd.read_csv(\\\"data/test.csv\\\")\";\n",
       "                var nbb_cells = Jupyter.notebook.get_cells();\n",
       "                for (var i = 0; i < nbb_cells.length; ++i) {\n",
       "                    if (nbb_cells[i].input_prompt_number == nbb_cell_id) {\n",
       "                        if (nbb_cells[i].get_text() == nbb_unformatted_code) {\n",
       "                             nbb_cells[i].set_text(nbb_formatted_code);\n",
       "                        }\n",
       "                        break;\n",
       "                    }\n",
       "                }\n",
       "            }, 500);\n",
       "            "
      ],
      "text/plain": [
       "<IPython.core.display.Javascript object>"
      ]
     },
     "metadata": {},
     "output_type": "display_data"
    }
   ],
   "source": [
    "train_df = pd.read_csv(\"data/train.csv\")\n",
    "test_df = pd.read_csv(\"data/test.csv\")"
   ]
  },
  {
   "cell_type": "code",
   "execution_count": 5,
   "id": "f68691ac",
   "metadata": {},
   "outputs": [
    {
     "data": {
      "text/html": [
       "<div>\n",
       "<style scoped>\n",
       "    .dataframe tbody tr th:only-of-type {\n",
       "        vertical-align: middle;\n",
       "    }\n",
       "\n",
       "    .dataframe tbody tr th {\n",
       "        vertical-align: top;\n",
       "    }\n",
       "\n",
       "    .dataframe thead th {\n",
       "        text-align: right;\n",
       "    }\n",
       "</style>\n",
       "<table border=\"1\" class=\"dataframe\">\n",
       "  <thead>\n",
       "    <tr style=\"text-align: right;\">\n",
       "      <th></th>\n",
       "      <th>PassengerId</th>\n",
       "      <th>Survived</th>\n",
       "      <th>Pclass</th>\n",
       "      <th>Name</th>\n",
       "      <th>Sex</th>\n",
       "      <th>Age</th>\n",
       "      <th>SibSp</th>\n",
       "      <th>Parch</th>\n",
       "      <th>Ticket</th>\n",
       "      <th>Fare</th>\n",
       "      <th>Cabin</th>\n",
       "      <th>Embarked</th>\n",
       "    </tr>\n",
       "  </thead>\n",
       "  <tbody>\n",
       "    <tr>\n",
       "      <th>0</th>\n",
       "      <td>1</td>\n",
       "      <td>0</td>\n",
       "      <td>3</td>\n",
       "      <td>Braund, Mr. Owen Harris</td>\n",
       "      <td>male</td>\n",
       "      <td>22.0</td>\n",
       "      <td>1</td>\n",
       "      <td>0</td>\n",
       "      <td>A/5 21171</td>\n",
       "      <td>7.2500</td>\n",
       "      <td>NaN</td>\n",
       "      <td>S</td>\n",
       "    </tr>\n",
       "    <tr>\n",
       "      <th>1</th>\n",
       "      <td>2</td>\n",
       "      <td>1</td>\n",
       "      <td>1</td>\n",
       "      <td>Cumings, Mrs. John Bradley (Florence Briggs Th...</td>\n",
       "      <td>female</td>\n",
       "      <td>38.0</td>\n",
       "      <td>1</td>\n",
       "      <td>0</td>\n",
       "      <td>PC 17599</td>\n",
       "      <td>71.2833</td>\n",
       "      <td>C85</td>\n",
       "      <td>C</td>\n",
       "    </tr>\n",
       "    <tr>\n",
       "      <th>2</th>\n",
       "      <td>3</td>\n",
       "      <td>1</td>\n",
       "      <td>3</td>\n",
       "      <td>Heikkinen, Miss. Laina</td>\n",
       "      <td>female</td>\n",
       "      <td>26.0</td>\n",
       "      <td>0</td>\n",
       "      <td>0</td>\n",
       "      <td>STON/O2. 3101282</td>\n",
       "      <td>7.9250</td>\n",
       "      <td>NaN</td>\n",
       "      <td>S</td>\n",
       "    </tr>\n",
       "    <tr>\n",
       "      <th>3</th>\n",
       "      <td>4</td>\n",
       "      <td>1</td>\n",
       "      <td>1</td>\n",
       "      <td>Futrelle, Mrs. Jacques Heath (Lily May Peel)</td>\n",
       "      <td>female</td>\n",
       "      <td>35.0</td>\n",
       "      <td>1</td>\n",
       "      <td>0</td>\n",
       "      <td>113803</td>\n",
       "      <td>53.1000</td>\n",
       "      <td>C123</td>\n",
       "      <td>S</td>\n",
       "    </tr>\n",
       "    <tr>\n",
       "      <th>4</th>\n",
       "      <td>5</td>\n",
       "      <td>0</td>\n",
       "      <td>3</td>\n",
       "      <td>Allen, Mr. William Henry</td>\n",
       "      <td>male</td>\n",
       "      <td>35.0</td>\n",
       "      <td>0</td>\n",
       "      <td>0</td>\n",
       "      <td>373450</td>\n",
       "      <td>8.0500</td>\n",
       "      <td>NaN</td>\n",
       "      <td>S</td>\n",
       "    </tr>\n",
       "    <tr>\n",
       "      <th>...</th>\n",
       "      <td>...</td>\n",
       "      <td>...</td>\n",
       "      <td>...</td>\n",
       "      <td>...</td>\n",
       "      <td>...</td>\n",
       "      <td>...</td>\n",
       "      <td>...</td>\n",
       "      <td>...</td>\n",
       "      <td>...</td>\n",
       "      <td>...</td>\n",
       "      <td>...</td>\n",
       "      <td>...</td>\n",
       "    </tr>\n",
       "    <tr>\n",
       "      <th>886</th>\n",
       "      <td>887</td>\n",
       "      <td>0</td>\n",
       "      <td>2</td>\n",
       "      <td>Montvila, Rev. Juozas</td>\n",
       "      <td>male</td>\n",
       "      <td>27.0</td>\n",
       "      <td>0</td>\n",
       "      <td>0</td>\n",
       "      <td>211536</td>\n",
       "      <td>13.0000</td>\n",
       "      <td>NaN</td>\n",
       "      <td>S</td>\n",
       "    </tr>\n",
       "    <tr>\n",
       "      <th>887</th>\n",
       "      <td>888</td>\n",
       "      <td>1</td>\n",
       "      <td>1</td>\n",
       "      <td>Graham, Miss. Margaret Edith</td>\n",
       "      <td>female</td>\n",
       "      <td>19.0</td>\n",
       "      <td>0</td>\n",
       "      <td>0</td>\n",
       "      <td>112053</td>\n",
       "      <td>30.0000</td>\n",
       "      <td>B42</td>\n",
       "      <td>S</td>\n",
       "    </tr>\n",
       "    <tr>\n",
       "      <th>888</th>\n",
       "      <td>889</td>\n",
       "      <td>0</td>\n",
       "      <td>3</td>\n",
       "      <td>Johnston, Miss. Catherine Helen \"Carrie\"</td>\n",
       "      <td>female</td>\n",
       "      <td>NaN</td>\n",
       "      <td>1</td>\n",
       "      <td>2</td>\n",
       "      <td>W./C. 6607</td>\n",
       "      <td>23.4500</td>\n",
       "      <td>NaN</td>\n",
       "      <td>S</td>\n",
       "    </tr>\n",
       "    <tr>\n",
       "      <th>889</th>\n",
       "      <td>890</td>\n",
       "      <td>1</td>\n",
       "      <td>1</td>\n",
       "      <td>Behr, Mr. Karl Howell</td>\n",
       "      <td>male</td>\n",
       "      <td>26.0</td>\n",
       "      <td>0</td>\n",
       "      <td>0</td>\n",
       "      <td>111369</td>\n",
       "      <td>30.0000</td>\n",
       "      <td>C148</td>\n",
       "      <td>C</td>\n",
       "    </tr>\n",
       "    <tr>\n",
       "      <th>890</th>\n",
       "      <td>891</td>\n",
       "      <td>0</td>\n",
       "      <td>3</td>\n",
       "      <td>Dooley, Mr. Patrick</td>\n",
       "      <td>male</td>\n",
       "      <td>32.0</td>\n",
       "      <td>0</td>\n",
       "      <td>0</td>\n",
       "      <td>370376</td>\n",
       "      <td>7.7500</td>\n",
       "      <td>NaN</td>\n",
       "      <td>Q</td>\n",
       "    </tr>\n",
       "  </tbody>\n",
       "</table>\n",
       "<p>891 rows × 12 columns</p>\n",
       "</div>"
      ],
      "text/plain": [
       "     PassengerId  Survived  Pclass  \\\n",
       "0              1         0       3   \n",
       "1              2         1       1   \n",
       "2              3         1       3   \n",
       "3              4         1       1   \n",
       "4              5         0       3   \n",
       "..           ...       ...     ...   \n",
       "886          887         0       2   \n",
       "887          888         1       1   \n",
       "888          889         0       3   \n",
       "889          890         1       1   \n",
       "890          891         0       3   \n",
       "\n",
       "                                                  Name     Sex   Age  SibSp  \\\n",
       "0                              Braund, Mr. Owen Harris    male  22.0      1   \n",
       "1    Cumings, Mrs. John Bradley (Florence Briggs Th...  female  38.0      1   \n",
       "2                               Heikkinen, Miss. Laina  female  26.0      0   \n",
       "3         Futrelle, Mrs. Jacques Heath (Lily May Peel)  female  35.0      1   \n",
       "4                             Allen, Mr. William Henry    male  35.0      0   \n",
       "..                                                 ...     ...   ...    ...   \n",
       "886                              Montvila, Rev. Juozas    male  27.0      0   \n",
       "887                       Graham, Miss. Margaret Edith  female  19.0      0   \n",
       "888           Johnston, Miss. Catherine Helen \"Carrie\"  female   NaN      1   \n",
       "889                              Behr, Mr. Karl Howell    male  26.0      0   \n",
       "890                                Dooley, Mr. Patrick    male  32.0      0   \n",
       "\n",
       "     Parch            Ticket     Fare Cabin Embarked  \n",
       "0        0         A/5 21171   7.2500   NaN        S  \n",
       "1        0          PC 17599  71.2833   C85        C  \n",
       "2        0  STON/O2. 3101282   7.9250   NaN        S  \n",
       "3        0            113803  53.1000  C123        S  \n",
       "4        0            373450   8.0500   NaN        S  \n",
       "..     ...               ...      ...   ...      ...  \n",
       "886      0            211536  13.0000   NaN        S  \n",
       "887      0            112053  30.0000   B42        S  \n",
       "888      2        W./C. 6607  23.4500   NaN        S  \n",
       "889      0            111369  30.0000  C148        C  \n",
       "890      0            370376   7.7500   NaN        Q  \n",
       "\n",
       "[891 rows x 12 columns]"
      ]
     },
     "execution_count": 5,
     "metadata": {},
     "output_type": "execute_result"
    },
    {
     "data": {
      "application/javascript": [
       "\n",
       "            setTimeout(function() {\n",
       "                var nbb_cell_id = 5;\n",
       "                var nbb_unformatted_code = \"train_df\";\n",
       "                var nbb_formatted_code = \"train_df\";\n",
       "                var nbb_cells = Jupyter.notebook.get_cells();\n",
       "                for (var i = 0; i < nbb_cells.length; ++i) {\n",
       "                    if (nbb_cells[i].input_prompt_number == nbb_cell_id) {\n",
       "                        if (nbb_cells[i].get_text() == nbb_unformatted_code) {\n",
       "                             nbb_cells[i].set_text(nbb_formatted_code);\n",
       "                        }\n",
       "                        break;\n",
       "                    }\n",
       "                }\n",
       "            }, 500);\n",
       "            "
      ],
      "text/plain": [
       "<IPython.core.display.Javascript object>"
      ]
     },
     "metadata": {},
     "output_type": "display_data"
    }
   ],
   "source": [
    "train_df"
   ]
  },
  {
   "cell_type": "code",
   "execution_count": 6,
   "id": "d1d18e86",
   "metadata": {},
   "outputs": [
    {
     "name": "stdout",
     "output_type": "stream",
     "text": [
      "<class 'pandas.core.frame.DataFrame'>\n",
      "RangeIndex: 891 entries, 0 to 890\n",
      "Data columns (total 12 columns):\n",
      " #   Column       Non-Null Count  Dtype  \n",
      "---  ------       --------------  -----  \n",
      " 0   PassengerId  891 non-null    int64  \n",
      " 1   Survived     891 non-null    int64  \n",
      " 2   Pclass       891 non-null    int64  \n",
      " 3   Name         891 non-null    object \n",
      " 4   Sex          891 non-null    object \n",
      " 5   Age          714 non-null    float64\n",
      " 6   SibSp        891 non-null    int64  \n",
      " 7   Parch        891 non-null    int64  \n",
      " 8   Ticket       891 non-null    object \n",
      " 9   Fare         891 non-null    float64\n",
      " 10  Cabin        204 non-null    object \n",
      " 11  Embarked     889 non-null    object \n",
      "dtypes: float64(2), int64(5), object(5)\n",
      "memory usage: 83.7+ KB\n"
     ]
    },
    {
     "data": {
      "application/javascript": [
       "\n",
       "            setTimeout(function() {\n",
       "                var nbb_cell_id = 6;\n",
       "                var nbb_unformatted_code = \"train_df.info()\";\n",
       "                var nbb_formatted_code = \"train_df.info()\";\n",
       "                var nbb_cells = Jupyter.notebook.get_cells();\n",
       "                for (var i = 0; i < nbb_cells.length; ++i) {\n",
       "                    if (nbb_cells[i].input_prompt_number == nbb_cell_id) {\n",
       "                        if (nbb_cells[i].get_text() == nbb_unformatted_code) {\n",
       "                             nbb_cells[i].set_text(nbb_formatted_code);\n",
       "                        }\n",
       "                        break;\n",
       "                    }\n",
       "                }\n",
       "            }, 500);\n",
       "            "
      ],
      "text/plain": [
       "<IPython.core.display.Javascript object>"
      ]
     },
     "metadata": {},
     "output_type": "display_data"
    }
   ],
   "source": [
    "train_df.info()"
   ]
  },
  {
   "cell_type": "code",
   "execution_count": 7,
   "id": "820fe94e",
   "metadata": {},
   "outputs": [
    {
     "data": {
      "text/html": [
       "<div>\n",
       "<style scoped>\n",
       "    .dataframe tbody tr th:only-of-type {\n",
       "        vertical-align: middle;\n",
       "    }\n",
       "\n",
       "    .dataframe tbody tr th {\n",
       "        vertical-align: top;\n",
       "    }\n",
       "\n",
       "    .dataframe thead th {\n",
       "        text-align: right;\n",
       "    }\n",
       "</style>\n",
       "<table border=\"1\" class=\"dataframe\">\n",
       "  <thead>\n",
       "    <tr style=\"text-align: right;\">\n",
       "      <th></th>\n",
       "      <th>PassengerId</th>\n",
       "      <th>Survived</th>\n",
       "      <th>Pclass</th>\n",
       "      <th>Age</th>\n",
       "      <th>SibSp</th>\n",
       "      <th>Parch</th>\n",
       "      <th>Fare</th>\n",
       "    </tr>\n",
       "  </thead>\n",
       "  <tbody>\n",
       "    <tr>\n",
       "      <th>count</th>\n",
       "      <td>891.000000</td>\n",
       "      <td>891.000000</td>\n",
       "      <td>891.000000</td>\n",
       "      <td>714.000000</td>\n",
       "      <td>891.000000</td>\n",
       "      <td>891.000000</td>\n",
       "      <td>891.000000</td>\n",
       "    </tr>\n",
       "    <tr>\n",
       "      <th>mean</th>\n",
       "      <td>446.000000</td>\n",
       "      <td>0.383838</td>\n",
       "      <td>2.308642</td>\n",
       "      <td>29.699118</td>\n",
       "      <td>0.523008</td>\n",
       "      <td>0.381594</td>\n",
       "      <td>32.204208</td>\n",
       "    </tr>\n",
       "    <tr>\n",
       "      <th>std</th>\n",
       "      <td>257.353842</td>\n",
       "      <td>0.486592</td>\n",
       "      <td>0.836071</td>\n",
       "      <td>14.526497</td>\n",
       "      <td>1.102743</td>\n",
       "      <td>0.806057</td>\n",
       "      <td>49.693429</td>\n",
       "    </tr>\n",
       "    <tr>\n",
       "      <th>min</th>\n",
       "      <td>1.000000</td>\n",
       "      <td>0.000000</td>\n",
       "      <td>1.000000</td>\n",
       "      <td>0.420000</td>\n",
       "      <td>0.000000</td>\n",
       "      <td>0.000000</td>\n",
       "      <td>0.000000</td>\n",
       "    </tr>\n",
       "    <tr>\n",
       "      <th>25%</th>\n",
       "      <td>223.500000</td>\n",
       "      <td>0.000000</td>\n",
       "      <td>2.000000</td>\n",
       "      <td>20.125000</td>\n",
       "      <td>0.000000</td>\n",
       "      <td>0.000000</td>\n",
       "      <td>7.910400</td>\n",
       "    </tr>\n",
       "    <tr>\n",
       "      <th>50%</th>\n",
       "      <td>446.000000</td>\n",
       "      <td>0.000000</td>\n",
       "      <td>3.000000</td>\n",
       "      <td>28.000000</td>\n",
       "      <td>0.000000</td>\n",
       "      <td>0.000000</td>\n",
       "      <td>14.454200</td>\n",
       "    </tr>\n",
       "    <tr>\n",
       "      <th>75%</th>\n",
       "      <td>668.500000</td>\n",
       "      <td>1.000000</td>\n",
       "      <td>3.000000</td>\n",
       "      <td>38.000000</td>\n",
       "      <td>1.000000</td>\n",
       "      <td>0.000000</td>\n",
       "      <td>31.000000</td>\n",
       "    </tr>\n",
       "    <tr>\n",
       "      <th>max</th>\n",
       "      <td>891.000000</td>\n",
       "      <td>1.000000</td>\n",
       "      <td>3.000000</td>\n",
       "      <td>80.000000</td>\n",
       "      <td>8.000000</td>\n",
       "      <td>6.000000</td>\n",
       "      <td>512.329200</td>\n",
       "    </tr>\n",
       "  </tbody>\n",
       "</table>\n",
       "</div>"
      ],
      "text/plain": [
       "       PassengerId    Survived      Pclass         Age       SibSp  \\\n",
       "count   891.000000  891.000000  891.000000  714.000000  891.000000   \n",
       "mean    446.000000    0.383838    2.308642   29.699118    0.523008   \n",
       "std     257.353842    0.486592    0.836071   14.526497    1.102743   \n",
       "min       1.000000    0.000000    1.000000    0.420000    0.000000   \n",
       "25%     223.500000    0.000000    2.000000   20.125000    0.000000   \n",
       "50%     446.000000    0.000000    3.000000   28.000000    0.000000   \n",
       "75%     668.500000    1.000000    3.000000   38.000000    1.000000   \n",
       "max     891.000000    1.000000    3.000000   80.000000    8.000000   \n",
       "\n",
       "            Parch        Fare  \n",
       "count  891.000000  891.000000  \n",
       "mean     0.381594   32.204208  \n",
       "std      0.806057   49.693429  \n",
       "min      0.000000    0.000000  \n",
       "25%      0.000000    7.910400  \n",
       "50%      0.000000   14.454200  \n",
       "75%      0.000000   31.000000  \n",
       "max      6.000000  512.329200  "
      ]
     },
     "execution_count": 7,
     "metadata": {},
     "output_type": "execute_result"
    },
    {
     "data": {
      "application/javascript": [
       "\n",
       "            setTimeout(function() {\n",
       "                var nbb_cell_id = 7;\n",
       "                var nbb_unformatted_code = \"train_df.describe()\";\n",
       "                var nbb_formatted_code = \"train_df.describe()\";\n",
       "                var nbb_cells = Jupyter.notebook.get_cells();\n",
       "                for (var i = 0; i < nbb_cells.length; ++i) {\n",
       "                    if (nbb_cells[i].input_prompt_number == nbb_cell_id) {\n",
       "                        if (nbb_cells[i].get_text() == nbb_unformatted_code) {\n",
       "                             nbb_cells[i].set_text(nbb_formatted_code);\n",
       "                        }\n",
       "                        break;\n",
       "                    }\n",
       "                }\n",
       "            }, 500);\n",
       "            "
      ],
      "text/plain": [
       "<IPython.core.display.Javascript object>"
      ]
     },
     "metadata": {},
     "output_type": "display_data"
    }
   ],
   "source": [
    "train_df.describe()"
   ]
  },
  {
   "cell_type": "markdown",
   "id": "afd26c0f",
   "metadata": {},
   "source": [
    "Univariate distributions"
   ]
  },
  {
   "cell_type": "code",
   "execution_count": 8,
   "id": "37512fca",
   "metadata": {},
   "outputs": [
    {
     "data": {
      "image/png": "[encoded data removed]",
      "text/plain": [
       "<Figure size 576x288 with 1 Axes>"
      ]
     },
     "metadata": {
      "needs_background": "light"
     },
     "output_type": "display_data"
    },
    {
     "data": {
      "image/png": "[encoded data removed]",
      "text/plain": [
       "<Figure size 576x288 with 1 Axes>"
      ]
     },
     "metadata": {
      "needs_background": "light"
     },
     "output_type": "display_data"
    },
    {
     "data": {
      "image/png": "[encoded data removed]",
      "text/plain": [
       "<Figure size 576x288 with 1 Axes>"
      ]
     },
     "metadata": {
      "needs_background": "light"
     },
     "output_type": "display_data"
    },
    {
     "data": {
      "image/png": "[encoded data removed]",
      "text/plain": [
       "<Figure size 576x288 with 1 Axes>"
      ]
     },
     "metadata": {
      "needs_background": "light"
     },
     "output_type": "display_data"
    },
    {
     "data": {
      "application/javascript": [
       "\n",
       "            setTimeout(function() {\n",
       "                var nbb_cell_id = 8;\n",
       "                var nbb_unformatted_code = \"sns.countplot(data=train_df, x=\\\"Survived\\\")\\nplt.title(\\n    f\\\"Survival rate = {train_df['Survived'].mean():.3f} (n = {train_df.shape[0]})\\\"\\n)\\nplt.show()\\n\\nsns.histplot(data=train_df, x=\\\"Age\\\", kde=True)\\nplt.title(\\\"Age distribution\\\")\\nplt.show()\\n\\nsns.countplot(data=train_df, x=\\\"Sex\\\")\\nplt.title(\\\"Sex distribution\\\")\\nplt.show()\\n\\nsns.countplot(data=train_df, x=\\\"Pclass\\\")\\nplt.title(\\\"Class distribution\\\")\\nplt.show()\";\n",
       "                var nbb_formatted_code = \"sns.countplot(data=train_df, x=\\\"Survived\\\")\\nplt.title(\\n    f\\\"Survival rate = {train_df['Survived'].mean():.3f} (n = {train_df.shape[0]})\\\"\\n)\\nplt.show()\\n\\nsns.histplot(data=train_df, x=\\\"Age\\\", kde=True)\\nplt.title(\\\"Age distribution\\\")\\nplt.show()\\n\\nsns.countplot(data=train_df, x=\\\"Sex\\\")\\nplt.title(\\\"Sex distribution\\\")\\nplt.show()\\n\\nsns.countplot(data=train_df, x=\\\"Pclass\\\")\\nplt.title(\\\"Class distribution\\\")\\nplt.show()\";\n",
       "                var nbb_cells = Jupyter.notebook.get_cells();\n",
       "                for (var i = 0; i < nbb_cells.length; ++i) {\n",
       "                    if (nbb_cells[i].input_prompt_number == nbb_cell_id) {\n",
       "                        if (nbb_cells[i].get_text() == nbb_unformatted_code) {\n",
       "                             nbb_cells[i].set_text(nbb_formatted_code);\n",
       "                        }\n",
       "                        break;\n",
       "                    }\n",
       "                }\n",
       "            }, 500);\n",
       "            "
      ],
      "text/plain": [
       "<IPython.core.display.Javascript object>"
      ]
     },
     "metadata": {},
     "output_type": "display_data"
    }
   ],
   "source": [
    "sns.countplot(data=train_df, x=\"Survived\")\n",
    "plt.title(\n",
    "    f\"Survival rate = {train_df['Survived'].mean():.3f} (n = {train_df.shape[0]})\"\n",
    ")\n",
    "plt.show()\n",
    "\n",
    "sns.histplot(data=train_df, x=\"Age\", kde=True)\n",
    "plt.title(\"Age distribution\")\n",
    "plt.show()\n",
    "\n",
    "sns.countplot(data=train_df, x=\"Sex\")\n",
    "plt.title(\"Sex distribution\")\n",
    "plt.show()\n",
    "\n",
    "sns.countplot(data=train_df, x=\"Pclass\")\n",
    "plt.title(\"Class distribution\")\n",
    "plt.show()"
   ]
  },
  {
   "cell_type": "markdown",
   "id": "b8578a53",
   "metadata": {},
   "source": [
    "Multivariate distributions"
   ]
  },
  {
   "cell_type": "code",
   "execution_count": 9,
   "id": "98bc0ca9",
   "metadata": {},
   "outputs": [
    {
     "data": {
      "image/png": "[encoded data removed]",
      "text/plain": [
       "<Figure size 576x288 with 2 Axes>"
      ]
     },
     "metadata": {
      "needs_background": "light"
     },
     "output_type": "display_data"
    },
    {
     "data": {
      "application/javascript": [
       "\n",
       "            setTimeout(function() {\n",
       "                var nbb_cell_id = 9;\n",
       "                var nbb_unformatted_code = \"sns.heatmap(\\n    data=train_df.drop([\\\"PassengerId\\\", \\\"Name\\\", \\\"Ticket\\\", \\\"Cabin\\\"], axis=1).corr().abs(),\\n    cmap=\\\"rocket_r\\\",\\n)\\nplt.show()\";\n",
       "                var nbb_formatted_code = \"sns.heatmap(\\n    data=train_df.drop([\\\"PassengerId\\\", \\\"Name\\\", \\\"Ticket\\\", \\\"Cabin\\\"], axis=1).corr().abs(),\\n    cmap=\\\"rocket_r\\\",\\n)\\nplt.show()\";\n",
       "                var nbb_cells = Jupyter.notebook.get_cells();\n",
       "                for (var i = 0; i < nbb_cells.length; ++i) {\n",
       "                    if (nbb_cells[i].input_prompt_number == nbb_cell_id) {\n",
       "                        if (nbb_cells[i].get_text() == nbb_unformatted_code) {\n",
       "                             nbb_cells[i].set_text(nbb_formatted_code);\n",
       "                        }\n",
       "                        break;\n",
       "                    }\n",
       "                }\n",
       "            }, 500);\n",
       "            "
      ],
      "text/plain": [
       "<IPython.core.display.Javascript object>"
      ]
     },
     "metadata": {},
     "output_type": "display_data"
    }
   ],
   "source": [
    "sns.heatmap(\n",
    "    data=train_df.drop([\"PassengerId\", \"Name\", \"Ticket\", \"Cabin\"], axis=1).corr().abs(),\n",
    "    cmap=\"rocket_r\",\n",
    ")\n",
    "plt.show()"
   ]
  },
  {
   "cell_type": "code",
   "execution_count": 10,
   "id": "8ffe3ac8",
   "metadata": {
    "scrolled": false
   },
   "outputs": [
    {
     "data": {
      "image/png": "[encoded data removed]",
      "text/plain": [
       "<Figure size 576x288 with 1 Axes>"
      ]
     },
     "metadata": {
      "needs_background": "light"
     },
     "output_type": "display_data"
    },
    {
     "data": {
      "image/png": "[encoded data removed]",
      "text/plain": [
       "<Figure size 576x288 with 1 Axes>"
      ]
     },
     "metadata": {
      "needs_background": "light"
     },
     "output_type": "display_data"
    },
    {
     "data": {
      "image/png": "[encoded data removed]",
      "text/plain": [
       "<Figure size 576x288 with 1 Axes>"
      ]
     },
     "metadata": {
      "needs_background": "light"
     },
     "output_type": "display_data"
    },
    {
     "data": {
      "image/png": "[encoded data removed]",
      "text/plain": [
       "<Figure size 576x288 with 1 Axes>"
      ]
     },
     "metadata": {
      "needs_background": "light"
     },
     "output_type": "display_data"
    },
    {
     "data": {
      "image/png": "[encoded data removed]",
      "text/plain": [
       "<Figure size 576x288 with 1 Axes>"
      ]
     },
     "metadata": {
      "needs_background": "light"
     },
     "output_type": "display_data"
    },
    {
     "data": {
      "application/javascript": [
       "\n",
       "            setTimeout(function() {\n",
       "                var nbb_cell_id = 10;\n",
       "                var nbb_unformatted_code = \"sns.histplot(data=train_df, x=\\\"Age\\\", hue=\\\"Pclass\\\", kde=True, palette=\\\"muted\\\")\\nplt.title(\\\"Age distribution by class\\\")\\nplt.show()\\n\\nsns.countplot(data=train_df, x=\\\"Pclass\\\", hue=\\\"Sex\\\")\\nplt.title(\\\"Sex distribution by class\\\")\\nplt.show()\\n\\nsns.countplot(data=train_df, x=\\\"Sex\\\", hue=\\\"Survived\\\")\\nplt.title(\\\"Survivorship by sex\\\")\\nplt.show()\\n\\nsns.histplot(data=train_df, x=\\\"Age\\\", hue=\\\"Survived\\\", kde=True)\\nplt.title(\\\"Survivorship by age\\\")\\nplt.show()\\n\\nsns.histplot(data=train_df, x=\\\"Fare\\\", hue=\\\"Survived\\\", kde=True)\\nplt.xlim((0, 200))\\nplt.title(\\\"Survivorship by ticket fare\\\")\\nplt.show()\";\n",
       "                var nbb_formatted_code = \"sns.histplot(data=train_df, x=\\\"Age\\\", hue=\\\"Pclass\\\", kde=True, palette=\\\"muted\\\")\\nplt.title(\\\"Age distribution by class\\\")\\nplt.show()\\n\\nsns.countplot(data=train_df, x=\\\"Pclass\\\", hue=\\\"Sex\\\")\\nplt.title(\\\"Sex distribution by class\\\")\\nplt.show()\\n\\nsns.countplot(data=train_df, x=\\\"Sex\\\", hue=\\\"Survived\\\")\\nplt.title(\\\"Survivorship by sex\\\")\\nplt.show()\\n\\nsns.histplot(data=train_df, x=\\\"Age\\\", hue=\\\"Survived\\\", kde=True)\\nplt.title(\\\"Survivorship by age\\\")\\nplt.show()\\n\\nsns.histplot(data=train_df, x=\\\"Fare\\\", hue=\\\"Survived\\\", kde=True)\\nplt.xlim((0, 200))\\nplt.title(\\\"Survivorship by ticket fare\\\")\\nplt.show()\";\n",
       "                var nbb_cells = Jupyter.notebook.get_cells();\n",
       "                for (var i = 0; i < nbb_cells.length; ++i) {\n",
       "                    if (nbb_cells[i].input_prompt_number == nbb_cell_id) {\n",
       "                        if (nbb_cells[i].get_text() == nbb_unformatted_code) {\n",
       "                             nbb_cells[i].set_text(nbb_formatted_code);\n",
       "                        }\n",
       "                        break;\n",
       "                    }\n",
       "                }\n",
       "            }, 500);\n",
       "            "
      ],
      "text/plain": [
       "<IPython.core.display.Javascript object>"
      ]
     },
     "metadata": {},
     "output_type": "display_data"
    }
   ],
   "source": [
    "sns.histplot(data=train_df, x=\"Age\", hue=\"Pclass\", kde=True, palette=\"muted\")\n",
    "plt.title(\"Age distribution by class\")\n",
    "plt.show()\n",
    "\n",
    "sns.countplot(data=train_df, x=\"Pclass\", hue=\"Sex\")\n",
    "plt.title(\"Sex distribution by class\")\n",
    "plt.show()\n",
    "\n",
    "sns.countplot(data=train_df, x=\"Sex\", hue=\"Survived\")\n",
    "plt.title(\"Survivorship by sex\")\n",
    "plt.show()\n",
    "\n",
    "sns.histplot(data=train_df, x=\"Age\", hue=\"Survived\", kde=True)\n",
    "plt.title(\"Survivorship by age\")\n",
    "plt.show()\n",
    "\n",
    "sns.histplot(data=train_df, x=\"Fare\", hue=\"Survived\", kde=True)\n",
    "plt.xlim((0, 200))\n",
    "plt.title(\"Survivorship by ticket fare\")\n",
    "plt.show()"
   ]
  },
  {
   "cell_type": "markdown",
   "id": "64e46a18",
   "metadata": {},
   "source": [
    "### Feature Engineering"
   ]
  },
  {
   "cell_type": "markdown",
   "id": "10821c29",
   "metadata": {},
   "source": [
    "Combine the training and testing data for feature engineering"
   ]
  },
  {
   "cell_type": "code",
   "execution_count": 11,
   "id": "aa9b3700",
   "metadata": {},
   "outputs": [
    {
     "data": {
      "application/javascript": [
       "\n",
       "            setTimeout(function() {\n",
       "                var nbb_cell_id = 11;\n",
       "                var nbb_unformatted_code = \"df = pd.concat([train_df, test_df.assign(Survived=-1)], ignore_index=True)\";\n",
       "                var nbb_formatted_code = \"df = pd.concat([train_df, test_df.assign(Survived=-1)], ignore_index=True)\";\n",
       "                var nbb_cells = Jupyter.notebook.get_cells();\n",
       "                for (var i = 0; i < nbb_cells.length; ++i) {\n",
       "                    if (nbb_cells[i].input_prompt_number == nbb_cell_id) {\n",
       "                        if (nbb_cells[i].get_text() == nbb_unformatted_code) {\n",
       "                             nbb_cells[i].set_text(nbb_formatted_code);\n",
       "                        }\n",
       "                        break;\n",
       "                    }\n",
       "                }\n",
       "            }, 500);\n",
       "            "
      ],
      "text/plain": [
       "<IPython.core.display.Javascript object>"
      ]
     },
     "metadata": {},
     "output_type": "display_data"
    }
   ],
   "source": [
    "df = pd.concat([train_df, test_df.assign(Survived=-1)], ignore_index=True)"
   ]
  },
  {
   "cell_type": "code",
   "execution_count": 12,
   "id": "17cf7385",
   "metadata": {},
   "outputs": [
    {
     "data": {
      "text/plain": [
       "PassengerId       0\n",
       "Survived          0\n",
       "Pclass            0\n",
       "Name              0\n",
       "Sex               0\n",
       "Age             263\n",
       "SibSp             0\n",
       "Parch             0\n",
       "Ticket            0\n",
       "Fare              1\n",
       "Cabin          1014\n",
       "Embarked          2\n",
       "dtype: int64"
      ]
     },
     "execution_count": 12,
     "metadata": {},
     "output_type": "execute_result"
    },
    {
     "data": {
      "application/javascript": [
       "\n",
       "            setTimeout(function() {\n",
       "                var nbb_cell_id = 12;\n",
       "                var nbb_unformatted_code = \"df.isna().sum()\";\n",
       "                var nbb_formatted_code = \"df.isna().sum()\";\n",
       "                var nbb_cells = Jupyter.notebook.get_cells();\n",
       "                for (var i = 0; i < nbb_cells.length; ++i) {\n",
       "                    if (nbb_cells[i].input_prompt_number == nbb_cell_id) {\n",
       "                        if (nbb_cells[i].get_text() == nbb_unformatted_code) {\n",
       "                             nbb_cells[i].set_text(nbb_formatted_code);\n",
       "                        }\n",
       "                        break;\n",
       "                    }\n",
       "                }\n",
       "            }, 500);\n",
       "            "
      ],
      "text/plain": [
       "<IPython.core.display.Javascript object>"
      ]
     },
     "metadata": {},
     "output_type": "display_data"
    }
   ],
   "source": [
    "df.isna().sum()"
   ]
  },
  {
   "cell_type": "markdown",
   "id": "4926aba4",
   "metadata": {},
   "source": [
    "Is there a pattern with the missing values? Maybe people we couldn't collect information from, because they didn't make it?"
   ]
  },
  {
   "cell_type": "code",
   "execution_count": 13,
   "id": "687fed8e",
   "metadata": {},
   "outputs": [
    {
     "data": {
      "image/png": "[encoded data removed]",
      "text/plain": [
       "<Figure size 576x288 with 1 Axes>"
      ]
     },
     "metadata": {
      "needs_background": "light"
     },
     "output_type": "display_data"
    },
    {
     "data": {
      "image/png": "[encoded data removed]",
      "text/plain": [
       "<Figure size 576x288 with 1 Axes>"
      ]
     },
     "metadata": {
      "needs_background": "light"
     },
     "output_type": "display_data"
    },
    {
     "data": {
      "application/javascript": [
       "\n",
       "            setTimeout(function() {\n",
       "                var nbb_cell_id = 13;\n",
       "                var nbb_unformatted_code = \"has_full_info = ~train_df.isna().any(axis=1)\\n\\nsns.countplot(data=train_df[has_full_info], x=\\\"Survived\\\")\\nplt.title(\\\"Survivorship for passengers with full information\\\")\\nplt.show()\\n\\nsns.countplot(data=train_df[~has_full_info], x=\\\"Survived\\\")\\nplt.title(\\\"Survivorship for passengers with some missing information\\\")\\nplt.show()\";\n",
       "                var nbb_formatted_code = \"has_full_info = ~train_df.isna().any(axis=1)\\n\\nsns.countplot(data=train_df[has_full_info], x=\\\"Survived\\\")\\nplt.title(\\\"Survivorship for passengers with full information\\\")\\nplt.show()\\n\\nsns.countplot(data=train_df[~has_full_info], x=\\\"Survived\\\")\\nplt.title(\\\"Survivorship for passengers with some missing information\\\")\\nplt.show()\";\n",
       "                var nbb_cells = Jupyter.notebook.get_cells();\n",
       "                for (var i = 0; i < nbb_cells.length; ++i) {\n",
       "                    if (nbb_cells[i].input_prompt_number == nbb_cell_id) {\n",
       "                        if (nbb_cells[i].get_text() == nbb_unformatted_code) {\n",
       "                             nbb_cells[i].set_text(nbb_formatted_code);\n",
       "                        }\n",
       "                        break;\n",
       "                    }\n",
       "                }\n",
       "            }, 500);\n",
       "            "
      ],
      "text/plain": [
       "<IPython.core.display.Javascript object>"
      ]
     },
     "metadata": {},
     "output_type": "display_data"
    }
   ],
   "source": [
    "has_full_info = ~train_df.isna().any(axis=1)\n",
    "\n",
    "sns.countplot(data=train_df[has_full_info], x=\"Survived\")\n",
    "plt.title(\"Survivorship for passengers with full information\")\n",
    "plt.show()\n",
    "\n",
    "sns.countplot(data=train_df[~has_full_info], x=\"Survived\")\n",
    "plt.title(\"Survivorship for passengers with some missing information\")\n",
    "plt.show()"
   ]
  },
  {
   "cell_type": "code",
   "execution_count": 14,
   "id": "f0429166",
   "metadata": {},
   "outputs": [
    {
     "data": {
      "text/html": [
       "<div>\n",
       "<style scoped>\n",
       "    .dataframe tbody tr th:only-of-type {\n",
       "        vertical-align: middle;\n",
       "    }\n",
       "\n",
       "    .dataframe tbody tr th {\n",
       "        vertical-align: top;\n",
       "    }\n",
       "\n",
       "    .dataframe thead th {\n",
       "        text-align: right;\n",
       "    }\n",
       "</style>\n",
       "<table border=\"1\" class=\"dataframe\">\n",
       "  <thead>\n",
       "    <tr style=\"text-align: right;\">\n",
       "      <th></th>\n",
       "      <th>PassengerId</th>\n",
       "      <th>Survived</th>\n",
       "      <th>Pclass</th>\n",
       "      <th>Name</th>\n",
       "      <th>Sex</th>\n",
       "      <th>Age</th>\n",
       "      <th>SibSp</th>\n",
       "      <th>Parch</th>\n",
       "      <th>Ticket</th>\n",
       "      <th>Fare</th>\n",
       "      <th>Cabin</th>\n",
       "      <th>Embarked</th>\n",
       "    </tr>\n",
       "  </thead>\n",
       "  <tbody>\n",
       "    <tr>\n",
       "      <th>61</th>\n",
       "      <td>62</td>\n",
       "      <td>1</td>\n",
       "      <td>1</td>\n",
       "      <td>Icard, Miss. Amelie</td>\n",
       "      <td>female</td>\n",
       "      <td>38.0</td>\n",
       "      <td>0</td>\n",
       "      <td>0</td>\n",
       "      <td>113572</td>\n",
       "      <td>80.0</td>\n",
       "      <td>B28</td>\n",
       "      <td>NaN</td>\n",
       "    </tr>\n",
       "    <tr>\n",
       "      <th>829</th>\n",
       "      <td>830</td>\n",
       "      <td>1</td>\n",
       "      <td>1</td>\n",
       "      <td>Stone, Mrs. George Nelson (Martha Evelyn)</td>\n",
       "      <td>female</td>\n",
       "      <td>62.0</td>\n",
       "      <td>0</td>\n",
       "      <td>0</td>\n",
       "      <td>113572</td>\n",
       "      <td>80.0</td>\n",
       "      <td>B28</td>\n",
       "      <td>NaN</td>\n",
       "    </tr>\n",
       "    <tr>\n",
       "      <th>1043</th>\n",
       "      <td>1044</td>\n",
       "      <td>-1</td>\n",
       "      <td>3</td>\n",
       "      <td>Storey, Mr. Thomas</td>\n",
       "      <td>male</td>\n",
       "      <td>60.5</td>\n",
       "      <td>0</td>\n",
       "      <td>0</td>\n",
       "      <td>3701</td>\n",
       "      <td>NaN</td>\n",
       "      <td>NaN</td>\n",
       "      <td>S</td>\n",
       "    </tr>\n",
       "  </tbody>\n",
       "</table>\n",
       "</div>"
      ],
      "text/plain": [
       "      PassengerId  Survived  Pclass  \\\n",
       "61             62         1       1   \n",
       "829           830         1       1   \n",
       "1043         1044        -1       3   \n",
       "\n",
       "                                           Name     Sex   Age  SibSp  Parch  \\\n",
       "61                          Icard, Miss. Amelie  female  38.0      0      0   \n",
       "829   Stone, Mrs. George Nelson (Martha Evelyn)  female  62.0      0      0   \n",
       "1043                         Storey, Mr. Thomas    male  60.5      0      0   \n",
       "\n",
       "      Ticket  Fare Cabin Embarked  \n",
       "61    113572  80.0   B28      NaN  \n",
       "829   113572  80.0   B28      NaN  \n",
       "1043    3701   NaN   NaN        S  "
      ]
     },
     "execution_count": 14,
     "metadata": {},
     "output_type": "execute_result"
    },
    {
     "data": {
      "application/javascript": [
       "\n",
       "            setTimeout(function() {\n",
       "                var nbb_cell_id = 14;\n",
       "                var nbb_unformatted_code = \"df[df[\\\"Fare\\\"].isna() | df[\\\"Embarked\\\"].isna()]\";\n",
       "                var nbb_formatted_code = \"df[df[\\\"Fare\\\"].isna() | df[\\\"Embarked\\\"].isna()]\";\n",
       "                var nbb_cells = Jupyter.notebook.get_cells();\n",
       "                for (var i = 0; i < nbb_cells.length; ++i) {\n",
       "                    if (nbb_cells[i].input_prompt_number == nbb_cell_id) {\n",
       "                        if (nbb_cells[i].get_text() == nbb_unformatted_code) {\n",
       "                             nbb_cells[i].set_text(nbb_formatted_code);\n",
       "                        }\n",
       "                        break;\n",
       "                    }\n",
       "                }\n",
       "            }, 500);\n",
       "            "
      ],
      "text/plain": [
       "<IPython.core.display.Javascript object>"
      ]
     },
     "metadata": {},
     "output_type": "display_data"
    }
   ],
   "source": [
    "df[df[\"Fare\"].isna() | df[\"Embarked\"].isna()]"
   ]
  },
  {
   "cell_type": "markdown",
   "id": "085e8483",
   "metadata": {},
   "source": [
    "Only 3 missing `Fare` and `Embarked`, do simple mean/mode imputation for these rows.\n",
    "\n",
    "Add: \n",
    "- `fare`: the fare paid, or imputed mean\n",
    "- `port_from`: the port embarked from, or imputed mode"
   ]
  },
  {
   "cell_type": "code",
   "execution_count": 15,
   "id": "85826b3c",
   "metadata": {},
   "outputs": [
    {
     "data": {
      "application/javascript": [
       "\n",
       "            setTimeout(function() {\n",
       "                var nbb_cell_id = 15;\n",
       "                var nbb_unformatted_code = \"df = df.assign(\\n    fare=lambda df: np.where(~df[\\\"Fare\\\"].isna(), df[\\\"Fare\\\"], df[\\\"Fare\\\"].mean()),\\n    port_from=lambda df: np.where(\\n        ~df[\\\"Embarked\\\"].isna(), df[\\\"Embarked\\\"], df[\\\"Embarked\\\"].value_counts().index[0]\\n    ),\\n)\";\n",
       "                var nbb_formatted_code = \"df = df.assign(\\n    fare=lambda df: np.where(~df[\\\"Fare\\\"].isna(), df[\\\"Fare\\\"], df[\\\"Fare\\\"].mean()),\\n    port_from=lambda df: np.where(\\n        ~df[\\\"Embarked\\\"].isna(), df[\\\"Embarked\\\"], df[\\\"Embarked\\\"].value_counts().index[0]\\n    ),\\n)\";\n",
       "                var nbb_cells = Jupyter.notebook.get_cells();\n",
       "                for (var i = 0; i < nbb_cells.length; ++i) {\n",
       "                    if (nbb_cells[i].input_prompt_number == nbb_cell_id) {\n",
       "                        if (nbb_cells[i].get_text() == nbb_unformatted_code) {\n",
       "                             nbb_cells[i].set_text(nbb_formatted_code);\n",
       "                        }\n",
       "                        break;\n",
       "                    }\n",
       "                }\n",
       "            }, 500);\n",
       "            "
      ],
      "text/plain": [
       "<IPython.core.display.Javascript object>"
      ]
     },
     "metadata": {},
     "output_type": "display_data"
    }
   ],
   "source": [
    "df = df.assign(\n",
    "    fare=lambda df: np.where(~df[\"Fare\"].isna(), df[\"Fare\"], df[\"Fare\"].mean()),\n",
    "    port_from=lambda df: np.where(\n",
    "        ~df[\"Embarked\"].isna(), df[\"Embarked\"], df[\"Embarked\"].value_counts().index[0]\n",
    "    ),\n",
    ")"
   ]
  },
  {
   "cell_type": "markdown",
   "id": "1dc9cb30",
   "metadata": {},
   "source": [
    "Add: \n",
    "- `has_all_info`: True if passenger not missing any information"
   ]
  },
  {
   "cell_type": "code",
   "execution_count": 16,
   "id": "639217c1",
   "metadata": {},
   "outputs": [
    {
     "data": {
      "application/javascript": [
       "\n",
       "            setTimeout(function() {\n",
       "                var nbb_cell_id = 16;\n",
       "                var nbb_unformatted_code = \"df = df.assign(\\n    has_all_info=lambda df: ~df.isna().any(axis=1),\\n)\";\n",
       "                var nbb_formatted_code = \"df = df.assign(\\n    has_all_info=lambda df: ~df.isna().any(axis=1),\\n)\";\n",
       "                var nbb_cells = Jupyter.notebook.get_cells();\n",
       "                for (var i = 0; i < nbb_cells.length; ++i) {\n",
       "                    if (nbb_cells[i].input_prompt_number == nbb_cell_id) {\n",
       "                        if (nbb_cells[i].get_text() == nbb_unformatted_code) {\n",
       "                             nbb_cells[i].set_text(nbb_formatted_code);\n",
       "                        }\n",
       "                        break;\n",
       "                    }\n",
       "                }\n",
       "            }, 500);\n",
       "            "
      ],
      "text/plain": [
       "<IPython.core.display.Javascript object>"
      ]
     },
     "metadata": {},
     "output_type": "display_data"
    }
   ],
   "source": [
    "df = df.assign(\n",
    "    has_all_info=lambda df: ~df.isna().any(axis=1),\n",
    ")"
   ]
  },
  {
   "cell_type": "markdown",
   "id": "5f9b4b48",
   "metadata": {},
   "source": [
    "Group the categorical feature Cabin and add a category for \"unknown\""
   ]
  },
  {
   "cell_type": "code",
   "execution_count": 17,
   "id": "cd65940b",
   "metadata": {},
   "outputs": [
    {
     "data": {
      "text/plain": [
       "array([nan, 'C85', 'C123', 'E46', 'G6', 'C103', 'D56', 'A6',\n",
       "       'C23 C25 C27', 'B78', 'D33', 'B30', 'C52', 'B28', 'C83', 'F33',\n",
       "       'F G73', 'E31', 'A5', 'D10 D12', 'D26', 'C110', 'B58 B60', 'E101',\n",
       "       'F E69', 'D47', 'B86', 'F2', 'C2', 'E33', 'B19', 'A7', 'C49', 'F4',\n",
       "       'A32', 'B4', 'B80', 'A31', 'D36', 'D15', 'C93', 'C78', 'D35',\n",
       "       'C87', 'B77', 'E67', 'B94', 'C125', 'C99', 'C118', 'D7', 'A19',\n",
       "       'B49', 'D', 'C22 C26', 'C106', 'C65', 'E36', 'C54',\n",
       "       'B57 B59 B63 B66', 'C7', 'E34', 'C32', 'B18', 'C124', 'C91', 'E40',\n",
       "       'T', 'C128', 'D37', 'B35', 'E50', 'C82', 'B96 B98', 'E10', 'E44',\n",
       "       'A34', 'C104', 'C111', 'C92', 'E38', 'D21', 'E12', 'E63', 'A14',\n",
       "       'B37', 'C30', 'D20', 'B79', 'E25', 'D46', 'B73', 'C95', 'B38',\n",
       "       'B39', 'B22', 'C86', 'C70', 'A16', 'C101', 'C68', 'A10', 'E68',\n",
       "       'B41', 'A20', 'D19', 'D50', 'D9', 'A23', 'B50', 'A26', 'D48',\n",
       "       'E58', 'C126', 'B71', 'B51 B53 B55', 'D49', 'B5', 'B20', 'F G63',\n",
       "       'C62 C64', 'E24', 'C90', 'C45', 'E8', 'B101', 'D45', 'C46', 'D30',\n",
       "       'E121', 'D11', 'E77', 'F38', 'B3', 'D6', 'B82 B84', 'D17', 'A36',\n",
       "       'B102', 'B69', 'E49', 'C47', 'D28', 'E17', 'A24', 'C50', 'B42',\n",
       "       'C148', 'B45', 'B36', 'A21', 'D34', 'A9', 'C31', 'B61', 'C53',\n",
       "       'D43', 'C130', 'C132', 'C55 C57', 'C116', 'F', 'A29', 'C6', 'C28',\n",
       "       'C51', 'C97', 'D22', 'B10', 'E45', 'E52', 'A11', 'B11', 'C80',\n",
       "       'C89', 'F E46', 'B26', 'F E57', 'A18', 'E60', 'E39 E41',\n",
       "       'B52 B54 B56', 'C39', 'B24', 'D40', 'D38', 'C105'], dtype=object)"
      ]
     },
     "execution_count": 17,
     "metadata": {},
     "output_type": "execute_result"
    },
    {
     "data": {
      "application/javascript": [
       "\n",
       "            setTimeout(function() {\n",
       "                var nbb_cell_id = 17;\n",
       "                var nbb_unformatted_code = \"df[\\\"Cabin\\\"].unique()\";\n",
       "                var nbb_formatted_code = \"df[\\\"Cabin\\\"].unique()\";\n",
       "                var nbb_cells = Jupyter.notebook.get_cells();\n",
       "                for (var i = 0; i < nbb_cells.length; ++i) {\n",
       "                    if (nbb_cells[i].input_prompt_number == nbb_cell_id) {\n",
       "                        if (nbb_cells[i].get_text() == nbb_unformatted_code) {\n",
       "                             nbb_cells[i].set_text(nbb_formatted_code);\n",
       "                        }\n",
       "                        break;\n",
       "                    }\n",
       "                }\n",
       "            }, 500);\n",
       "            "
      ],
      "text/plain": [
       "<IPython.core.display.Javascript object>"
      ]
     },
     "metadata": {},
     "output_type": "display_data"
    }
   ],
   "source": [
    "df[\"Cabin\"].unique()"
   ]
  },
  {
   "cell_type": "markdown",
   "id": "0fed5d23",
   "metadata": {},
   "source": [
    "Add: \n",
    "- `cabin_section`: the cabin section if known, else \"unknown\""
   ]
  },
  {
   "cell_type": "code",
   "execution_count": 18,
   "id": "bb4f3788",
   "metadata": {},
   "outputs": [
    {
     "data": {
      "application/javascript": [
       "\n",
       "            setTimeout(function() {\n",
       "                var nbb_cell_id = 18;\n",
       "                var nbb_unformatted_code = \"df = df.assign(\\n    cabin_section=lambda df: df[\\\"Cabin\\\"].apply(\\n        lambda cabin_str: (\\n            cabin_str.split()[0][0] if not pd.isna(cabin_str) else \\\"unknown\\\"\\n        )\\n    ),\\n)\";\n",
       "                var nbb_formatted_code = \"df = df.assign(\\n    cabin_section=lambda df: df[\\\"Cabin\\\"].apply(\\n        lambda cabin_str: (\\n            cabin_str.split()[0][0] if not pd.isna(cabin_str) else \\\"unknown\\\"\\n        )\\n    ),\\n)\";\n",
       "                var nbb_cells = Jupyter.notebook.get_cells();\n",
       "                for (var i = 0; i < nbb_cells.length; ++i) {\n",
       "                    if (nbb_cells[i].input_prompt_number == nbb_cell_id) {\n",
       "                        if (nbb_cells[i].get_text() == nbb_unformatted_code) {\n",
       "                             nbb_cells[i].set_text(nbb_formatted_code);\n",
       "                        }\n",
       "                        break;\n",
       "                    }\n",
       "                }\n",
       "            }, 500);\n",
       "            "
      ],
      "text/plain": [
       "<IPython.core.display.Javascript object>"
      ]
     },
     "metadata": {},
     "output_type": "display_data"
    }
   ],
   "source": [
    "df = df.assign(\n",
    "    cabin_section=lambda df: df[\"Cabin\"].apply(\n",
    "        lambda cabin_str: (\n",
    "            cabin_str.split()[0][0] if not pd.isna(cabin_str) else \"unknown\"\n",
    "        )\n",
    "    ),\n",
    ")"
   ]
  },
  {
   "cell_type": "code",
   "execution_count": 19,
   "id": "85008691",
   "metadata": {},
   "outputs": [
    {
     "data": {
      "text/plain": [
       "unknown    1014\n",
       "C            94\n",
       "B            65\n",
       "D            46\n",
       "E            41\n",
       "A            22\n",
       "F            21\n",
       "G             5\n",
       "T             1\n",
       "Name: cabin_section, dtype: int64"
      ]
     },
     "execution_count": 19,
     "metadata": {},
     "output_type": "execute_result"
    },
    {
     "data": {
      "application/javascript": [
       "\n",
       "            setTimeout(function() {\n",
       "                var nbb_cell_id = 19;\n",
       "                var nbb_unformatted_code = \"df[\\\"cabin_section\\\"].value_counts()\";\n",
       "                var nbb_formatted_code = \"df[\\\"cabin_section\\\"].value_counts()\";\n",
       "                var nbb_cells = Jupyter.notebook.get_cells();\n",
       "                for (var i = 0; i < nbb_cells.length; ++i) {\n",
       "                    if (nbb_cells[i].input_prompt_number == nbb_cell_id) {\n",
       "                        if (nbb_cells[i].get_text() == nbb_unformatted_code) {\n",
       "                             nbb_cells[i].set_text(nbb_formatted_code);\n",
       "                        }\n",
       "                        break;\n",
       "                    }\n",
       "                }\n",
       "            }, 500);\n",
       "            "
      ],
      "text/plain": [
       "<IPython.core.display.Javascript object>"
      ]
     },
     "metadata": {},
     "output_type": "display_data"
    }
   ],
   "source": [
    "df[\"cabin_section\"].value_counts()"
   ]
  },
  {
   "cell_type": "markdown",
   "id": "977c1423",
   "metadata": {},
   "source": [
    "How many `Age` values are missing?"
   ]
  },
  {
   "cell_type": "code",
   "execution_count": 20,
   "id": "5ed60c81",
   "metadata": {},
   "outputs": [
    {
     "data": {
      "text/plain": [
       "(0.19865319865319866, 0.20574162679425836)"
      ]
     },
     "execution_count": 20,
     "metadata": {},
     "output_type": "execute_result"
    },
    {
     "data": {
      "application/javascript": [
       "\n",
       "            setTimeout(function() {\n",
       "                var nbb_cell_id = 20;\n",
       "                var nbb_unformatted_code = \"train_df[\\\"Age\\\"].isna().mean(), test_df[\\\"Age\\\"].isna().mean()\";\n",
       "                var nbb_formatted_code = \"train_df[\\\"Age\\\"].isna().mean(), test_df[\\\"Age\\\"].isna().mean()\";\n",
       "                var nbb_cells = Jupyter.notebook.get_cells();\n",
       "                for (var i = 0; i < nbb_cells.length; ++i) {\n",
       "                    if (nbb_cells[i].input_prompt_number == nbb_cell_id) {\n",
       "                        if (nbb_cells[i].get_text() == nbb_unformatted_code) {\n",
       "                             nbb_cells[i].set_text(nbb_formatted_code);\n",
       "                        }\n",
       "                        break;\n",
       "                    }\n",
       "                }\n",
       "            }, 500);\n",
       "            "
      ],
      "text/plain": [
       "<IPython.core.display.Javascript object>"
      ]
     },
     "metadata": {},
     "output_type": "display_data"
    }
   ],
   "source": [
    "train_df[\"Age\"].isna().mean(), test_df[\"Age\"].isna().mean()"
   ]
  },
  {
   "cell_type": "markdown",
   "id": "3bc36b7b",
   "metadata": {},
   "source": [
    "20% missing in both the training and testing set—that's a lot of rows.\n",
    "\n",
    "Passenger age seems informative based on the distributions, so we should try to impute a value for it.\n",
    "\n",
    "1. Naive approach is to impute mean over all the data\n",
    "\n",
    "2. Slightly better is computing the mean by `Pclass`, the feature with the highest correlation to `Age`\n",
    "\n",
    "3. Slightly better still, compute the mean over multiple features and choose the features that minimize squared-error over the known ages\n",
    "\n",
    "To impute age well, we can extract additional signal hiding in the features:\n",
    "- From `SibSp` and `Parch`, we can get information about their travel party size\n",
    "- From `Name`, we can extract their honorific title, which might inform age\n",
    "    - For example, a \"Mrs.\" is a married woman, and a \"Master\" is a young man"
   ]
  },
  {
   "cell_type": "markdown",
   "id": "1f22079a",
   "metadata": {},
   "source": [
    "Add:\n",
    "- `party_size`: the size of the traveling group"
   ]
  },
  {
   "cell_type": "code",
   "execution_count": 21,
   "id": "0c9c5ebc",
   "metadata": {},
   "outputs": [
    {
     "data": {
      "application/javascript": [
       "\n",
       "            setTimeout(function() {\n",
       "                var nbb_cell_id = 21;\n",
       "                var nbb_unformatted_code = \"df = df.assign(\\n    party_size=lambda df: df[\\\"Parch\\\"] + df[\\\"SibSp\\\"] + 1,\\n)\";\n",
       "                var nbb_formatted_code = \"df = df.assign(\\n    party_size=lambda df: df[\\\"Parch\\\"] + df[\\\"SibSp\\\"] + 1,\\n)\";\n",
       "                var nbb_cells = Jupyter.notebook.get_cells();\n",
       "                for (var i = 0; i < nbb_cells.length; ++i) {\n",
       "                    if (nbb_cells[i].input_prompt_number == nbb_cell_id) {\n",
       "                        if (nbb_cells[i].get_text() == nbb_unformatted_code) {\n",
       "                             nbb_cells[i].set_text(nbb_formatted_code);\n",
       "                        }\n",
       "                        break;\n",
       "                    }\n",
       "                }\n",
       "            }, 500);\n",
       "            "
      ],
      "text/plain": [
       "<IPython.core.display.Javascript object>"
      ]
     },
     "metadata": {},
     "output_type": "display_data"
    }
   ],
   "source": [
    "df = df.assign(\n",
    "    party_size=lambda df: df[\"Parch\"] + df[\"SibSp\"] + 1,\n",
    ")"
   ]
  },
  {
   "cell_type": "code",
   "execution_count": 22,
   "id": "81d227b3",
   "metadata": {
    "scrolled": true
   },
   "outputs": [
    {
     "data": {
      "image/png": "[encoded data removed]",
      "text/plain": [
       "<Figure size 576x288 with 1 Axes>"
      ]
     },
     "metadata": {
      "needs_background": "light"
     },
     "output_type": "display_data"
    },
    {
     "data": {
      "application/javascript": [
       "\n",
       "            setTimeout(function() {\n",
       "                var nbb_cell_id = 22;\n",
       "                var nbb_unformatted_code = \"sns.countplot(data=df[df[\\\"Survived\\\"] != -1], x=\\\"party_size\\\", hue=\\\"Survived\\\")\\nplt.title(\\\"Survivorship by party size\\\")\\nplt.show()\";\n",
       "                var nbb_formatted_code = \"sns.countplot(data=df[df[\\\"Survived\\\"] != -1], x=\\\"party_size\\\", hue=\\\"Survived\\\")\\nplt.title(\\\"Survivorship by party size\\\")\\nplt.show()\";\n",
       "                var nbb_cells = Jupyter.notebook.get_cells();\n",
       "                for (var i = 0; i < nbb_cells.length; ++i) {\n",
       "                    if (nbb_cells[i].input_prompt_number == nbb_cell_id) {\n",
       "                        if (nbb_cells[i].get_text() == nbb_unformatted_code) {\n",
       "                             nbb_cells[i].set_text(nbb_formatted_code);\n",
       "                        }\n",
       "                        break;\n",
       "                    }\n",
       "                }\n",
       "            }, 500);\n",
       "            "
      ],
      "text/plain": [
       "<IPython.core.display.Javascript object>"
      ]
     },
     "metadata": {},
     "output_type": "display_data"
    }
   ],
   "source": [
    "sns.countplot(data=df[df[\"Survived\"] != -1], x=\"party_size\", hue=\"Survived\")\n",
    "plt.title(\"Survivorship by party size\")\n",
    "plt.show()"
   ]
  },
  {
   "cell_type": "markdown",
   "id": "2d09ae3f",
   "metadata": {},
   "source": [
    "Add:\n",
    "- `party_size_desc`: if the passenger is traveling in a party that is \"solo\", \"small\", or \"large\"\n",
    "\n",
    "This is just for age imputation—at training time we'll just use party size"
   ]
  },
  {
   "cell_type": "code",
   "execution_count": 23,
   "id": "f62fc1bb",
   "metadata": {},
   "outputs": [
    {
     "data": {
      "application/javascript": [
       "\n",
       "            setTimeout(function() {\n",
       "                var nbb_cell_id = 23;\n",
       "                var nbb_unformatted_code = \"def get_party_size_desc(n):\\n    if n == 1:\\n        return \\\"solo\\\"\\n    elif n < 5:\\n        return \\\"small\\\"\\n    else:\\n        return \\\"large\\\"\\n\\n\\ndf = df.assign(\\n    party_size_desc=lambda df: df[\\\"party_size\\\"].apply(get_party_size_desc),\\n)\";\n",
       "                var nbb_formatted_code = \"def get_party_size_desc(n):\\n    if n == 1:\\n        return \\\"solo\\\"\\n    elif n < 5:\\n        return \\\"small\\\"\\n    else:\\n        return \\\"large\\\"\\n\\n\\ndf = df.assign(\\n    party_size_desc=lambda df: df[\\\"party_size\\\"].apply(get_party_size_desc),\\n)\";\n",
       "                var nbb_cells = Jupyter.notebook.get_cells();\n",
       "                for (var i = 0; i < nbb_cells.length; ++i) {\n",
       "                    if (nbb_cells[i].input_prompt_number == nbb_cell_id) {\n",
       "                        if (nbb_cells[i].get_text() == nbb_unformatted_code) {\n",
       "                             nbb_cells[i].set_text(nbb_formatted_code);\n",
       "                        }\n",
       "                        break;\n",
       "                    }\n",
       "                }\n",
       "            }, 500);\n",
       "            "
      ],
      "text/plain": [
       "<IPython.core.display.Javascript object>"
      ]
     },
     "metadata": {},
     "output_type": "display_data"
    }
   ],
   "source": [
    "def get_party_size_desc(n):\n",
    "    if n == 1:\n",
    "        return \"solo\"\n",
    "    elif n < 5:\n",
    "        return \"small\"\n",
    "    else:\n",
    "        return \"large\"\n",
    "\n",
    "\n",
    "df = df.assign(\n",
    "    party_size_desc=lambda df: df[\"party_size\"].apply(get_party_size_desc),\n",
    ")"
   ]
  },
  {
   "cell_type": "markdown",
   "id": "b3b3eab1",
   "metadata": {},
   "source": [
    "Parse the names\n",
    "\n",
    "Add:\n",
    "- `title`: the honorific title in the name"
   ]
  },
  {
   "cell_type": "code",
   "execution_count": 24,
   "id": "9cbf9c9d",
   "metadata": {},
   "outputs": [
    {
     "data": {
      "application/javascript": [
       "\n",
       "            setTimeout(function() {\n",
       "                var nbb_cell_id = 24;\n",
       "                var nbb_unformatted_code = \"df = df.assign(\\n    title=lambda df: df[\\\"Name\\\"].apply(lambda name: name.split(\\\", \\\")[1].split(\\\".\\\")[0]),\\n)\";\n",
       "                var nbb_formatted_code = \"df = df.assign(\\n    title=lambda df: df[\\\"Name\\\"].apply(lambda name: name.split(\\\", \\\")[1].split(\\\".\\\")[0]),\\n)\";\n",
       "                var nbb_cells = Jupyter.notebook.get_cells();\n",
       "                for (var i = 0; i < nbb_cells.length; ++i) {\n",
       "                    if (nbb_cells[i].input_prompt_number == nbb_cell_id) {\n",
       "                        if (nbb_cells[i].get_text() == nbb_unformatted_code) {\n",
       "                             nbb_cells[i].set_text(nbb_formatted_code);\n",
       "                        }\n",
       "                        break;\n",
       "                    }\n",
       "                }\n",
       "            }, 500);\n",
       "            "
      ],
      "text/plain": [
       "<IPython.core.display.Javascript object>"
      ]
     },
     "metadata": {},
     "output_type": "display_data"
    }
   ],
   "source": [
    "df = df.assign(\n",
    "    title=lambda df: df[\"Name\"].apply(lambda name: name.split(\", \")[1].split(\".\")[0]),\n",
    ")"
   ]
  },
  {
   "cell_type": "code",
   "execution_count": 25,
   "id": "59fa3c9f",
   "metadata": {},
   "outputs": [
    {
     "data": {
      "text/plain": [
       "Mr              757\n",
       "Miss            260\n",
       "Mrs             197\n",
       "Master           61\n",
       "Rev               8\n",
       "Dr                8\n",
       "Col               4\n",
       "Mlle              2\n",
       "Major             2\n",
       "Ms                2\n",
       "Lady              1\n",
       "Sir               1\n",
       "Mme               1\n",
       "Don               1\n",
       "Capt              1\n",
       "the Countess      1\n",
       "Jonkheer          1\n",
       "Dona              1\n",
       "Name: title, dtype: int64"
      ]
     },
     "execution_count": 25,
     "metadata": {},
     "output_type": "execute_result"
    },
    {
     "data": {
      "application/javascript": [
       "\n",
       "            setTimeout(function() {\n",
       "                var nbb_cell_id = 25;\n",
       "                var nbb_unformatted_code = \"df[\\\"title\\\"].value_counts()\";\n",
       "                var nbb_formatted_code = \"df[\\\"title\\\"].value_counts()\";\n",
       "                var nbb_cells = Jupyter.notebook.get_cells();\n",
       "                for (var i = 0; i < nbb_cells.length; ++i) {\n",
       "                    if (nbb_cells[i].input_prompt_number == nbb_cell_id) {\n",
       "                        if (nbb_cells[i].get_text() == nbb_unformatted_code) {\n",
       "                             nbb_cells[i].set_text(nbb_formatted_code);\n",
       "                        }\n",
       "                        break;\n",
       "                    }\n",
       "                }\n",
       "            }, 500);\n",
       "            "
      ],
      "text/plain": [
       "<IPython.core.display.Javascript object>"
      ]
     },
     "metadata": {},
     "output_type": "display_data"
    }
   ],
   "source": [
    "df[\"title\"].value_counts()"
   ]
  },
  {
   "cell_type": "markdown",
   "id": "c4a4ffbd",
   "metadata": {},
   "source": [
    "Add:\n",
    "- `title_group`: the bucketed age group based on title"
   ]
  },
  {
   "cell_type": "code",
   "execution_count": 26,
   "id": "ddecb88d",
   "metadata": {},
   "outputs": [
    {
     "data": {
      "application/javascript": [
       "\n",
       "            setTimeout(function() {\n",
       "                var nbb_cell_id = 26;\n",
       "                var nbb_unformatted_code = \"group_by_title = {\\n    # young\\n    \\\"Master\\\": \\\"young\\\",\\n    # young - middle\\n    \\\"Miss\\\": \\\"young-adult\\\",\\n    # general\\n    \\\"Mr\\\": \\\"general\\\",\\n    \\\"Mrs\\\": \\\"general\\\",\\n    # middle-old, distinguished titles\\n    \\\"Dr\\\": \\\"adult\\\",\\n    \\\"Rev\\\": \\\"adult\\\",\\n    \\\"Major\\\": \\\"adult\\\",\\n    \\\"Col\\\": \\\"adult\\\",\\n    \\\"Capt\\\": \\\"adult\\\",\\n    # everything else is general\\n}\\n\\ndf = df.assign(\\n    title_group=lambda df: df[\\\"title\\\"].apply(\\n        lambda title: (group_by_title[title] if title in group_by_title else \\\"general\\\")\\n    ),\\n)\";\n",
       "                var nbb_formatted_code = \"group_by_title = {\\n    # young\\n    \\\"Master\\\": \\\"young\\\",\\n    # young - middle\\n    \\\"Miss\\\": \\\"young-adult\\\",\\n    # general\\n    \\\"Mr\\\": \\\"general\\\",\\n    \\\"Mrs\\\": \\\"general\\\",\\n    # middle-old, distinguished titles\\n    \\\"Dr\\\": \\\"adult\\\",\\n    \\\"Rev\\\": \\\"adult\\\",\\n    \\\"Major\\\": \\\"adult\\\",\\n    \\\"Col\\\": \\\"adult\\\",\\n    \\\"Capt\\\": \\\"adult\\\",\\n    # everything else is general\\n}\\n\\ndf = df.assign(\\n    title_group=lambda df: df[\\\"title\\\"].apply(\\n        lambda title: (group_by_title[title] if title in group_by_title else \\\"general\\\")\\n    ),\\n)\";\n",
       "                var nbb_cells = Jupyter.notebook.get_cells();\n",
       "                for (var i = 0; i < nbb_cells.length; ++i) {\n",
       "                    if (nbb_cells[i].input_prompt_number == nbb_cell_id) {\n",
       "                        if (nbb_cells[i].get_text() == nbb_unformatted_code) {\n",
       "                             nbb_cells[i].set_text(nbb_formatted_code);\n",
       "                        }\n",
       "                        break;\n",
       "                    }\n",
       "                }\n",
       "            }, 500);\n",
       "            "
      ],
      "text/plain": [
       "<IPython.core.display.Javascript object>"
      ]
     },
     "metadata": {},
     "output_type": "display_data"
    }
   ],
   "source": [
    "group_by_title = {\n",
    "    # young\n",
    "    \"Master\": \"young\",\n",
    "    # young - middle\n",
    "    \"Miss\": \"young-adult\",\n",
    "    # general\n",
    "    \"Mr\": \"general\",\n",
    "    \"Mrs\": \"general\",\n",
    "    # middle-old, distinguished titles\n",
    "    \"Dr\": \"adult\",\n",
    "    \"Rev\": \"adult\",\n",
    "    \"Major\": \"adult\",\n",
    "    \"Col\": \"adult\",\n",
    "    \"Capt\": \"adult\",\n",
    "    # everything else is general\n",
    "}\n",
    "\n",
    "df = df.assign(\n",
    "    title_group=lambda df: df[\"title\"].apply(\n",
    "        lambda title: (group_by_title[title] if title in group_by_title else \"general\")\n",
    "    ),\n",
    ")"
   ]
  },
  {
   "cell_type": "code",
   "execution_count": 27,
   "id": "a9db5f7d",
   "metadata": {},
   "outputs": [
    {
     "data": {
      "text/plain": [
       "general        965\n",
       "young-adult    260\n",
       "young           61\n",
       "adult           23\n",
       "Name: title_group, dtype: int64"
      ]
     },
     "execution_count": 27,
     "metadata": {},
     "output_type": "execute_result"
    },
    {
     "data": {
      "application/javascript": [
       "\n",
       "            setTimeout(function() {\n",
       "                var nbb_cell_id = 27;\n",
       "                var nbb_unformatted_code = \"df[\\\"title_group\\\"].value_counts()\";\n",
       "                var nbb_formatted_code = \"df[\\\"title_group\\\"].value_counts()\";\n",
       "                var nbb_cells = Jupyter.notebook.get_cells();\n",
       "                for (var i = 0; i < nbb_cells.length; ++i) {\n",
       "                    if (nbb_cells[i].input_prompt_number == nbb_cell_id) {\n",
       "                        if (nbb_cells[i].get_text() == nbb_unformatted_code) {\n",
       "                             nbb_cells[i].set_text(nbb_formatted_code);\n",
       "                        }\n",
       "                        break;\n",
       "                    }\n",
       "                }\n",
       "            }, 500);\n",
       "            "
      ],
      "text/plain": [
       "<IPython.core.display.Javascript object>"
      ]
     },
     "metadata": {},
     "output_type": "display_data"
    }
   ],
   "source": [
    "df[\"title_group\"].value_counts()"
   ]
  },
  {
   "cell_type": "code",
   "execution_count": 28,
   "id": "6433b389",
   "metadata": {},
   "outputs": [
    {
     "data": {
      "application/javascript": [
       "\n",
       "            setTimeout(function() {\n",
       "                var nbb_cell_id = 28;\n",
       "                var nbb_unformatted_code = \"title_group_order = [\\\"young\\\", \\\"young-adult\\\", \\\"general\\\", \\\"adult\\\"]\";\n",
       "                var nbb_formatted_code = \"title_group_order = [\\\"young\\\", \\\"young-adult\\\", \\\"general\\\", \\\"adult\\\"]\";\n",
       "                var nbb_cells = Jupyter.notebook.get_cells();\n",
       "                for (var i = 0; i < nbb_cells.length; ++i) {\n",
       "                    if (nbb_cells[i].input_prompt_number == nbb_cell_id) {\n",
       "                        if (nbb_cells[i].get_text() == nbb_unformatted_code) {\n",
       "                             nbb_cells[i].set_text(nbb_formatted_code);\n",
       "                        }\n",
       "                        break;\n",
       "                    }\n",
       "                }\n",
       "            }, 500);\n",
       "            "
      ],
      "text/plain": [
       "<IPython.core.display.Javascript object>"
      ]
     },
     "metadata": {},
     "output_type": "display_data"
    }
   ],
   "source": [
    "title_group_order = [\"young\", \"young-adult\", \"general\", \"adult\"]"
   ]
  },
  {
   "cell_type": "code",
   "execution_count": 29,
   "id": "2c9f5a9f",
   "metadata": {},
   "outputs": [
    {
     "data": {
      "image/png": "[encoded data removed]",
      "text/plain": [
       "<Figure size 576x288 with 1 Axes>"
      ]
     },
     "metadata": {
      "needs_background": "light"
     },
     "output_type": "display_data"
    },
    {
     "data": {
      "application/javascript": [
       "\n",
       "            setTimeout(function() {\n",
       "                var nbb_cell_id = 29;\n",
       "                var nbb_unformatted_code = \"sns.histplot(data=df, x=\\\"Age\\\", hue=\\\"title_group\\\", kde=True, hue_order=title_group_order)\\nplt.title(\\\"Age distribution by bucketed title\\\")\\nplt.show()\";\n",
       "                var nbb_formatted_code = \"sns.histplot(data=df, x=\\\"Age\\\", hue=\\\"title_group\\\", kde=True, hue_order=title_group_order)\\nplt.title(\\\"Age distribution by bucketed title\\\")\\nplt.show()\";\n",
       "                var nbb_cells = Jupyter.notebook.get_cells();\n",
       "                for (var i = 0; i < nbb_cells.length; ++i) {\n",
       "                    if (nbb_cells[i].input_prompt_number == nbb_cell_id) {\n",
       "                        if (nbb_cells[i].get_text() == nbb_unformatted_code) {\n",
       "                             nbb_cells[i].set_text(nbb_formatted_code);\n",
       "                        }\n",
       "                        break;\n",
       "                    }\n",
       "                }\n",
       "            }, 500);\n",
       "            "
      ],
      "text/plain": [
       "<IPython.core.display.Javascript object>"
      ]
     },
     "metadata": {},
     "output_type": "display_data"
    }
   ],
   "source": [
    "sns.histplot(data=df, x=\"Age\", hue=\"title_group\", kde=True, hue_order=title_group_order)\n",
    "plt.title(\"Age distribution by bucketed title\")\n",
    "plt.show()"
   ]
  },
  {
   "cell_type": "code",
   "execution_count": 30,
   "id": "f1805d59",
   "metadata": {},
   "outputs": [
    {
     "data": {
      "image/png": "[encoded data removed]",
      "text/plain": [
       "<Figure size 576x288 with 1 Axes>"
      ]
     },
     "metadata": {
      "needs_background": "light"
     },
     "output_type": "display_data"
    },
    {
     "data": {
      "image/png": "[encoded data removed]",
      "text/plain": [
       "<Figure size 576x288 with 1 Axes>"
      ]
     },
     "metadata": {
      "needs_background": "light"
     },
     "output_type": "display_data"
    },
    {
     "data": {
      "image/png": "[encoded data removed]",
      "text/plain": [
       "<Figure size 576x288 with 1 Axes>"
      ]
     },
     "metadata": {
      "needs_background": "light"
     },
     "output_type": "display_data"
    },
    {
     "data": {
      "application/javascript": [
       "\n",
       "            setTimeout(function() {\n",
       "                var nbb_cell_id = 30;\n",
       "                var nbb_unformatted_code = \"sns.histplot(\\n    data=df[df[\\\"party_size_desc\\\"] == \\\"solo\\\"],\\n    x=\\\"Age\\\",\\n    hue=\\\"title_group\\\",\\n    kde=True,\\n    hue_order=title_group_order,\\n)\\nplt.title(\\\"Age distribution by bucketed title, for solo passengers\\\")\\nplt.show()\\n\\nsns.histplot(\\n    data=df[df[\\\"party_size_desc\\\"] == \\\"small\\\"],\\n    x=\\\"Age\\\",\\n    hue=\\\"title_group\\\",\\n    kde=True,\\n    hue_order=title_group_order,\\n)\\nplt.title(\\\"Age distribution by bucketed title, for small families\\\")\\nplt.show()\\n\\n\\nsns.histplot(\\n    data=df[df[\\\"party_size_desc\\\"] == \\\"large\\\"],\\n    x=\\\"Age\\\",\\n    hue=\\\"title_group\\\",\\n    kde=True,\\n    hue_order=title_group_order,\\n)\\nplt.title(\\\"Age distribution by bucketed title, for large families\\\")\\nplt.show()\";\n",
       "                var nbb_formatted_code = \"sns.histplot(\\n    data=df[df[\\\"party_size_desc\\\"] == \\\"solo\\\"],\\n    x=\\\"Age\\\",\\n    hue=\\\"title_group\\\",\\n    kde=True,\\n    hue_order=title_group_order,\\n)\\nplt.title(\\\"Age distribution by bucketed title, for solo passengers\\\")\\nplt.show()\\n\\nsns.histplot(\\n    data=df[df[\\\"party_size_desc\\\"] == \\\"small\\\"],\\n    x=\\\"Age\\\",\\n    hue=\\\"title_group\\\",\\n    kde=True,\\n    hue_order=title_group_order,\\n)\\nplt.title(\\\"Age distribution by bucketed title, for small families\\\")\\nplt.show()\\n\\n\\nsns.histplot(\\n    data=df[df[\\\"party_size_desc\\\"] == \\\"large\\\"],\\n    x=\\\"Age\\\",\\n    hue=\\\"title_group\\\",\\n    kde=True,\\n    hue_order=title_group_order,\\n)\\nplt.title(\\\"Age distribution by bucketed title, for large families\\\")\\nplt.show()\";\n",
       "                var nbb_cells = Jupyter.notebook.get_cells();\n",
       "                for (var i = 0; i < nbb_cells.length; ++i) {\n",
       "                    if (nbb_cells[i].input_prompt_number == nbb_cell_id) {\n",
       "                        if (nbb_cells[i].get_text() == nbb_unformatted_code) {\n",
       "                             nbb_cells[i].set_text(nbb_formatted_code);\n",
       "                        }\n",
       "                        break;\n",
       "                    }\n",
       "                }\n",
       "            }, 500);\n",
       "            "
      ],
      "text/plain": [
       "<IPython.core.display.Javascript object>"
      ]
     },
     "metadata": {},
     "output_type": "display_data"
    }
   ],
   "source": [
    "sns.histplot(\n",
    "    data=df[df[\"party_size_desc\"] == \"solo\"],\n",
    "    x=\"Age\",\n",
    "    hue=\"title_group\",\n",
    "    kde=True,\n",
    "    hue_order=title_group_order,\n",
    ")\n",
    "plt.title(\"Age distribution by bucketed title, for solo passengers\")\n",
    "plt.show()\n",
    "\n",
    "sns.histplot(\n",
    "    data=df[df[\"party_size_desc\"] == \"small\"],\n",
    "    x=\"Age\",\n",
    "    hue=\"title_group\",\n",
    "    kde=True,\n",
    "    hue_order=title_group_order,\n",
    ")\n",
    "plt.title(\"Age distribution by bucketed title, for small families\")\n",
    "plt.show()\n",
    "\n",
    "\n",
    "sns.histplot(\n",
    "    data=df[df[\"party_size_desc\"] == \"large\"],\n",
    "    x=\"Age\",\n",
    "    hue=\"title_group\",\n",
    "    kde=True,\n",
    "    hue_order=title_group_order,\n",
    ")\n",
    "plt.title(\"Age distribution by bucketed title, for large families\")\n",
    "plt.show()"
   ]
  },
  {
   "cell_type": "markdown",
   "id": "98b8cb87",
   "metadata": {},
   "source": [
    "Seems informative, see what combination of features does best"
   ]
  },
  {
   "cell_type": "code",
   "execution_count": 31,
   "id": "c33f8ea2",
   "metadata": {},
   "outputs": [
    {
     "data": {
      "application/javascript": [
       "\n",
       "            setTimeout(function() {\n",
       "                var nbb_cell_id = 31;\n",
       "                var nbb_unformatted_code = \"get_keyed_dict = lambda dfgb: dfgb.agg({\\\"Age\\\": \\\"mean\\\"}).to_dict()[\\\"Age\\\"]\\n\\nmean_age = df[\\\"Age\\\"].mean()\\n\\nmean_age_by_class = get_keyed_dict(df.groupby(\\\"Pclass\\\"))\\nmean_age_by_title = get_keyed_dict(df.groupby(\\\"title_group\\\"))\\nmean_age_by_party = get_keyed_dict(df.groupby(\\\"party_size_desc\\\"))\\n\\nmulti_key_mean_ages = {\\n    **get_keyed_dict(df.groupby([\\\"Pclass\\\", \\\"title_group\\\"])),\\n    **get_keyed_dict(df.groupby([\\\"Pclass\\\", \\\"party_size_desc\\\"])),\\n    **get_keyed_dict(df.groupby([\\\"title_group\\\", \\\"party_size_desc\\\"])),\\n    **get_keyed_dict(df.groupby([\\\"Pclass\\\", \\\"title_group\\\", \\\"party_size_desc\\\"])),\\n}\\nmulti_key_mean_ages = {k: v for k, v in multi_key_mean_ages.items() if not np.isnan(v)}\\n\\n\\ndef impute_age(*args) -> float:\\n    def _impute(row):\\n        key = tuple(row[a] for a in args)\\n        return multi_key_mean_ages[key] if key in multi_key_mean_ages else mean_age\\n\\n    return _impute\\n\\n\\ndf = df.assign(\\n    est_age_0=mean_age,\\n    est_age_1=lambda df: df[\\\"Pclass\\\"].map(mean_age_by_class),\\n    est_age_2=lambda df: df[\\\"title_group\\\"].map(mean_age_by_title),\\n    est_age_3=lambda df: df[\\\"party_size_desc\\\"].map(mean_age_by_party),\\n    est_age_4=lambda df: df.apply(impute_age(\\\"Pclass\\\", \\\"title_group\\\"), axis=1),\\n    est_age_5=lambda df: df.apply(impute_age(\\\"Pclass\\\", \\\"party_size_desc\\\"), axis=1),\\n    est_age_6=lambda df: df.apply(impute_age(\\\"title_group\\\", \\\"party_size_desc\\\"), axis=1),\\n    est_age_7=lambda df: df.apply(\\n        impute_age(\\\"Pclass\\\", \\\"title_group\\\", \\\"party_size_desc\\\"), axis=1\\n    ),\\n)\";\n",
       "                var nbb_formatted_code = \"get_keyed_dict = lambda dfgb: dfgb.agg({\\\"Age\\\": \\\"mean\\\"}).to_dict()[\\\"Age\\\"]\\n\\nmean_age = df[\\\"Age\\\"].mean()\\n\\nmean_age_by_class = get_keyed_dict(df.groupby(\\\"Pclass\\\"))\\nmean_age_by_title = get_keyed_dict(df.groupby(\\\"title_group\\\"))\\nmean_age_by_party = get_keyed_dict(df.groupby(\\\"party_size_desc\\\"))\\n\\nmulti_key_mean_ages = {\\n    **get_keyed_dict(df.groupby([\\\"Pclass\\\", \\\"title_group\\\"])),\\n    **get_keyed_dict(df.groupby([\\\"Pclass\\\", \\\"party_size_desc\\\"])),\\n    **get_keyed_dict(df.groupby([\\\"title_group\\\", \\\"party_size_desc\\\"])),\\n    **get_keyed_dict(df.groupby([\\\"Pclass\\\", \\\"title_group\\\", \\\"party_size_desc\\\"])),\\n}\\nmulti_key_mean_ages = {k: v for k, v in multi_key_mean_ages.items() if not np.isnan(v)}\\n\\n\\ndef impute_age(*args) -> float:\\n    def _impute(row):\\n        key = tuple(row[a] for a in args)\\n        return multi_key_mean_ages[key] if key in multi_key_mean_ages else mean_age\\n\\n    return _impute\\n\\n\\ndf = df.assign(\\n    est_age_0=mean_age,\\n    est_age_1=lambda df: df[\\\"Pclass\\\"].map(mean_age_by_class),\\n    est_age_2=lambda df: df[\\\"title_group\\\"].map(mean_age_by_title),\\n    est_age_3=lambda df: df[\\\"party_size_desc\\\"].map(mean_age_by_party),\\n    est_age_4=lambda df: df.apply(impute_age(\\\"Pclass\\\", \\\"title_group\\\"), axis=1),\\n    est_age_5=lambda df: df.apply(impute_age(\\\"Pclass\\\", \\\"party_size_desc\\\"), axis=1),\\n    est_age_6=lambda df: df.apply(impute_age(\\\"title_group\\\", \\\"party_size_desc\\\"), axis=1),\\n    est_age_7=lambda df: df.apply(\\n        impute_age(\\\"Pclass\\\", \\\"title_group\\\", \\\"party_size_desc\\\"), axis=1\\n    ),\\n)\";\n",
       "                var nbb_cells = Jupyter.notebook.get_cells();\n",
       "                for (var i = 0; i < nbb_cells.length; ++i) {\n",
       "                    if (nbb_cells[i].input_prompt_number == nbb_cell_id) {\n",
       "                        if (nbb_cells[i].get_text() == nbb_unformatted_code) {\n",
       "                             nbb_cells[i].set_text(nbb_formatted_code);\n",
       "                        }\n",
       "                        break;\n",
       "                    }\n",
       "                }\n",
       "            }, 500);\n",
       "            "
      ],
      "text/plain": [
       "<IPython.core.display.Javascript object>"
      ]
     },
     "metadata": {},
     "output_type": "display_data"
    }
   ],
   "source": [
    "get_keyed_dict = lambda dfgb: dfgb.agg({\"Age\": \"mean\"}).to_dict()[\"Age\"]\n",
    "\n",
    "mean_age = df[\"Age\"].mean()\n",
    "\n",
    "mean_age_by_class = get_keyed_dict(df.groupby(\"Pclass\"))\n",
    "mean_age_by_title = get_keyed_dict(df.groupby(\"title_group\"))\n",
    "mean_age_by_party = get_keyed_dict(df.groupby(\"party_size_desc\"))\n",
    "\n",
    "multi_key_mean_ages = {\n",
    "    **get_keyed_dict(df.groupby([\"Pclass\", \"title_group\"])),\n",
    "    **get_keyed_dict(df.groupby([\"Pclass\", \"party_size_desc\"])),\n",
    "    **get_keyed_dict(df.groupby([\"title_group\", \"party_size_desc\"])),\n",
    "    **get_keyed_dict(df.groupby([\"Pclass\", \"title_group\", \"party_size_desc\"])),\n",
    "}\n",
    "multi_key_mean_ages = {k: v for k, v in multi_key_mean_ages.items() if not np.isnan(v)}\n",
    "\n",
    "\n",
    "def impute_age(*args) -> float:\n",
    "    def _impute(row):\n",
    "        key = tuple(row[a] for a in args)\n",
    "        return multi_key_mean_ages[key] if key in multi_key_mean_ages else mean_age\n",
    "\n",
    "    return _impute\n",
    "\n",
    "\n",
    "df = df.assign(\n",
    "    est_age_0=mean_age,\n",
    "    est_age_1=lambda df: df[\"Pclass\"].map(mean_age_by_class),\n",
    "    est_age_2=lambda df: df[\"title_group\"].map(mean_age_by_title),\n",
    "    est_age_3=lambda df: df[\"party_size_desc\"].map(mean_age_by_party),\n",
    "    est_age_4=lambda df: df.apply(impute_age(\"Pclass\", \"title_group\"), axis=1),\n",
    "    est_age_5=lambda df: df.apply(impute_age(\"Pclass\", \"party_size_desc\"), axis=1),\n",
    "    est_age_6=lambda df: df.apply(impute_age(\"title_group\", \"party_size_desc\"), axis=1),\n",
    "    est_age_7=lambda df: df.apply(\n",
    "        impute_age(\"Pclass\", \"title_group\", \"party_size_desc\"), axis=1\n",
    "    ),\n",
    ")"
   ]
  },
  {
   "cell_type": "code",
   "execution_count": 32,
   "id": "0cae0be1",
   "metadata": {},
   "outputs": [
    {
     "name": "stdout",
     "output_type": "stream",
     "text": [
      "est_age_0: RMSE = 465.9372081581121\n",
      "est_age_1: RMSE = 423.97880861347096\n",
      "est_age_2: RMSE = 395.86759905890335\n",
      "est_age_3: RMSE = 456.9670557337017\n",
      "est_age_4: RMSE = 357.18926578404415\n",
      "est_age_5: RMSE = 410.78817248951174\n",
      "est_age_6: RMSE = 383.5498259214031\n",
      "est_age_7: RMSE = 344.3512959141311\n"
     ]
    },
    {
     "data": {
      "application/javascript": [
       "\n",
       "            setTimeout(function() {\n",
       "                var nbb_cell_id = 32;\n",
       "                var nbb_unformatted_code = \"age_not_null = ~pd.isna(df[\\\"Age\\\"])\\n\\nfor i in range(8):\\n    rmse = np.linalg.norm(df[\\\"Age\\\"][age_not_null] - df[f\\\"est_age_{i}\\\"][age_not_null])\\n    print(f\\\"est_age_{i}: RMSE = {rmse}\\\")\";\n",
       "                var nbb_formatted_code = \"age_not_null = ~pd.isna(df[\\\"Age\\\"])\\n\\nfor i in range(8):\\n    rmse = np.linalg.norm(df[\\\"Age\\\"][age_not_null] - df[f\\\"est_age_{i}\\\"][age_not_null])\\n    print(f\\\"est_age_{i}: RMSE = {rmse}\\\")\";\n",
       "                var nbb_cells = Jupyter.notebook.get_cells();\n",
       "                for (var i = 0; i < nbb_cells.length; ++i) {\n",
       "                    if (nbb_cells[i].input_prompt_number == nbb_cell_id) {\n",
       "                        if (nbb_cells[i].get_text() == nbb_unformatted_code) {\n",
       "                             nbb_cells[i].set_text(nbb_formatted_code);\n",
       "                        }\n",
       "                        break;\n",
       "                    }\n",
       "                }\n",
       "            }, 500);\n",
       "            "
      ],
      "text/plain": [
       "<IPython.core.display.Javascript object>"
      ]
     },
     "metadata": {},
     "output_type": "display_data"
    }
   ],
   "source": [
    "age_not_null = ~pd.isna(df[\"Age\"])\n",
    "\n",
    "for i in range(8):\n",
    "    rmse = np.linalg.norm(df[\"Age\"][age_not_null] - df[f\"est_age_{i}\"][age_not_null])\n",
    "    print(f\"est_age_{i}: RMSE = {rmse}\")"
   ]
  },
  {
   "cell_type": "markdown",
   "id": "c16b3a89",
   "metadata": {},
   "source": [
    "All three—run with that"
   ]
  },
  {
   "cell_type": "code",
   "execution_count": 33,
   "id": "c1242fd6",
   "metadata": {},
   "outputs": [
    {
     "data": {
      "application/javascript": [
       "\n",
       "            setTimeout(function() {\n",
       "                var nbb_cell_id = 33;\n",
       "                var nbb_unformatted_code = \"df = df.assign(\\n    est_age=lambda df: np.where(~pd.isna(df[\\\"Age\\\"]), df[\\\"Age\\\"], df[\\\"est_age_7\\\"]),\\n).drop(\\n    [f\\\"est_age_{i}\\\" for i in range(8)],\\n    axis=1,\\n)\";\n",
       "                var nbb_formatted_code = \"df = df.assign(\\n    est_age=lambda df: np.where(~pd.isna(df[\\\"Age\\\"]), df[\\\"Age\\\"], df[\\\"est_age_7\\\"]),\\n).drop(\\n    [f\\\"est_age_{i}\\\" for i in range(8)],\\n    axis=1,\\n)\";\n",
       "                var nbb_cells = Jupyter.notebook.get_cells();\n",
       "                for (var i = 0; i < nbb_cells.length; ++i) {\n",
       "                    if (nbb_cells[i].input_prompt_number == nbb_cell_id) {\n",
       "                        if (nbb_cells[i].get_text() == nbb_unformatted_code) {\n",
       "                             nbb_cells[i].set_text(nbb_formatted_code);\n",
       "                        }\n",
       "                        break;\n",
       "                    }\n",
       "                }\n",
       "            }, 500);\n",
       "            "
      ],
      "text/plain": [
       "<IPython.core.display.Javascript object>"
      ]
     },
     "metadata": {},
     "output_type": "display_data"
    }
   ],
   "source": [
    "df = df.assign(\n",
    "    est_age=lambda df: np.where(~pd.isna(df[\"Age\"]), df[\"Age\"], df[\"est_age_7\"]),\n",
    ").drop(\n",
    "    [f\"est_age_{i}\" for i in range(8)],\n",
    "    axis=1,\n",
    ")"
   ]
  },
  {
   "cell_type": "code",
   "execution_count": 34,
   "id": "be9f2e63",
   "metadata": {},
   "outputs": [
    {
     "data": {
      "text/html": [
       "<div>\n",
       "<style scoped>\n",
       "    .dataframe tbody tr th:only-of-type {\n",
       "        vertical-align: middle;\n",
       "    }\n",
       "\n",
       "    .dataframe tbody tr th {\n",
       "        vertical-align: top;\n",
       "    }\n",
       "\n",
       "    .dataframe thead th {\n",
       "        text-align: right;\n",
       "    }\n",
       "</style>\n",
       "<table border=\"1\" class=\"dataframe\">\n",
       "  <thead>\n",
       "    <tr style=\"text-align: right;\">\n",
       "      <th></th>\n",
       "      <th>PassengerId</th>\n",
       "      <th>Survived</th>\n",
       "      <th>Pclass</th>\n",
       "      <th>Name</th>\n",
       "      <th>Sex</th>\n",
       "      <th>Age</th>\n",
       "      <th>SibSp</th>\n",
       "      <th>Parch</th>\n",
       "      <th>Ticket</th>\n",
       "      <th>Fare</th>\n",
       "      <th>...</th>\n",
       "      <th>Embarked</th>\n",
       "      <th>fare</th>\n",
       "      <th>port_from</th>\n",
       "      <th>has_all_info</th>\n",
       "      <th>cabin_section</th>\n",
       "      <th>party_size</th>\n",
       "      <th>party_size_desc</th>\n",
       "      <th>title</th>\n",
       "      <th>title_group</th>\n",
       "      <th>est_age</th>\n",
       "    </tr>\n",
       "  </thead>\n",
       "  <tbody>\n",
       "    <tr>\n",
       "      <th>0</th>\n",
       "      <td>1</td>\n",
       "      <td>0</td>\n",
       "      <td>3</td>\n",
       "      <td>Braund, Mr. Owen Harris</td>\n",
       "      <td>male</td>\n",
       "      <td>22.0</td>\n",
       "      <td>1</td>\n",
       "      <td>0</td>\n",
       "      <td>A/5 21171</td>\n",
       "      <td>7.2500</td>\n",
       "      <td>...</td>\n",
       "      <td>S</td>\n",
       "      <td>7.2500</td>\n",
       "      <td>S</td>\n",
       "      <td>False</td>\n",
       "      <td>unknown</td>\n",
       "      <td>2</td>\n",
       "      <td>small</td>\n",
       "      <td>Mr</td>\n",
       "      <td>general</td>\n",
       "      <td>22.0</td>\n",
       "    </tr>\n",
       "    <tr>\n",
       "      <th>1</th>\n",
       "      <td>2</td>\n",
       "      <td>1</td>\n",
       "      <td>1</td>\n",
       "      <td>Cumings, Mrs. John Bradley (Florence Briggs Th...</td>\n",
       "      <td>female</td>\n",
       "      <td>38.0</td>\n",
       "      <td>1</td>\n",
       "      <td>0</td>\n",
       "      <td>PC 17599</td>\n",
       "      <td>71.2833</td>\n",
       "      <td>...</td>\n",
       "      <td>C</td>\n",
       "      <td>71.2833</td>\n",
       "      <td>C</td>\n",
       "      <td>True</td>\n",
       "      <td>C</td>\n",
       "      <td>2</td>\n",
       "      <td>small</td>\n",
       "      <td>Mrs</td>\n",
       "      <td>general</td>\n",
       "      <td>38.0</td>\n",
       "    </tr>\n",
       "    <tr>\n",
       "      <th>2</th>\n",
       "      <td>3</td>\n",
       "      <td>1</td>\n",
       "      <td>3</td>\n",
       "      <td>Heikkinen, Miss. Laina</td>\n",
       "      <td>female</td>\n",
       "      <td>26.0</td>\n",
       "      <td>0</td>\n",
       "      <td>0</td>\n",
       "      <td>STON/O2. 3101282</td>\n",
       "      <td>7.9250</td>\n",
       "      <td>...</td>\n",
       "      <td>S</td>\n",
       "      <td>7.9250</td>\n",
       "      <td>S</td>\n",
       "      <td>False</td>\n",
       "      <td>unknown</td>\n",
       "      <td>1</td>\n",
       "      <td>solo</td>\n",
       "      <td>Miss</td>\n",
       "      <td>young-adult</td>\n",
       "      <td>26.0</td>\n",
       "    </tr>\n",
       "    <tr>\n",
       "      <th>3</th>\n",
       "      <td>4</td>\n",
       "      <td>1</td>\n",
       "      <td>1</td>\n",
       "      <td>Futrelle, Mrs. Jacques Heath (Lily May Peel)</td>\n",
       "      <td>female</td>\n",
       "      <td>35.0</td>\n",
       "      <td>1</td>\n",
       "      <td>0</td>\n",
       "      <td>113803</td>\n",
       "      <td>53.1000</td>\n",
       "      <td>...</td>\n",
       "      <td>S</td>\n",
       "      <td>53.1000</td>\n",
       "      <td>S</td>\n",
       "      <td>True</td>\n",
       "      <td>C</td>\n",
       "      <td>2</td>\n",
       "      <td>small</td>\n",
       "      <td>Mrs</td>\n",
       "      <td>general</td>\n",
       "      <td>35.0</td>\n",
       "    </tr>\n",
       "    <tr>\n",
       "      <th>4</th>\n",
       "      <td>5</td>\n",
       "      <td>0</td>\n",
       "      <td>3</td>\n",
       "      <td>Allen, Mr. William Henry</td>\n",
       "      <td>male</td>\n",
       "      <td>35.0</td>\n",
       "      <td>0</td>\n",
       "      <td>0</td>\n",
       "      <td>373450</td>\n",
       "      <td>8.0500</td>\n",
       "      <td>...</td>\n",
       "      <td>S</td>\n",
       "      <td>8.0500</td>\n",
       "      <td>S</td>\n",
       "      <td>False</td>\n",
       "      <td>unknown</td>\n",
       "      <td>1</td>\n",
       "      <td>solo</td>\n",
       "      <td>Mr</td>\n",
       "      <td>general</td>\n",
       "      <td>35.0</td>\n",
       "    </tr>\n",
       "  </tbody>\n",
       "</table>\n",
       "<p>5 rows × 21 columns</p>\n",
       "</div>"
      ],
      "text/plain": [
       "   PassengerId  Survived  Pclass  \\\n",
       "0            1         0       3   \n",
       "1            2         1       1   \n",
       "2            3         1       3   \n",
       "3            4         1       1   \n",
       "4            5         0       3   \n",
       "\n",
       "                                                Name     Sex   Age  SibSp  \\\n",
       "0                            Braund, Mr. Owen Harris    male  22.0      1   \n",
       "1  Cumings, Mrs. John Bradley (Florence Briggs Th...  female  38.0      1   \n",
       "2                             Heikkinen, Miss. Laina  female  26.0      0   \n",
       "3       Futrelle, Mrs. Jacques Heath (Lily May Peel)  female  35.0      1   \n",
       "4                           Allen, Mr. William Henry    male  35.0      0   \n",
       "\n",
       "   Parch            Ticket     Fare  ... Embarked     fare  port_from  \\\n",
       "0      0         A/5 21171   7.2500  ...        S   7.2500          S   \n",
       "1      0          PC 17599  71.2833  ...        C  71.2833          C   \n",
       "2      0  STON/O2. 3101282   7.9250  ...        S   7.9250          S   \n",
       "3      0            113803  53.1000  ...        S  53.1000          S   \n",
       "4      0            373450   8.0500  ...        S   8.0500          S   \n",
       "\n",
       "  has_all_info  cabin_section party_size  party_size_desc title  title_group  \\\n",
       "0        False        unknown          2            small    Mr      general   \n",
       "1         True              C          2            small   Mrs      general   \n",
       "2        False        unknown          1             solo  Miss  young-adult   \n",
       "3         True              C          2            small   Mrs      general   \n",
       "4        False        unknown          1             solo    Mr      general   \n",
       "\n",
       "  est_age  \n",
       "0    22.0  \n",
       "1    38.0  \n",
       "2    26.0  \n",
       "3    35.0  \n",
       "4    35.0  \n",
       "\n",
       "[5 rows x 21 columns]"
      ]
     },
     "execution_count": 34,
     "metadata": {},
     "output_type": "execute_result"
    },
    {
     "data": {
      "application/javascript": [
       "\n",
       "            setTimeout(function() {\n",
       "                var nbb_cell_id = 34;\n",
       "                var nbb_unformatted_code = \"df.head()\";\n",
       "                var nbb_formatted_code = \"df.head()\";\n",
       "                var nbb_cells = Jupyter.notebook.get_cells();\n",
       "                for (var i = 0; i < nbb_cells.length; ++i) {\n",
       "                    if (nbb_cells[i].input_prompt_number == nbb_cell_id) {\n",
       "                        if (nbb_cells[i].get_text() == nbb_unformatted_code) {\n",
       "                             nbb_cells[i].set_text(nbb_formatted_code);\n",
       "                        }\n",
       "                        break;\n",
       "                    }\n",
       "                }\n",
       "            }, 500);\n",
       "            "
      ],
      "text/plain": [
       "<IPython.core.display.Javascript object>"
      ]
     },
     "metadata": {},
     "output_type": "display_data"
    }
   ],
   "source": [
    "df.head()"
   ]
  },
  {
   "cell_type": "markdown",
   "id": "29c2e281",
   "metadata": {},
   "source": [
    "Examine the new features."
   ]
  },
  {
   "cell_type": "code",
   "execution_count": 35,
   "id": "471e17ed",
   "metadata": {},
   "outputs": [
    {
     "data": {
      "text/plain": [
       "0       unknown\n",
       "1             C\n",
       "2       unknown\n",
       "3             C\n",
       "4       unknown\n",
       "         ...   \n",
       "1304    unknown\n",
       "1305          C\n",
       "1306    unknown\n",
       "1307    unknown\n",
       "1308    unknown\n",
       "Name: cabin_section, Length: 1309, dtype: object"
      ]
     },
     "execution_count": 35,
     "metadata": {},
     "output_type": "execute_result"
    },
    {
     "data": {
      "application/javascript": [
       "\n",
       "            setTimeout(function() {\n",
       "                var nbb_cell_id = 35;\n",
       "                var nbb_unformatted_code = \"df.cabin_section\";\n",
       "                var nbb_formatted_code = \"df.cabin_section\";\n",
       "                var nbb_cells = Jupyter.notebook.get_cells();\n",
       "                for (var i = 0; i < nbb_cells.length; ++i) {\n",
       "                    if (nbb_cells[i].input_prompt_number == nbb_cell_id) {\n",
       "                        if (nbb_cells[i].get_text() == nbb_unformatted_code) {\n",
       "                             nbb_cells[i].set_text(nbb_formatted_code);\n",
       "                        }\n",
       "                        break;\n",
       "                    }\n",
       "                }\n",
       "            }, 500);\n",
       "            "
      ],
      "text/plain": [
       "<IPython.core.display.Javascript object>"
      ]
     },
     "metadata": {},
     "output_type": "display_data"
    }
   ],
   "source": [
    "df.cabin_section"
   ]
  },
  {
   "cell_type": "code",
   "execution_count": 36,
   "id": "7f71fafb",
   "metadata": {},
   "outputs": [
    {
     "data": {
      "text/plain": [
       "['A', 'B', 'C', 'D', 'E', 'F', 'G', 'T', 'unknown']"
      ]
     },
     "execution_count": 36,
     "metadata": {},
     "output_type": "execute_result"
    },
    {
     "data": {
      "application/javascript": [
       "\n",
       "            setTimeout(function() {\n",
       "                var nbb_cell_id = 36;\n",
       "                var nbb_unformatted_code = \"sorted(df[\\\"cabin_section\\\"].unique())\";\n",
       "                var nbb_formatted_code = \"sorted(df[\\\"cabin_section\\\"].unique())\";\n",
       "                var nbb_cells = Jupyter.notebook.get_cells();\n",
       "                for (var i = 0; i < nbb_cells.length; ++i) {\n",
       "                    if (nbb_cells[i].input_prompt_number == nbb_cell_id) {\n",
       "                        if (nbb_cells[i].get_text() == nbb_unformatted_code) {\n",
       "                             nbb_cells[i].set_text(nbb_formatted_code);\n",
       "                        }\n",
       "                        break;\n",
       "                    }\n",
       "                }\n",
       "            }, 500);\n",
       "            "
      ],
      "text/plain": [
       "<IPython.core.display.Javascript object>"
      ]
     },
     "metadata": {},
     "output_type": "display_data"
    }
   ],
   "source": [
    "sorted(df[\"cabin_section\"].unique())"
   ]
  },
  {
   "cell_type": "code",
   "execution_count": 37,
   "id": "bd4b6bd1",
   "metadata": {},
   "outputs": [
    {
     "data": {
      "image/png": "[encoded data removed]",
      "text/plain": [
       "<Figure size 576x288 with 1 Axes>"
      ]
     },
     "metadata": {
      "needs_background": "light"
     },
     "output_type": "display_data"
    },
    {
     "data": {
      "image/png": "[encoded data removed]",
      "text/plain": [
       "<Figure size 576x288 with 1 Axes>"
      ]
     },
     "metadata": {
      "needs_background": "light"
     },
     "output_type": "display_data"
    },
    {
     "data": {
      "image/png": "[encoded data removed]",
      "text/plain": [
       "<Figure size 576x288 with 1 Axes>"
      ]
     },
     "metadata": {
      "needs_background": "light"
     },
     "output_type": "display_data"
    },
    {
     "data": {
      "image/png": "[encoded data removed]",
      "text/plain": [
       "<Figure size 576x288 with 1 Axes>"
      ]
     },
     "metadata": {
      "needs_background": "light"
     },
     "output_type": "display_data"
    },
    {
     "data": {
      "application/javascript": [
       "\n",
       "            setTimeout(function() {\n",
       "                var nbb_cell_id = 37;\n",
       "                var nbb_unformatted_code = \"party_size_order = [\\\"solo\\\", \\\"small\\\", \\\"large\\\"]\\n\\nsns.countplot(\\n    data=df, x=\\\"cabin_section\\\", hue=\\\"Survived\\\", order=sorted(df[\\\"cabin_section\\\"].unique()), hue_order=[0, 1]\\n)\\nplt.title(\\\"Survivorship by cabin section\\\")\\nplt.show()\\n\\nsns.countplot(data=df, x=\\\"party_size_desc\\\", hue=\\\"Sex\\\", order=party_size_order)\\nplt.title(\\\"Sex distribution for different party sizes\\\")\\nplt.show()\\n\\nsns.histplot(data=df, x=\\\"Age\\\", hue=\\\"party_size_desc\\\", kde=True, hue_order=party_size_order)\\nplt.title(\\\"Age distribution for different party sizes\\\")\\nplt.show()\\n\\nsns.countplot(\\n    data=df, x=\\\"party_size_desc\\\", hue=\\\"Survived\\\", order=party_size_order, hue_order=[0, 1],\\n)\\nplt.title(\\\"Survivorship for different party sizes\\\")\\nplt.show()\";\n",
       "                var nbb_formatted_code = \"party_size_order = [\\\"solo\\\", \\\"small\\\", \\\"large\\\"]\\n\\nsns.countplot(\\n    data=df,\\n    x=\\\"cabin_section\\\",\\n    hue=\\\"Survived\\\",\\n    order=sorted(df[\\\"cabin_section\\\"].unique()),\\n    hue_order=[0, 1],\\n)\\nplt.title(\\\"Survivorship by cabin section\\\")\\nplt.show()\\n\\nsns.countplot(data=df, x=\\\"party_size_desc\\\", hue=\\\"Sex\\\", order=party_size_order)\\nplt.title(\\\"Sex distribution for different party sizes\\\")\\nplt.show()\\n\\nsns.histplot(\\n    data=df, x=\\\"Age\\\", hue=\\\"party_size_desc\\\", kde=True, hue_order=party_size_order\\n)\\nplt.title(\\\"Age distribution for different party sizes\\\")\\nplt.show()\\n\\nsns.countplot(\\n    data=df,\\n    x=\\\"party_size_desc\\\",\\n    hue=\\\"Survived\\\",\\n    order=party_size_order,\\n    hue_order=[0, 1],\\n)\\nplt.title(\\\"Survivorship for different party sizes\\\")\\nplt.show()\";\n",
       "                var nbb_cells = Jupyter.notebook.get_cells();\n",
       "                for (var i = 0; i < nbb_cells.length; ++i) {\n",
       "                    if (nbb_cells[i].input_prompt_number == nbb_cell_id) {\n",
       "                        if (nbb_cells[i].get_text() == nbb_unformatted_code) {\n",
       "                             nbb_cells[i].set_text(nbb_formatted_code);\n",
       "                        }\n",
       "                        break;\n",
       "                    }\n",
       "                }\n",
       "            }, 500);\n",
       "            "
      ],
      "text/plain": [
       "<IPython.core.display.Javascript object>"
      ]
     },
     "metadata": {},
     "output_type": "display_data"
    }
   ],
   "source": [
    "party_size_order = [\"solo\", \"small\", \"large\"]\n",
    "\n",
    "sns.countplot(\n",
    "    data=df, x=\"cabin_section\", hue=\"Survived\", order=sorted(df[\"cabin_section\"].unique()), hue_order=[0, 1]\n",
    ")\n",
    "plt.title(\"Survivorship by cabin section\")\n",
    "plt.show()\n",
    "\n",
    "sns.countplot(data=df, x=\"party_size_desc\", hue=\"Sex\", order=party_size_order)\n",
    "plt.title(\"Sex distribution for different party sizes\")\n",
    "plt.show()\n",
    "\n",
    "sns.histplot(data=df, x=\"Age\", hue=\"party_size_desc\", kde=True, hue_order=party_size_order)\n",
    "plt.title(\"Age distribution for different party sizes\")\n",
    "plt.show()\n",
    "\n",
    "sns.countplot(\n",
    "    data=df, x=\"party_size_desc\", hue=\"Survived\", order=party_size_order, hue_order=[0, 1],\n",
    ")\n",
    "plt.title(\"Survivorship for different party sizes\")\n",
    "plt.show()\n"
   ]
  },
  {
   "cell_type": "markdown",
   "id": "545f1daa",
   "metadata": {},
   "source": [
    "### Model"
   ]
  },
  {
   "cell_type": "code",
   "execution_count": 38,
   "id": "62b9aef5",
   "metadata": {},
   "outputs": [
    {
     "data": {
      "application/javascript": [
       "\n",
       "            setTimeout(function() {\n",
       "                var nbb_cell_id = 38;\n",
       "                var nbb_unformatted_code = \"from sklearn.preprocessing import StandardScaler\\n\\nfrom sklearn.model_selection import GridSearchCV, KFold, cross_val_score\";\n",
       "                var nbb_formatted_code = \"from sklearn.preprocessing import StandardScaler\\n\\nfrom sklearn.model_selection import GridSearchCV, KFold, cross_val_score\";\n",
       "                var nbb_cells = Jupyter.notebook.get_cells();\n",
       "                for (var i = 0; i < nbb_cells.length; ++i) {\n",
       "                    if (nbb_cells[i].input_prompt_number == nbb_cell_id) {\n",
       "                        if (nbb_cells[i].get_text() == nbb_unformatted_code) {\n",
       "                             nbb_cells[i].set_text(nbb_formatted_code);\n",
       "                        }\n",
       "                        break;\n",
       "                    }\n",
       "                }\n",
       "            }, 500);\n",
       "            "
      ],
      "text/plain": [
       "<IPython.core.display.Javascript object>"
      ]
     },
     "metadata": {},
     "output_type": "display_data"
    }
   ],
   "source": [
    "from sklearn.preprocessing import StandardScaler\n",
    "\n",
    "from sklearn.model_selection import GridSearchCV, KFold, cross_val_score"
   ]
  },
  {
   "cell_type": "markdown",
   "id": "878efa08",
   "metadata": {},
   "source": [
    "Set a couple baselines"
   ]
  },
  {
   "cell_type": "code",
   "execution_count": 39,
   "id": "abb7cc88",
   "metadata": {},
   "outputs": [
    {
     "name": "stdout",
     "output_type": "stream",
     "text": [
      "Predict all don't survive: 0.616\n"
     ]
    },
    {
     "data": {
      "application/javascript": [
       "\n",
       "            setTimeout(function() {\n",
       "                var nbb_cell_id = 39;\n",
       "                var nbb_unformatted_code = \"p_survive = train_df[\\\"Survived\\\"].mean()\\n\\nbaseline_acc = max(p_survive, 1 - p_survive)\\n\\nprint(f\\\"Predict all don't survive: {baseline_acc:.3f}\\\")\";\n",
       "                var nbb_formatted_code = \"p_survive = train_df[\\\"Survived\\\"].mean()\\n\\nbaseline_acc = max(p_survive, 1 - p_survive)\\n\\nprint(f\\\"Predict all don't survive: {baseline_acc:.3f}\\\")\";\n",
       "                var nbb_cells = Jupyter.notebook.get_cells();\n",
       "                for (var i = 0; i < nbb_cells.length; ++i) {\n",
       "                    if (nbb_cells[i].input_prompt_number == nbb_cell_id) {\n",
       "                        if (nbb_cells[i].get_text() == nbb_unformatted_code) {\n",
       "                             nbb_cells[i].set_text(nbb_formatted_code);\n",
       "                        }\n",
       "                        break;\n",
       "                    }\n",
       "                }\n",
       "            }, 500);\n",
       "            "
      ],
      "text/plain": [
       "<IPython.core.display.Javascript object>"
      ]
     },
     "metadata": {},
     "output_type": "display_data"
    }
   ],
   "source": [
    "p_survive = train_df[\"Survived\"].mean()\n",
    "\n",
    "baseline_acc = max(p_survive, 1 - p_survive)\n",
    "\n",
    "print(f\"Predict all don't survive: {baseline_acc:.3f}\")"
   ]
  },
  {
   "cell_type": "code",
   "execution_count": 40,
   "id": "e5078091",
   "metadata": {},
   "outputs": [
    {
     "name": "stdout",
     "output_type": "stream",
     "text": [
      "Predict survive by sex only: 0.777\n"
     ]
    },
    {
     "data": {
      "application/javascript": [
       "\n",
       "            setTimeout(function() {\n",
       "                var nbb_cell_id = 40;\n",
       "                var nbb_unformatted_code = \"sex_survived_df = train_df.groupby(\\\"Sex\\\").agg(\\n    {\\\"Survived\\\": \\\"mean\\\", \\\"PassengerId\\\": \\\"count\\\"}\\n)\\n\\np_survive_f = sex_survived_df.iloc[0][0]\\nn_f = sex_survived_df.iloc[0][1]\\n\\np_survive_m = sex_survived_df.iloc[1][0]\\nn_m = sex_survived_df.iloc[0][1]\\n\\nacc_f = max(p_survive_f, 1 - p_survive_f)\\nacc_m = max(p_survive_m, 1 - p_survive_m)\\n\\nbaseline_acc_by_sex = ((n_f * acc_f) + (n_m * acc_m)) / (n_f + n_m)\\n\\nprint(f\\\"Predict survive by sex only: {baseline_acc_by_sex:.3f}\\\")\";\n",
       "                var nbb_formatted_code = \"sex_survived_df = train_df.groupby(\\\"Sex\\\").agg(\\n    {\\\"Survived\\\": \\\"mean\\\", \\\"PassengerId\\\": \\\"count\\\"}\\n)\\n\\np_survive_f = sex_survived_df.iloc[0][0]\\nn_f = sex_survived_df.iloc[0][1]\\n\\np_survive_m = sex_survived_df.iloc[1][0]\\nn_m = sex_survived_df.iloc[0][1]\\n\\nacc_f = max(p_survive_f, 1 - p_survive_f)\\nacc_m = max(p_survive_m, 1 - p_survive_m)\\n\\nbaseline_acc_by_sex = ((n_f * acc_f) + (n_m * acc_m)) / (n_f + n_m)\\n\\nprint(f\\\"Predict survive by sex only: {baseline_acc_by_sex:.3f}\\\")\";\n",
       "                var nbb_cells = Jupyter.notebook.get_cells();\n",
       "                for (var i = 0; i < nbb_cells.length; ++i) {\n",
       "                    if (nbb_cells[i].input_prompt_number == nbb_cell_id) {\n",
       "                        if (nbb_cells[i].get_text() == nbb_unformatted_code) {\n",
       "                             nbb_cells[i].set_text(nbb_formatted_code);\n",
       "                        }\n",
       "                        break;\n",
       "                    }\n",
       "                }\n",
       "            }, 500);\n",
       "            "
      ],
      "text/plain": [
       "<IPython.core.display.Javascript object>"
      ]
     },
     "metadata": {},
     "output_type": "display_data"
    }
   ],
   "source": [
    "sex_survived_df = train_df.groupby(\"Sex\").agg(\n",
    "    {\"Survived\": \"mean\", \"PassengerId\": \"count\"}\n",
    ")\n",
    "\n",
    "p_survive_f = sex_survived_df.iloc[0][0]\n",
    "n_f = sex_survived_df.iloc[0][1]\n",
    "\n",
    "p_survive_m = sex_survived_df.iloc[1][0]\n",
    "n_m = sex_survived_df.iloc[0][1]\n",
    "\n",
    "acc_f = max(p_survive_f, 1 - p_survive_f)\n",
    "acc_m = max(p_survive_m, 1 - p_survive_m)\n",
    "\n",
    "baseline_acc_by_sex = ((n_f * acc_f) + (n_m * acc_m)) / (n_f + n_m)\n",
    "\n",
    "print(f\"Predict survive by sex only: {baseline_acc_by_sex:.3f}\")"
   ]
  },
  {
   "cell_type": "markdown",
   "id": "6a27cbd1",
   "metadata": {},
   "source": [
    "Preprocess the data"
   ]
  },
  {
   "cell_type": "code",
   "execution_count": 41,
   "id": "5cc0adc9",
   "metadata": {},
   "outputs": [
    {
     "data": {
      "application/javascript": [
       "\n",
       "            setTimeout(function() {\n",
       "                var nbb_cell_id = 41;\n",
       "                var nbb_unformatted_code = \"ord_features = [\\n    \\\"Pclass\\\",\\n    \\\"est_age\\\",\\n    \\\"fare\\\",\\n    \\\"has_all_info\\\",\\n    \\\"party_size\\\",\\n    #     \\\"SibSp\\\",\\n    #     \\\"Parch\\\",\\n    #     \\\"title_group\\\",\\n]\\ncat_features = [\\n    \\\"Sex\\\",\\n    \\\"port_from\\\",\\n    \\\"cabin_section\\\",\\n]\\n\\ntrain_features = ord_features + cat_features\\ntarget_feature = \\\"Survived\\\"\";\n",
       "                var nbb_formatted_code = \"ord_features = [\\n    \\\"Pclass\\\",\\n    \\\"est_age\\\",\\n    \\\"fare\\\",\\n    \\\"has_all_info\\\",\\n    \\\"party_size\\\",\\n    #     \\\"SibSp\\\",\\n    #     \\\"Parch\\\",\\n    #     \\\"title_group\\\",\\n]\\ncat_features = [\\n    \\\"Sex\\\",\\n    \\\"port_from\\\",\\n    \\\"cabin_section\\\",\\n]\\n\\ntrain_features = ord_features + cat_features\\ntarget_feature = \\\"Survived\\\"\";\n",
       "                var nbb_cells = Jupyter.notebook.get_cells();\n",
       "                for (var i = 0; i < nbb_cells.length; ++i) {\n",
       "                    if (nbb_cells[i].input_prompt_number == nbb_cell_id) {\n",
       "                        if (nbb_cells[i].get_text() == nbb_unformatted_code) {\n",
       "                             nbb_cells[i].set_text(nbb_formatted_code);\n",
       "                        }\n",
       "                        break;\n",
       "                    }\n",
       "                }\n",
       "            }, 500);\n",
       "            "
      ],
      "text/plain": [
       "<IPython.core.display.Javascript object>"
      ]
     },
     "metadata": {},
     "output_type": "display_data"
    }
   ],
   "source": [
    "ord_features = [\n",
    "    \"Pclass\",\n",
    "    \"est_age\",\n",
    "    \"fare\",\n",
    "    \"has_all_info\",\n",
    "    \"party_size\",\n",
    "    #     \"SibSp\",\n",
    "    #     \"Parch\",\n",
    "    #     \"title_group\",\n",
    "]\n",
    "cat_features = [\n",
    "    \"Sex\",\n",
    "    \"port_from\",\n",
    "    \"cabin_section\",\n",
    "]\n",
    "\n",
    "train_features = ord_features + cat_features\n",
    "target_feature = \"Survived\""
   ]
  },
  {
   "cell_type": "code",
   "execution_count": 42,
   "id": "39cbaa25",
   "metadata": {},
   "outputs": [
    {
     "data": {
      "application/javascript": [
       "\n",
       "            setTimeout(function() {\n",
       "                var nbb_cell_id = 42;\n",
       "                var nbb_unformatted_code = \"clean_df = pd.get_dummies(\\n    data=df[train_features + [target_feature]],\\n    columns=cat_features,\\n    drop_first=True,\\n).assign(has_all_info=lambda df: df.has_all_info.astype(np.int8))\\n\\nclean_train_df = clean_df[: train_df.shape[0]]\\nclean_test_df = clean_df[train_df.shape[0] :]\";\n",
       "                var nbb_formatted_code = \"clean_df = pd.get_dummies(\\n    data=df[train_features + [target_feature]],\\n    columns=cat_features,\\n    drop_first=True,\\n).assign(has_all_info=lambda df: df.has_all_info.astype(np.int8))\\n\\nclean_train_df = clean_df[: train_df.shape[0]]\\nclean_test_df = clean_df[train_df.shape[0] :]\";\n",
       "                var nbb_cells = Jupyter.notebook.get_cells();\n",
       "                for (var i = 0; i < nbb_cells.length; ++i) {\n",
       "                    if (nbb_cells[i].input_prompt_number == nbb_cell_id) {\n",
       "                        if (nbb_cells[i].get_text() == nbb_unformatted_code) {\n",
       "                             nbb_cells[i].set_text(nbb_formatted_code);\n",
       "                        }\n",
       "                        break;\n",
       "                    }\n",
       "                }\n",
       "            }, 500);\n",
       "            "
      ],
      "text/plain": [
       "<IPython.core.display.Javascript object>"
      ]
     },
     "metadata": {},
     "output_type": "display_data"
    }
   ],
   "source": [
    "clean_df = pd.get_dummies(\n",
    "    data=df[train_features + [target_feature]],\n",
    "    columns=cat_features,\n",
    "    drop_first=True,\n",
    ").assign(has_all_info=lambda df: df.has_all_info.astype(np.int8))\n",
    "\n",
    "clean_train_df = clean_df[: train_df.shape[0]]\n",
    "clean_test_df = clean_df[train_df.shape[0] :]"
   ]
  },
  {
   "cell_type": "code",
   "execution_count": 43,
   "id": "e00557b5",
   "metadata": {},
   "outputs": [
    {
     "data": {
      "application/javascript": [
       "\n",
       "            setTimeout(function() {\n",
       "                var nbb_cell_id = 43;\n",
       "                var nbb_unformatted_code = \"X_train = clean_train_df.drop(target_feature, axis=1).to_numpy()\\nY_train = clean_train_df[target_feature].to_numpy()\\n\\nX_test = clean_test_df.drop(target_feature, axis=1).to_numpy()\";\n",
       "                var nbb_formatted_code = \"X_train = clean_train_df.drop(target_feature, axis=1).to_numpy()\\nY_train = clean_train_df[target_feature].to_numpy()\\n\\nX_test = clean_test_df.drop(target_feature, axis=1).to_numpy()\";\n",
       "                var nbb_cells = Jupyter.notebook.get_cells();\n",
       "                for (var i = 0; i < nbb_cells.length; ++i) {\n",
       "                    if (nbb_cells[i].input_prompt_number == nbb_cell_id) {\n",
       "                        if (nbb_cells[i].get_text() == nbb_unformatted_code) {\n",
       "                             nbb_cells[i].set_text(nbb_formatted_code);\n",
       "                        }\n",
       "                        break;\n",
       "                    }\n",
       "                }\n",
       "            }, 500);\n",
       "            "
      ],
      "text/plain": [
       "<IPython.core.display.Javascript object>"
      ]
     },
     "metadata": {},
     "output_type": "display_data"
    }
   ],
   "source": [
    "X_train = clean_train_df.drop(target_feature, axis=1).to_numpy()\n",
    "Y_train = clean_train_df[target_feature].to_numpy()\n",
    "\n",
    "X_test = clean_test_df.drop(target_feature, axis=1).to_numpy()"
   ]
  },
  {
   "cell_type": "code",
   "execution_count": 44,
   "id": "db197f91",
   "metadata": {},
   "outputs": [
    {
     "data": {
      "application/javascript": [
       "\n",
       "            setTimeout(function() {\n",
       "                var nbb_cell_id = 44;\n",
       "                var nbb_unformatted_code = \"kfold_cv = KFold(\\n    n_splits=10,\\n    shuffle=True,\\n    random_state=0,\\n)\\n\\nmetrics = [\\\"accuracy\\\", \\\"roc_auc\\\"]\";\n",
       "                var nbb_formatted_code = \"kfold_cv = KFold(\\n    n_splits=10,\\n    shuffle=True,\\n    random_state=0,\\n)\\n\\nmetrics = [\\\"accuracy\\\", \\\"roc_auc\\\"]\";\n",
       "                var nbb_cells = Jupyter.notebook.get_cells();\n",
       "                for (var i = 0; i < nbb_cells.length; ++i) {\n",
       "                    if (nbb_cells[i].input_prompt_number == nbb_cell_id) {\n",
       "                        if (nbb_cells[i].get_text() == nbb_unformatted_code) {\n",
       "                             nbb_cells[i].set_text(nbb_formatted_code);\n",
       "                        }\n",
       "                        break;\n",
       "                    }\n",
       "                }\n",
       "            }, 500);\n",
       "            "
      ],
      "text/plain": [
       "<IPython.core.display.Javascript object>"
      ]
     },
     "metadata": {},
     "output_type": "display_data"
    }
   ],
   "source": [
    "kfold_cv = KFold(\n",
    "    n_splits=10,\n",
    "    shuffle=True,\n",
    "    random_state=0,\n",
    ")\n",
    "\n",
    "metrics = [\"accuracy\", \"roc_auc\"]"
   ]
  },
  {
   "cell_type": "markdown",
   "id": "2458316d",
   "metadata": {},
   "source": [
    "Logistic Regression"
   ]
  },
  {
   "cell_type": "code",
   "execution_count": 45,
   "id": "d1449332",
   "metadata": {},
   "outputs": [
    {
     "data": {
      "application/javascript": [
       "\n",
       "            setTimeout(function() {\n",
       "                var nbb_cell_id = 45;\n",
       "                var nbb_unformatted_code = \"# Scale data\\nscaler = StandardScaler()\\n\\nX_train_ord = X_train[..., : len(ord_features)]\\nX_train_cat = X_train[..., len(ord_features) :]\\n\\nX_train_scaled = np.hstack([scaler.fit_transform(X_train_ord), X_train_cat])\";\n",
       "                var nbb_formatted_code = \"# Scale data\\nscaler = StandardScaler()\\n\\nX_train_ord = X_train[..., : len(ord_features)]\\nX_train_cat = X_train[..., len(ord_features) :]\\n\\nX_train_scaled = np.hstack([scaler.fit_transform(X_train_ord), X_train_cat])\";\n",
       "                var nbb_cells = Jupyter.notebook.get_cells();\n",
       "                for (var i = 0; i < nbb_cells.length; ++i) {\n",
       "                    if (nbb_cells[i].input_prompt_number == nbb_cell_id) {\n",
       "                        if (nbb_cells[i].get_text() == nbb_unformatted_code) {\n",
       "                             nbb_cells[i].set_text(nbb_formatted_code);\n",
       "                        }\n",
       "                        break;\n",
       "                    }\n",
       "                }\n",
       "            }, 500);\n",
       "            "
      ],
      "text/plain": [
       "<IPython.core.display.Javascript object>"
      ]
     },
     "metadata": {},
     "output_type": "display_data"
    }
   ],
   "source": [
    "# Scale data\n",
    "scaler = StandardScaler()\n",
    "\n",
    "X_train_ord = X_train[..., : len(ord_features)]\n",
    "X_train_cat = X_train[..., len(ord_features) :]\n",
    "\n",
    "X_train_scaled = np.hstack([scaler.fit_transform(X_train_ord), X_train_cat])"
   ]
  },
  {
   "cell_type": "code",
   "execution_count": 46,
   "id": "18eee229",
   "metadata": {},
   "outputs": [
    {
     "data": {
      "application/javascript": [
       "\n",
       "            setTimeout(function() {\n",
       "                var nbb_cell_id = 46;\n",
       "                var nbb_unformatted_code = \"from sklearn.linear_model import LogisticRegression\";\n",
       "                var nbb_formatted_code = \"from sklearn.linear_model import LogisticRegression\";\n",
       "                var nbb_cells = Jupyter.notebook.get_cells();\n",
       "                for (var i = 0; i < nbb_cells.length; ++i) {\n",
       "                    if (nbb_cells[i].input_prompt_number == nbb_cell_id) {\n",
       "                        if (nbb_cells[i].get_text() == nbb_unformatted_code) {\n",
       "                             nbb_cells[i].set_text(nbb_formatted_code);\n",
       "                        }\n",
       "                        break;\n",
       "                    }\n",
       "                }\n",
       "            }, 500);\n",
       "            "
      ],
      "text/plain": [
       "<IPython.core.display.Javascript object>"
      ]
     },
     "metadata": {},
     "output_type": "display_data"
    }
   ],
   "source": [
    "from sklearn.linear_model import LogisticRegression"
   ]
  },
  {
   "cell_type": "code",
   "execution_count": 47,
   "id": "71c8f4e3",
   "metadata": {
    "scrolled": true
   },
   "outputs": [
    {
     "name": "stdout",
     "output_type": "stream",
     "text": [
      "Best params: {'l1_ratio': 0.5, 'max_iter': 1000, 'penalty': 'elasticnet', 'solver': 'saga'}\n",
      "\n",
      "Best accuracy     = 0.79687\n",
      "Best AUC          = 0.85497\n",
      "\n",
      "\n",
      "CPU times: user 97.7 ms, sys: 63.2 ms, total: 161 ms\n",
      "Wall time: 1.22 s\n"
     ]
    },
    {
     "data": {
      "application/javascript": [
       "\n",
       "            setTimeout(function() {\n",
       "                var nbb_cell_id = 47;\n",
       "                var nbb_unformatted_code = \"%%time \\n\\nparam_grid_lr = [\\n    dict(penalty=[\\\"none\\\"], max_iter=[1000]),\\n    dict(penalty=[\\\"elasticnet\\\"], l1_ratio=[0, 0.25, 0.5, 0.75, 1.0], solver=[\\\"saga\\\"], max_iter=[1000]),\\n]\\n\\ngs_lr = GridSearchCV(\\n    estimator=LogisticRegression(),\\n    param_grid=param_grid_lr,\\n    scoring=metrics,\\n    n_jobs=4,\\n    refit=\\\"roc_auc\\\",\\n)\\ngs_lr.fit(\\n    X=X_train_scaled, \\n    y=Y_train,\\n)\\n\\nresults = gs_lr.cv_results_\\nbest_idx = np.argmin(results[\\\"rank_test_roc_auc\\\"])\\nprint(f\\\"Best params: {gs_lr.best_params_}\\\\n\\\")\\nprint(\\\"Best accuracy     = {:.5f}\\\".format(results[\\\"mean_test_accuracy\\\"][best_idx]))\\nprint(\\\"Best AUC          = {:.5f}\\\".format(results[\\\"mean_test_roc_auc\\\"][best_idx]))\\nprint(\\\"\\\\n\\\")\";\n",
       "                var nbb_formatted_code = \"%%time \\n\\nparam_grid_lr = [\\n    dict(penalty=[\\\"none\\\"], max_iter=[1000]),\\n    dict(penalty=[\\\"elasticnet\\\"], l1_ratio=[0, 0.25, 0.5, 0.75, 1.0], solver=[\\\"saga\\\"], max_iter=[1000]),\\n]\\n\\ngs_lr = GridSearchCV(\\n    estimator=LogisticRegression(),\\n    param_grid=param_grid_lr,\\n    scoring=metrics,\\n    n_jobs=4,\\n    refit=\\\"roc_auc\\\",\\n)\\ngs_lr.fit(\\n    X=X_train_scaled, \\n    y=Y_train,\\n)\\n\\nresults = gs_lr.cv_results_\\nbest_idx = np.argmin(results[\\\"rank_test_roc_auc\\\"])\\nprint(f\\\"Best params: {gs_lr.best_params_}\\\\n\\\")\\nprint(\\\"Best accuracy     = {:.5f}\\\".format(results[\\\"mean_test_accuracy\\\"][best_idx]))\\nprint(\\\"Best AUC          = {:.5f}\\\".format(results[\\\"mean_test_roc_auc\\\"][best_idx]))\\nprint(\\\"\\\\n\\\")\";\n",
       "                var nbb_cells = Jupyter.notebook.get_cells();\n",
       "                for (var i = 0; i < nbb_cells.length; ++i) {\n",
       "                    if (nbb_cells[i].input_prompt_number == nbb_cell_id) {\n",
       "                        if (nbb_cells[i].get_text() == nbb_unformatted_code) {\n",
       "                             nbb_cells[i].set_text(nbb_formatted_code);\n",
       "                        }\n",
       "                        break;\n",
       "                    }\n",
       "                }\n",
       "            }, 500);\n",
       "            "
      ],
      "text/plain": [
       "<IPython.core.display.Javascript object>"
      ]
     },
     "metadata": {},
     "output_type": "display_data"
    }
   ],
   "source": [
    "%%time \n",
    "\n",
    "param_grid_lr = [\n",
    "    dict(penalty=[\"none\"], max_iter=[1000]),\n",
    "    dict(penalty=[\"elasticnet\"], l1_ratio=[0, 0.25, 0.5, 0.75, 1.0], solver=[\"saga\"], max_iter=[1000]),\n",
    "]\n",
    "\n",
    "gs_lr = GridSearchCV(\n",
    "    estimator=LogisticRegression(),\n",
    "    param_grid=param_grid_lr,\n",
    "    scoring=metrics,\n",
    "    n_jobs=4,\n",
    "    refit=\"roc_auc\",\n",
    ")\n",
    "gs_lr.fit(\n",
    "    X=X_train_scaled, \n",
    "    y=Y_train,\n",
    ")\n",
    "\n",
    "results = gs_lr.cv_results_\n",
    "best_idx = np.argmin(results[\"rank_test_roc_auc\"])\n",
    "print(f\"Best params: {gs_lr.best_params_}\\n\")\n",
    "print(\"Best accuracy     = {:.5f}\".format(results[\"mean_test_accuracy\"][best_idx]))\n",
    "print(\"Best AUC          = {:.5f}\".format(results[\"mean_test_roc_auc\"][best_idx]))\n",
    "print(\"\\n\")"
   ]
  },
  {
   "cell_type": "markdown",
   "id": "a968fb06",
   "metadata": {},
   "source": [
    "XGBoost\n",
    "\n",
    "Easy to overfit on such a small dataset, so use conservative parameters"
   ]
  },
  {
   "cell_type": "code",
   "execution_count": 48,
   "id": "81a77812",
   "metadata": {},
   "outputs": [
    {
     "data": {
      "application/javascript": [
       "\n",
       "            setTimeout(function() {\n",
       "                var nbb_cell_id = 48;\n",
       "                var nbb_unformatted_code = \"from xgboost import XGBClassifier\";\n",
       "                var nbb_formatted_code = \"from xgboost import XGBClassifier\";\n",
       "                var nbb_cells = Jupyter.notebook.get_cells();\n",
       "                for (var i = 0; i < nbb_cells.length; ++i) {\n",
       "                    if (nbb_cells[i].input_prompt_number == nbb_cell_id) {\n",
       "                        if (nbb_cells[i].get_text() == nbb_unformatted_code) {\n",
       "                             nbb_cells[i].set_text(nbb_formatted_code);\n",
       "                        }\n",
       "                        break;\n",
       "                    }\n",
       "                }\n",
       "            }, 500);\n",
       "            "
      ],
      "text/plain": [
       "<IPython.core.display.Javascript object>"
      ]
     },
     "metadata": {},
     "output_type": "display_data"
    }
   ],
   "source": [
    "from xgboost import XGBClassifier"
   ]
  },
  {
   "cell_type": "code",
   "execution_count": 49,
   "id": "c0397a51",
   "metadata": {
    "scrolled": false
   },
   "outputs": [
    {
     "name": "stdout",
     "output_type": "stream",
     "text": [
      "Best params: {'booster': 'gbtree', 'colsample_bytree': 1, 'gamma': 0, 'learning_rate': 0.1, 'max_delta_step': 0, 'max_depth': 5, 'min_child_weight': 10, 'n_estimators': 200, 'reg_alpha': 1.5, 'reg_lambda': 0, 'sampling_method': 'uniform', 'subsample': 0.8}\n",
      "\n",
      "Best accuracy     = 0.82157\n",
      "Best AUC          = 0.87743\n",
      "\n",
      "\n",
      "CPU times: user 3.82 s, sys: 332 ms, total: 4.16 s\n",
      "Wall time: 3min 55s\n"
     ]
    },
    {
     "data": {
      "application/javascript": [
       "\n",
       "            setTimeout(function() {\n",
       "                var nbb_cell_id = 49;\n",
       "                var nbb_unformatted_code = \"%%time\\n\\nparam_grid_xgb = dict(\\n    booster=[\\\"gbtree\\\"],\\n    n_estimators=[50, 100, 200],\\n    learning_rate=[0.1],\\n    gamma=[0],\\n    max_depth=[4, 5],\\n    min_child_weight=[5, 10],\\n    max_delta_step=[0],\\n    sampling_method=[\\\"uniform\\\"],\\n    subsample=[0.8],\\n    colsample_bytree=[0.8, 1],\\n    reg_alpha=[1, 1.5, 2],\\n    reg_lambda=[0, 0.5, 1],\\n)\\n\\ngs_xgb = GridSearchCV(\\n    estimator=XGBClassifier(use_label_encoder=False, eval_metric=\\\"auc\\\"),\\n    param_grid=param_grid_xgb,\\n    scoring=metrics,\\n    refit=\\\"roc_auc\\\",\\n    n_jobs=4,\\n)\\ngs_xgb.fit(\\n    X=X_train, \\n    y=Y_train,\\n)\\n\\nresults = gs_xgb.cv_results_\\nbest_idx = np.argmin(results[\\\"rank_test_roc_auc\\\"])\\nprint(f\\\"Best params: {gs_xgb.best_params_}\\\\n\\\")\\nprint(\\\"Best accuracy     = {:.5f}\\\".format(results[\\\"mean_test_accuracy\\\"][best_idx]))\\nprint(\\\"Best AUC          = {:.5f}\\\".format(results[\\\"mean_test_roc_auc\\\"][best_idx]))\\nprint(\\\"\\\\n\\\")\";\n",
       "                var nbb_formatted_code = \"%%time\\n\\nparam_grid_xgb = dict(\\n    booster=[\\\"gbtree\\\"],\\n    n_estimators=[50, 100, 200],\\n    learning_rate=[0.1],\\n    gamma=[0],\\n    max_depth=[4, 5],\\n    min_child_weight=[5, 10],\\n    max_delta_step=[0],\\n    sampling_method=[\\\"uniform\\\"],\\n    subsample=[0.8],\\n    colsample_bytree=[0.8, 1],\\n    reg_alpha=[1, 1.5, 2],\\n    reg_lambda=[0, 0.5, 1],\\n)\\n\\ngs_xgb = GridSearchCV(\\n    estimator=XGBClassifier(use_label_encoder=False, eval_metric=\\\"auc\\\"),\\n    param_grid=param_grid_xgb,\\n    scoring=metrics,\\n    refit=\\\"roc_auc\\\",\\n    n_jobs=4,\\n)\\ngs_xgb.fit(\\n    X=X_train, \\n    y=Y_train,\\n)\\n\\nresults = gs_xgb.cv_results_\\nbest_idx = np.argmin(results[\\\"rank_test_roc_auc\\\"])\\nprint(f\\\"Best params: {gs_xgb.best_params_}\\\\n\\\")\\nprint(\\\"Best accuracy     = {:.5f}\\\".format(results[\\\"mean_test_accuracy\\\"][best_idx]))\\nprint(\\\"Best AUC          = {:.5f}\\\".format(results[\\\"mean_test_roc_auc\\\"][best_idx]))\\nprint(\\\"\\\\n\\\")\";\n",
       "                var nbb_cells = Jupyter.notebook.get_cells();\n",
       "                for (var i = 0; i < nbb_cells.length; ++i) {\n",
       "                    if (nbb_cells[i].input_prompt_number == nbb_cell_id) {\n",
       "                        if (nbb_cells[i].get_text() == nbb_unformatted_code) {\n",
       "                             nbb_cells[i].set_text(nbb_formatted_code);\n",
       "                        }\n",
       "                        break;\n",
       "                    }\n",
       "                }\n",
       "            }, 500);\n",
       "            "
      ],
      "text/plain": [
       "<IPython.core.display.Javascript object>"
      ]
     },
     "metadata": {},
     "output_type": "display_data"
    }
   ],
   "source": [
    "%%time\n",
    "\n",
    "param_grid_xgb = dict(\n",
    "    booster=[\"gbtree\"],\n",
    "    n_estimators=[50, 100, 200],\n",
    "    learning_rate=[0.1],\n",
    "    gamma=[0],\n",
    "    max_depth=[4, 5],\n",
    "    min_child_weight=[5, 10],\n",
    "    max_delta_step=[0],\n",
    "    sampling_method=[\"uniform\"],\n",
    "    subsample=[0.8],\n",
    "    colsample_bytree=[0.8, 1],\n",
    "    reg_alpha=[1, 1.5, 2],\n",
    "    reg_lambda=[0, 0.5, 1],\n",
    ")\n",
    "\n",
    "gs_xgb = GridSearchCV(\n",
    "    estimator=XGBClassifier(use_label_encoder=False, eval_metric=\"auc\"),\n",
    "    param_grid=param_grid_xgb,\n",
    "    scoring=metrics,\n",
    "    refit=\"roc_auc\",\n",
    "    n_jobs=4,\n",
    ")\n",
    "gs_xgb.fit(\n",
    "    X=X_train, \n",
    "    y=Y_train,\n",
    ")\n",
    "\n",
    "results = gs_xgb.cv_results_\n",
    "best_idx = np.argmin(results[\"rank_test_roc_auc\"])\n",
    "print(f\"Best params: {gs_xgb.best_params_}\\n\")\n",
    "print(\"Best accuracy     = {:.5f}\".format(results[\"mean_test_accuracy\"][best_idx]))\n",
    "print(\"Best AUC          = {:.5f}\".format(results[\"mean_test_roc_auc\"][best_idx]))\n",
    "print(\"\\n\")"
   ]
  },
  {
   "cell_type": "markdown",
   "id": "ad2fcd53",
   "metadata": {},
   "source": [
    "Overall, best validation accuracy is XGBoost with performance:\n",
    "\n",
    "Accuracy = 82.2%  \n",
    "AUC = 0.877"
   ]
  },
  {
   "cell_type": "code",
   "execution_count": 50,
   "id": "5abf977e",
   "metadata": {},
   "outputs": [
    {
     "data": {
      "image/png": "[encoded data removed]",
      "text/plain": [
       "<Figure size 576x288 with 1 Axes>"
      ]
     },
     "metadata": {
      "needs_background": "light"
     },
     "output_type": "display_data"
    },
    {
     "data": {
      "application/javascript": [
       "\n",
       "            setTimeout(function() {\n",
       "                var nbb_cell_id = 50;\n",
       "                var nbb_unformatted_code = \"sns.scatterplot(\\n    x=gs_xgb.cv_results_[\\\"mean_test_roc_auc\\\"],\\n    y=gs_xgb.cv_results_[\\\"std_test_roc_auc\\\"],\\n)\\nplt.title(\\\"Std vs. mean AUC\\\")\\nplt.show()\";\n",
       "                var nbb_formatted_code = \"sns.scatterplot(\\n    x=gs_xgb.cv_results_[\\\"mean_test_roc_auc\\\"],\\n    y=gs_xgb.cv_results_[\\\"std_test_roc_auc\\\"],\\n)\\nplt.title(\\\"Std vs. mean AUC\\\")\\nplt.show()\";\n",
       "                var nbb_cells = Jupyter.notebook.get_cells();\n",
       "                for (var i = 0; i < nbb_cells.length; ++i) {\n",
       "                    if (nbb_cells[i].input_prompt_number == nbb_cell_id) {\n",
       "                        if (nbb_cells[i].get_text() == nbb_unformatted_code) {\n",
       "                             nbb_cells[i].set_text(nbb_formatted_code);\n",
       "                        }\n",
       "                        break;\n",
       "                    }\n",
       "                }\n",
       "            }, 500);\n",
       "            "
      ],
      "text/plain": [
       "<IPython.core.display.Javascript object>"
      ]
     },
     "metadata": {},
     "output_type": "display_data"
    }
   ],
   "source": [
    "sns.scatterplot(\n",
    "    x=gs_xgb.cv_results_[\"mean_test_roc_auc\"],\n",
    "    y=gs_xgb.cv_results_[\"std_test_roc_auc\"],\n",
    ")\n",
    "plt.title(\"Std vs. mean AUC\")\n",
    "plt.show()"
   ]
  },
  {
   "cell_type": "markdown",
   "id": "cbc78897",
   "metadata": {},
   "source": [
    "### Predict"
   ]
  },
  {
   "cell_type": "code",
   "execution_count": 51,
   "id": "5afc3f21",
   "metadata": {},
   "outputs": [
    {
     "data": {
      "application/javascript": [
       "\n",
       "            setTimeout(function() {\n",
       "                var nbb_cell_id = 51;\n",
       "                var nbb_unformatted_code = \"model = gs_xgb.best_estimator_\";\n",
       "                var nbb_formatted_code = \"model = gs_xgb.best_estimator_\";\n",
       "                var nbb_cells = Jupyter.notebook.get_cells();\n",
       "                for (var i = 0; i < nbb_cells.length; ++i) {\n",
       "                    if (nbb_cells[i].input_prompt_number == nbb_cell_id) {\n",
       "                        if (nbb_cells[i].get_text() == nbb_unformatted_code) {\n",
       "                             nbb_cells[i].set_text(nbb_formatted_code);\n",
       "                        }\n",
       "                        break;\n",
       "                    }\n",
       "                }\n",
       "            }, 500);\n",
       "            "
      ],
      "text/plain": [
       "<IPython.core.display.Javascript object>"
      ]
     },
     "metadata": {},
     "output_type": "display_data"
    }
   ],
   "source": [
    "model = gs_xgb.best_estimator_"
   ]
  },
  {
   "cell_type": "code",
   "execution_count": 52,
   "id": "d757eff6",
   "metadata": {},
   "outputs": [
    {
     "data": {
      "application/javascript": [
       "\n",
       "            setTimeout(function() {\n",
       "                var nbb_cell_id = 52;\n",
       "                var nbb_unformatted_code = \"Y_test = model.predict_proba(X=X_test)[:, 1]\";\n",
       "                var nbb_formatted_code = \"Y_test = model.predict_proba(X=X_test)[:, 1]\";\n",
       "                var nbb_cells = Jupyter.notebook.get_cells();\n",
       "                for (var i = 0; i < nbb_cells.length; ++i) {\n",
       "                    if (nbb_cells[i].input_prompt_number == nbb_cell_id) {\n",
       "                        if (nbb_cells[i].get_text() == nbb_unformatted_code) {\n",
       "                             nbb_cells[i].set_text(nbb_formatted_code);\n",
       "                        }\n",
       "                        break;\n",
       "                    }\n",
       "                }\n",
       "            }, 500);\n",
       "            "
      ],
      "text/plain": [
       "<IPython.core.display.Javascript object>"
      ]
     },
     "metadata": {},
     "output_type": "display_data"
    }
   ],
   "source": [
    "Y_test = model.predict_proba(X=X_test)[:, 1]"
   ]
  },
  {
   "cell_type": "code",
   "execution_count": 53,
   "id": "e8d3d8e1",
   "metadata": {},
   "outputs": [
    {
     "data": {
      "application/javascript": [
       "\n",
       "            setTimeout(function() {\n",
       "                var nbb_cell_id = 53;\n",
       "                var nbb_unformatted_code = \"test_df = test_df.assign(\\n    p_survived=Y_test,\\n    survived=(Y_test > 0.5).astype(np.int8),\\n)\";\n",
       "                var nbb_formatted_code = \"test_df = test_df.assign(\\n    p_survived=Y_test,\\n    survived=(Y_test > 0.5).astype(np.int8),\\n)\";\n",
       "                var nbb_cells = Jupyter.notebook.get_cells();\n",
       "                for (var i = 0; i < nbb_cells.length; ++i) {\n",
       "                    if (nbb_cells[i].input_prompt_number == nbb_cell_id) {\n",
       "                        if (nbb_cells[i].get_text() == nbb_unformatted_code) {\n",
       "                             nbb_cells[i].set_text(nbb_formatted_code);\n",
       "                        }\n",
       "                        break;\n",
       "                    }\n",
       "                }\n",
       "            }, 500);\n",
       "            "
      ],
      "text/plain": [
       "<IPython.core.display.Javascript object>"
      ]
     },
     "metadata": {},
     "output_type": "display_data"
    }
   ],
   "source": [
    "test_df = test_df.assign(\n",
    "    p_survived=Y_test,\n",
    "    survived=(Y_test > 0.5).astype(np.int8),\n",
    ")"
   ]
  },
  {
   "cell_type": "code",
   "execution_count": 54,
   "id": "30236a73",
   "metadata": {},
   "outputs": [
    {
     "data": {
      "text/html": [
       "<div>\n",
       "<style scoped>\n",
       "    .dataframe tbody tr th:only-of-type {\n",
       "        vertical-align: middle;\n",
       "    }\n",
       "\n",
       "    .dataframe tbody tr th {\n",
       "        vertical-align: top;\n",
       "    }\n",
       "\n",
       "    .dataframe thead th {\n",
       "        text-align: right;\n",
       "    }\n",
       "</style>\n",
       "<table border=\"1\" class=\"dataframe\">\n",
       "  <thead>\n",
       "    <tr style=\"text-align: right;\">\n",
       "      <th></th>\n",
       "      <th>PassengerId</th>\n",
       "      <th>Pclass</th>\n",
       "      <th>Name</th>\n",
       "      <th>Sex</th>\n",
       "      <th>Age</th>\n",
       "      <th>SibSp</th>\n",
       "      <th>Parch</th>\n",
       "      <th>Ticket</th>\n",
       "      <th>Fare</th>\n",
       "      <th>Cabin</th>\n",
       "      <th>Embarked</th>\n",
       "      <th>p_survived</th>\n",
       "      <th>survived</th>\n",
       "    </tr>\n",
       "  </thead>\n",
       "  <tbody>\n",
       "    <tr>\n",
       "      <th>0</th>\n",
       "      <td>892</td>\n",
       "      <td>3</td>\n",
       "      <td>Kelly, Mr. James</td>\n",
       "      <td>male</td>\n",
       "      <td>34.5</td>\n",
       "      <td>0</td>\n",
       "      <td>0</td>\n",
       "      <td>330911</td>\n",
       "      <td>7.8292</td>\n",
       "      <td>NaN</td>\n",
       "      <td>Q</td>\n",
       "      <td>0.064422</td>\n",
       "      <td>0</td>\n",
       "    </tr>\n",
       "    <tr>\n",
       "      <th>1</th>\n",
       "      <td>893</td>\n",
       "      <td>3</td>\n",
       "      <td>Wilkes, Mrs. James (Ellen Needs)</td>\n",
       "      <td>female</td>\n",
       "      <td>47.0</td>\n",
       "      <td>1</td>\n",
       "      <td>0</td>\n",
       "      <td>363272</td>\n",
       "      <td>7.0000</td>\n",
       "      <td>NaN</td>\n",
       "      <td>S</td>\n",
       "      <td>0.181393</td>\n",
       "      <td>0</td>\n",
       "    </tr>\n",
       "    <tr>\n",
       "      <th>2</th>\n",
       "      <td>894</td>\n",
       "      <td>2</td>\n",
       "      <td>Myles, Mr. Thomas Francis</td>\n",
       "      <td>male</td>\n",
       "      <td>62.0</td>\n",
       "      <td>0</td>\n",
       "      <td>0</td>\n",
       "      <td>240276</td>\n",
       "      <td>9.6875</td>\n",
       "      <td>NaN</td>\n",
       "      <td>Q</td>\n",
       "      <td>0.074574</td>\n",
       "      <td>0</td>\n",
       "    </tr>\n",
       "    <tr>\n",
       "      <th>3</th>\n",
       "      <td>895</td>\n",
       "      <td>3</td>\n",
       "      <td>Wirz, Mr. Albert</td>\n",
       "      <td>male</td>\n",
       "      <td>27.0</td>\n",
       "      <td>0</td>\n",
       "      <td>0</td>\n",
       "      <td>315154</td>\n",
       "      <td>8.6625</td>\n",
       "      <td>NaN</td>\n",
       "      <td>S</td>\n",
       "      <td>0.162978</td>\n",
       "      <td>0</td>\n",
       "    </tr>\n",
       "    <tr>\n",
       "      <th>4</th>\n",
       "      <td>896</td>\n",
       "      <td>3</td>\n",
       "      <td>Hirvonen, Mrs. Alexander (Helga E Lindqvist)</td>\n",
       "      <td>female</td>\n",
       "      <td>22.0</td>\n",
       "      <td>1</td>\n",
       "      <td>1</td>\n",
       "      <td>3101298</td>\n",
       "      <td>12.2875</td>\n",
       "      <td>NaN</td>\n",
       "      <td>S</td>\n",
       "      <td>0.332988</td>\n",
       "      <td>0</td>\n",
       "    </tr>\n",
       "    <tr>\n",
       "      <th>...</th>\n",
       "      <td>...</td>\n",
       "      <td>...</td>\n",
       "      <td>...</td>\n",
       "      <td>...</td>\n",
       "      <td>...</td>\n",
       "      <td>...</td>\n",
       "      <td>...</td>\n",
       "      <td>...</td>\n",
       "      <td>...</td>\n",
       "      <td>...</td>\n",
       "      <td>...</td>\n",
       "      <td>...</td>\n",
       "      <td>...</td>\n",
       "    </tr>\n",
       "    <tr>\n",
       "      <th>413</th>\n",
       "      <td>1305</td>\n",
       "      <td>3</td>\n",
       "      <td>Spector, Mr. Woolf</td>\n",
       "      <td>male</td>\n",
       "      <td>NaN</td>\n",
       "      <td>0</td>\n",
       "      <td>0</td>\n",
       "      <td>A.5. 3236</td>\n",
       "      <td>8.0500</td>\n",
       "      <td>NaN</td>\n",
       "      <td>S</td>\n",
       "      <td>0.085268</td>\n",
       "      <td>0</td>\n",
       "    </tr>\n",
       "    <tr>\n",
       "      <th>414</th>\n",
       "      <td>1306</td>\n",
       "      <td>1</td>\n",
       "      <td>Oliva y Ocana, Dona. Fermina</td>\n",
       "      <td>female</td>\n",
       "      <td>39.0</td>\n",
       "      <td>0</td>\n",
       "      <td>0</td>\n",
       "      <td>PC 17758</td>\n",
       "      <td>108.9000</td>\n",
       "      <td>C105</td>\n",
       "      <td>C</td>\n",
       "      <td>0.972646</td>\n",
       "      <td>1</td>\n",
       "    </tr>\n",
       "    <tr>\n",
       "      <th>415</th>\n",
       "      <td>1307</td>\n",
       "      <td>3</td>\n",
       "      <td>Saether, Mr. Simon Sivertsen</td>\n",
       "      <td>male</td>\n",
       "      <td>38.5</td>\n",
       "      <td>0</td>\n",
       "      <td>0</td>\n",
       "      <td>SOTON/O.Q. 3101262</td>\n",
       "      <td>7.2500</td>\n",
       "      <td>NaN</td>\n",
       "      <td>S</td>\n",
       "      <td>0.022291</td>\n",
       "      <td>0</td>\n",
       "    </tr>\n",
       "    <tr>\n",
       "      <th>416</th>\n",
       "      <td>1308</td>\n",
       "      <td>3</td>\n",
       "      <td>Ware, Mr. Frederick</td>\n",
       "      <td>male</td>\n",
       "      <td>NaN</td>\n",
       "      <td>0</td>\n",
       "      <td>0</td>\n",
       "      <td>359309</td>\n",
       "      <td>8.0500</td>\n",
       "      <td>NaN</td>\n",
       "      <td>S</td>\n",
       "      <td>0.085268</td>\n",
       "      <td>0</td>\n",
       "    </tr>\n",
       "    <tr>\n",
       "      <th>417</th>\n",
       "      <td>1309</td>\n",
       "      <td>3</td>\n",
       "      <td>Peter, Master. Michael J</td>\n",
       "      <td>male</td>\n",
       "      <td>NaN</td>\n",
       "      <td>1</td>\n",
       "      <td>1</td>\n",
       "      <td>2668</td>\n",
       "      <td>22.3583</td>\n",
       "      <td>NaN</td>\n",
       "      <td>C</td>\n",
       "      <td>0.774578</td>\n",
       "      <td>1</td>\n",
       "    </tr>\n",
       "  </tbody>\n",
       "</table>\n",
       "<p>418 rows × 13 columns</p>\n",
       "</div>"
      ],
      "text/plain": [
       "     PassengerId  Pclass                                          Name  \\\n",
       "0            892       3                              Kelly, Mr. James   \n",
       "1            893       3              Wilkes, Mrs. James (Ellen Needs)   \n",
       "2            894       2                     Myles, Mr. Thomas Francis   \n",
       "3            895       3                              Wirz, Mr. Albert   \n",
       "4            896       3  Hirvonen, Mrs. Alexander (Helga E Lindqvist)   \n",
       "..           ...     ...                                           ...   \n",
       "413         1305       3                            Spector, Mr. Woolf   \n",
       "414         1306       1                  Oliva y Ocana, Dona. Fermina   \n",
       "415         1307       3                  Saether, Mr. Simon Sivertsen   \n",
       "416         1308       3                           Ware, Mr. Frederick   \n",
       "417         1309       3                      Peter, Master. Michael J   \n",
       "\n",
       "        Sex   Age  SibSp  Parch              Ticket      Fare Cabin Embarked  \\\n",
       "0      male  34.5      0      0              330911    7.8292   NaN        Q   \n",
       "1    female  47.0      1      0              363272    7.0000   NaN        S   \n",
       "2      male  62.0      0      0              240276    9.6875   NaN        Q   \n",
       "3      male  27.0      0      0              315154    8.6625   NaN        S   \n",
       "4    female  22.0      1      1             3101298   12.2875   NaN        S   \n",
       "..      ...   ...    ...    ...                 ...       ...   ...      ...   \n",
       "413    male   NaN      0      0           A.5. 3236    8.0500   NaN        S   \n",
       "414  female  39.0      0      0            PC 17758  108.9000  C105        C   \n",
       "415    male  38.5      0      0  SOTON/O.Q. 3101262    7.2500   NaN        S   \n",
       "416    male   NaN      0      0              359309    8.0500   NaN        S   \n",
       "417    male   NaN      1      1                2668   22.3583   NaN        C   \n",
       "\n",
       "     p_survived  survived  \n",
       "0      0.064422         0  \n",
       "1      0.181393         0  \n",
       "2      0.074574         0  \n",
       "3      0.162978         0  \n",
       "4      0.332988         0  \n",
       "..          ...       ...  \n",
       "413    0.085268         0  \n",
       "414    0.972646         1  \n",
       "415    0.022291         0  \n",
       "416    0.085268         0  \n",
       "417    0.774578         1  \n",
       "\n",
       "[418 rows x 13 columns]"
      ]
     },
     "execution_count": 54,
     "metadata": {},
     "output_type": "execute_result"
    },
    {
     "data": {
      "application/javascript": [
       "\n",
       "            setTimeout(function() {\n",
       "                var nbb_cell_id = 54;\n",
       "                var nbb_unformatted_code = \"test_df\";\n",
       "                var nbb_formatted_code = \"test_df\";\n",
       "                var nbb_cells = Jupyter.notebook.get_cells();\n",
       "                for (var i = 0; i < nbb_cells.length; ++i) {\n",
       "                    if (nbb_cells[i].input_prompt_number == nbb_cell_id) {\n",
       "                        if (nbb_cells[i].get_text() == nbb_unformatted_code) {\n",
       "                             nbb_cells[i].set_text(nbb_formatted_code);\n",
       "                        }\n",
       "                        break;\n",
       "                    }\n",
       "                }\n",
       "            }, 500);\n",
       "            "
      ],
      "text/plain": [
       "<IPython.core.display.Javascript object>"
      ]
     },
     "metadata": {},
     "output_type": "display_data"
    }
   ],
   "source": [
    "test_df"
   ]
  },
  {
   "cell_type": "code",
   "execution_count": 55,
   "id": "42088556",
   "metadata": {},
   "outputs": [
    {
     "data": {
      "application/javascript": [
       "\n",
       "            setTimeout(function() {\n",
       "                var nbb_cell_id = 55;\n",
       "                var nbb_unformatted_code = \"test_df[[\\\"PassengerId\\\", \\\"survived\\\"]].rename(columns=dict(survived=\\\"Survived\\\")).to_csv(\\n    \\\"data/submission.csv\\\", index=False\\n)\";\n",
       "                var nbb_formatted_code = \"test_df[[\\\"PassengerId\\\", \\\"survived\\\"]].rename(columns=dict(survived=\\\"Survived\\\")).to_csv(\\n    \\\"data/submission.csv\\\", index=False\\n)\";\n",
       "                var nbb_cells = Jupyter.notebook.get_cells();\n",
       "                for (var i = 0; i < nbb_cells.length; ++i) {\n",
       "                    if (nbb_cells[i].input_prompt_number == nbb_cell_id) {\n",
       "                        if (nbb_cells[i].get_text() == nbb_unformatted_code) {\n",
       "                             nbb_cells[i].set_text(nbb_formatted_code);\n",
       "                        }\n",
       "                        break;\n",
       "                    }\n",
       "                }\n",
       "            }, 500);\n",
       "            "
      ],
      "text/plain": [
       "<IPython.core.display.Javascript object>"
      ]
     },
     "metadata": {},
     "output_type": "display_data"
    }
   ],
   "source": [
    "test_df[[\"PassengerId\", \"survived\"]].rename(columns=dict(survived=\"Survived\")).to_csv(\n",
    "    \"data/submission.csv\", index=False\n",
    ")"
   ]
  },
  {
   "cell_type": "code",
   "execution_count": null,
   "id": "90dcc72d",
   "metadata": {},
   "outputs": [],
   "source": []
  }
 ],
 "metadata": {
  "kernelspec": {
   "display_name": "Python 3 (ipykernel)",
   "language": "python",
   "name": "python3"
  },
  "language_info": {
   "codemirror_mode": {
    "name": "ipython",
    "version": 3
   },
   "file_extension": ".py",
   "mimetype": "text/x-python",
   "name": "python",
   "nbconvert_exporter": "python",
   "pygments_lexer": "ipython3",
   "version": "3.9.8"
  }
 },
 "nbformat": 4,
 "nbformat_minor": 5
}
