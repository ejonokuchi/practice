{
 "cells": [
  {
   "cell_type": "markdown",
   "id": "ca5533d6",
   "metadata": {},
   "source": [
    "### Imports"
   ]
  },
  {
   "cell_type": "code",
   "execution_count": null,
   "id": "11fa9513",
   "metadata": {},
   "outputs": [],
   "source": [
    "import matplotlib.pyplot as plt\n",
    "import numpy as np\n",
    "import pandas as pd\n",
    "import seaborn as sns"
   ]
  },
  {
   "cell_type": "code",
   "execution_count": null,
   "id": "cc7c2fc5",
   "metadata": {},
   "outputs": [],
   "source": [
    "plt.rcParams[\"figure.figsize\"] = (8, 4)\n",
    "plt.rcParams[\"patch.linewidth\"] = 0\n",
    "sns.set_palette(\"muted\")"
   ]
  },
  {
   "cell_type": "markdown",
   "id": "e5a6911e",
   "metadata": {},
   "source": [
    "### Data Exploration"
   ]
  },
  {
   "cell_type": "code",
   "execution_count": null,
   "id": "a411faeb",
   "metadata": {},
   "outputs": [],
   "source": [
    "train_df = pd.read_csv(\"data/train.csv\")\n",
    "test_df = pd.read_csv(\"data/test.csv\")"
   ]
  },
  {
   "cell_type": "code",
   "execution_count": null,
   "id": "f68691ac",
   "metadata": {},
   "outputs": [],
   "source": [
    "train_df"
   ]
  },
  {
   "cell_type": "code",
   "execution_count": null,
   "id": "d1d18e86",
   "metadata": {},
   "outputs": [],
   "source": [
    "train_df.info()"
   ]
  },
  {
   "cell_type": "code",
   "execution_count": null,
   "id": "820fe94e",
   "metadata": {},
   "outputs": [],
   "source": [
    "train_df.describe()"
   ]
  },
  {
   "cell_type": "markdown",
   "id": "afd26c0f",
   "metadata": {},
   "source": [
    "Univariate distributions"
   ]
  },
  {
   "cell_type": "code",
   "execution_count": null,
   "id": "37512fca",
   "metadata": {},
   "outputs": [],
   "source": [
    "sns.countplot(data=train_df, x=\"Survived\")\n",
    "plt.title(f\"Survival rate = {train_df['Survived'].mean():.3f} (n = {train_df.shape[0]})\")\n",
    "plt.show()\n",
    "\n",
    "sns.histplot(data=train_df, x=\"Age\", kde=True)\n",
    "plt.title(\"Age distribution\")\n",
    "plt.show()\n",
    "\n",
    "sns.countplot(data=train_df, x=\"Sex\")\n",
    "plt.title(\"Sex distribution\")\n",
    "plt.show()\n",
    "\n",
    "sns.countplot(data=train_df, x=\"Pclass\")\n",
    "plt.title(\"Class distribution\")\n",
    "plt.show()"
   ]
  },
  {
   "cell_type": "markdown",
   "id": "b8578a53",
   "metadata": {},
   "source": [
    "Multivariate distributions"
   ]
  },
  {
   "cell_type": "code",
   "execution_count": null,
   "id": "98bc0ca9",
   "metadata": {},
   "outputs": [],
   "source": [
    "sns.heatmap(\n",
    "    data=train_df.drop([\"PassengerId\", \"Name\", \"Ticket\", \"Cabin\"], axis=1).corr().abs(),\n",
    "    cmap=\"rocket_r\",\n",
    ")\n",
    "plt.show()"
   ]
  },
  {
   "cell_type": "code",
   "execution_count": null,
   "id": "8ffe3ac8",
   "metadata": {
    "scrolled": false
   },
   "outputs": [],
   "source": [
    "sns.histplot(data=train_df, x=\"Age\", hue=\"Pclass\", kde=True, palette=\"muted\")\n",
    "plt.title(\"Age distribution by class\")\n",
    "plt.show()\n",
    "\n",
    "sns.countplot(data=train_df, x=\"Pclass\", hue=\"Sex\")\n",
    "plt.title(\"Sex distribution by class\")\n",
    "plt.show()\n",
    "\n",
    "sns.countplot(data=train_df, x=\"Sex\", hue=\"Survived\")\n",
    "plt.title(\"Survivorship by sex\")\n",
    "plt.show()\n",
    "\n",
    "sns.histplot(data=train_df, x=\"Age\", hue=\"Survived\", kde=True)\n",
    "plt.title(\"Survivorship by age\")\n",
    "plt.show()\n",
    "\n",
    "sns.histplot(data=train_df, x=\"Fare\", hue=\"Survived\", kde=True)\n",
    "plt.xlim((0, 200))\n",
    "plt.title(\"Survivorship by ticket fare\")\n",
    "plt.show()"
   ]
  },
  {
   "cell_type": "markdown",
   "id": "64e46a18",
   "metadata": {},
   "source": [
    "### Feature Engineering"
   ]
  },
  {
   "cell_type": "markdown",
   "id": "10821c29",
   "metadata": {},
   "source": [
    "Combine the training and testing data for feature engineering"
   ]
  },
  {
   "cell_type": "code",
   "execution_count": null,
   "id": "aa9b3700",
   "metadata": {},
   "outputs": [],
   "source": [
    "df = pd.concat([train_df, test_df.assign(Survived=-1)], ignore_index=True)"
   ]
  },
  {
   "cell_type": "code",
   "execution_count": null,
   "id": "17cf7385",
   "metadata": {},
   "outputs": [],
   "source": [
    "df.isna().sum()"
   ]
  },
  {
   "cell_type": "markdown",
   "id": "4926aba4",
   "metadata": {},
   "source": [
    "Is there a pattern with the missing values? Maybe people we couldn't collect information from, because they didn't make it?"
   ]
  },
  {
   "cell_type": "code",
   "execution_count": null,
   "id": "687fed8e",
   "metadata": {},
   "outputs": [],
   "source": [
    "has_full_info = ~train_df.isna().any(axis=1)\n",
    "\n",
    "sns.countplot(data=train_df[has_full_info], x=\"Survived\")\n",
    "plt.title(\"Survivorship for passengers with full information\")\n",
    "plt.show()\n",
    "\n",
    "sns.countplot(data=train_df[~has_full_info], x=\"Survived\")\n",
    "plt.title(\"Survivorship for passengers with some missing information\")\n",
    "plt.show()"
   ]
  },
  {
   "cell_type": "code",
   "execution_count": null,
   "id": "f0429166",
   "metadata": {},
   "outputs": [],
   "source": [
    "df[df[\"Fare\"].isna() | df[\"Embarked\"].isna()]"
   ]
  },
  {
   "cell_type": "markdown",
   "id": "085e8483",
   "metadata": {},
   "source": [
    "Only 3 missing `Fare` and `Embarked`, do simple mean/mode imputation for these rows.\n",
    "\n",
    "Add: \n",
    "- `fare`: the fare paid, or imputed mean\n",
    "- `port_from`: the port embarked from, or imputed mode"
   ]
  },
  {
   "cell_type": "code",
   "execution_count": null,
   "id": "85826b3c",
   "metadata": {},
   "outputs": [],
   "source": [
    "df = df.assign(\n",
    "    fare=lambda df: np.where(~df[\"Fare\"].isna(), df[\"Fare\"], df[\"Fare\"].mean()),\n",
    "    port_from=lambda df: np.where(\n",
    "        ~df[\"Embarked\"].isna(), df[\"Embarked\"], df[\"Embarked\"].value_counts().index[0]\n",
    "    ),\n",
    ")"
   ]
  },
  {
   "cell_type": "markdown",
   "id": "1dc9cb30",
   "metadata": {},
   "source": [
    "Add: \n",
    "- `has_all_info`: True if passenger not missing any information"
   ]
  },
  {
   "cell_type": "code",
   "execution_count": null,
   "id": "639217c1",
   "metadata": {},
   "outputs": [],
   "source": [
    "df = df.assign(\n",
    "    has_all_info=lambda df: ~df.isna().any(axis=1),\n",
    ")"
   ]
  },
  {
   "cell_type": "markdown",
   "id": "5f9b4b48",
   "metadata": {},
   "source": [
    "Group the categorical feature Cabin and add a category for \"unknown\""
   ]
  },
  {
   "cell_type": "code",
   "execution_count": null,
   "id": "cd65940b",
   "metadata": {},
   "outputs": [],
   "source": [
    "df[\"Cabin\"].unique()"
   ]
  },
  {
   "cell_type": "markdown",
   "id": "0fed5d23",
   "metadata": {},
   "source": [
    "Add: \n",
    "- `cabin_section`: the cabin section if known, else \"unknown\""
   ]
  },
  {
   "cell_type": "code",
   "execution_count": null,
   "id": "bb4f3788",
   "metadata": {},
   "outputs": [],
   "source": [
    "df = df.assign(\n",
    "    cabin_section=lambda df: df[\"Cabin\"].apply(\n",
    "        lambda cabin_str: (\n",
    "            cabin_str.split()[0][0] if not pd.isna(cabin_str) else \"unknown\"\n",
    "        )\n",
    "    ),\n",
    ")"
   ]
  },
  {
   "cell_type": "code",
   "execution_count": null,
   "id": "85008691",
   "metadata": {},
   "outputs": [],
   "source": [
    "df[\"cabin_section\"].value_counts()"
   ]
  },
  {
   "cell_type": "markdown",
   "id": "977c1423",
   "metadata": {},
   "source": [
    "How many `Age` values are missing?"
   ]
  },
  {
   "cell_type": "code",
   "execution_count": null,
   "id": "5ed60c81",
   "metadata": {},
   "outputs": [],
   "source": [
    "train_df[\"Age\"].isna().mean(), test_df[\"Age\"].isna().mean()"
   ]
  },
  {
   "cell_type": "markdown",
   "id": "3bc36b7b",
   "metadata": {},
   "source": [
    "20% missing in both the training and testing set—that's a lot of rows.\n",
    "\n",
    "Passenger age seems informative based on the distributions, so we should try to impute a value for it.\n",
    "\n",
    "1. Naive approach is to impute mean over all the data\n",
    "\n",
    "2. Slightly better is computing the mean by `Pclass`, the feature with the highest correlation to `Age`\n",
    "\n",
    "3. Slightly better still, compute the mean over multiple features and choose the features that minimize squared-error over the known ages\n",
    "\n",
    "To impute age well, we can extract additional signal hiding in the features:\n",
    "- From `SibSp` and `Parch`, we can get information about their travel party size\n",
    "- From `Name`, we can extract their honorific title, which might inform age\n",
    "    - For example, a \"Mrs.\" is a married woman, and a \"Master\" is a young man"
   ]
  },
  {
   "cell_type": "markdown",
   "id": "1f22079a",
   "metadata": {},
   "source": [
    "Add:\n",
    "- `party_size`: the size of the traveling group"
   ]
  },
  {
   "cell_type": "code",
   "execution_count": null,
   "id": "0c9c5ebc",
   "metadata": {},
   "outputs": [],
   "source": [
    "df = df.assign(\n",
    "    party_size=lambda df: df[\"Parch\"] + df[\"SibSp\"] + 1,\n",
    ")"
   ]
  },
  {
   "cell_type": "code",
   "execution_count": null,
   "id": "81d227b3",
   "metadata": {
    "scrolled": true
   },
   "outputs": [],
   "source": [
    "sns.countplot(data=df[df[\"Survived\"] != -1], x=\"party_size\", hue=\"Survived\")\n",
    "plt.title(\"Survivorship by party size\")\n",
    "plt.show()"
   ]
  },
  {
   "cell_type": "markdown",
   "id": "2d09ae3f",
   "metadata": {},
   "source": [
    "Add:\n",
    "- `party_size_desc`: if the passenger is traveling in a party that is \"solo\", \"small\", or \"large\"\n",
    "\n",
    "This is just for age imputation—at training time we'll just use party size"
   ]
  },
  {
   "cell_type": "code",
   "execution_count": null,
   "id": "f62fc1bb",
   "metadata": {},
   "outputs": [],
   "source": [
    "def get_party_size_desc(n):\n",
    "    if n == 1:\n",
    "        return \"solo\"\n",
    "    elif n < 5:\n",
    "        return \"small\"\n",
    "    else:\n",
    "        return \"large\"\n",
    "\n",
    "df = df.assign(\n",
    "    party_size_desc=lambda df: df[\"party_size\"].apply(get_party_size_desc),\n",
    ")"
   ]
  },
  {
   "cell_type": "markdown",
   "id": "b3b3eab1",
   "metadata": {},
   "source": [
    "Parse the names\n",
    "\n",
    "Add:\n",
    "- `title`: the honorific title in the name"
   ]
  },
  {
   "cell_type": "code",
   "execution_count": null,
   "id": "9cbf9c9d",
   "metadata": {},
   "outputs": [],
   "source": [
    "df = df.assign(\n",
    "    title=lambda df: df[\"Name\"].apply(lambda name: name.split(\", \")[1].split(\".\")[0]),\n",
    ")"
   ]
  },
  {
   "cell_type": "code",
   "execution_count": null,
   "id": "59fa3c9f",
   "metadata": {},
   "outputs": [],
   "source": [
    "df[\"title\"].value_counts()"
   ]
  },
  {
   "cell_type": "markdown",
   "id": "c4a4ffbd",
   "metadata": {},
   "source": [
    "Add:\n",
    "- `title_group`: the bucketed age group based on title"
   ]
  },
  {
   "cell_type": "code",
   "execution_count": null,
   "id": "ddecb88d",
   "metadata": {},
   "outputs": [],
   "source": [
    "group_by_title = {\n",
    "    # young\n",
    "    \"Master\": \"young\",\n",
    "    # young - middle\n",
    "    \"Miss\": \"young-adult\",\n",
    "    # general\n",
    "    \"Mr\": \"general\",\n",
    "    \"Mrs\": \"general\",\n",
    "    # middle-old, distinguished titles\n",
    "    \"Dr\": \"adult\",\n",
    "    \"Rev\": \"adult\",\n",
    "    \"Major\": \"adult\",\n",
    "    \"Col\": \"adult\",\n",
    "    \"Capt\": \"adult\",\n",
    "    # everything else is general\n",
    "}\n",
    "\n",
    "df = df.assign(\n",
    "    title_group=lambda df: df[\"title\"].apply(\n",
    "        lambda title: (\n",
    "            group_by_title[title] \n",
    "            if title in group_by_title\n",
    "            else \"general\"\n",
    "        )\n",
    "    ),\n",
    ")"
   ]
  },
  {
   "cell_type": "code",
   "execution_count": null,
   "id": "a9db5f7d",
   "metadata": {},
   "outputs": [],
   "source": [
    "df[\"title_group\"].value_counts()"
   ]
  },
  {
   "cell_type": "code",
   "execution_count": null,
   "id": "6433b389",
   "metadata": {},
   "outputs": [],
   "source": [
    "title_group_order = [\"young\", \"young-adult\", \"general\", \"adult\"]"
   ]
  },
  {
   "cell_type": "code",
   "execution_count": null,
   "id": "2c9f5a9f",
   "metadata": {},
   "outputs": [],
   "source": [
    "sns.histplot(data=df, x=\"Age\", hue=\"title_group\", kde=True, hue_order=title_group_order)\n",
    "plt.title(\"Age distribution by bucketed title\")\n",
    "plt.show()"
   ]
  },
  {
   "cell_type": "code",
   "execution_count": null,
   "id": "f1805d59",
   "metadata": {},
   "outputs": [],
   "source": [
    "sns.histplot(\n",
    "    data=df[df[\"party_size_desc\"] == \"solo\"], \n",
    "    x=\"Age\", \n",
    "    hue=\"title_group\", \n",
    "    kde=True, \n",
    "    hue_order=title_group_order\n",
    ")\n",
    "plt.title(\"Age distribution by bucketed title, for solo passengers\")\n",
    "plt.show()\n",
    "\n",
    "sns.histplot(\n",
    "    data=df[df[\"party_size_desc\"] == \"small\"], \n",
    "    x=\"Age\", \n",
    "    hue=\"title_group\", \n",
    "    kde=True, \n",
    "    hue_order=title_group_order\n",
    ")\n",
    "plt.title(\"Age distribution by bucketed title, for small families\")\n",
    "plt.show()\n",
    "\n",
    "\n",
    "sns.histplot(\n",
    "    data=df[df[\"party_size_desc\"] == \"large\"], \n",
    "    x=\"Age\", \n",
    "    hue=\"title_group\", \n",
    "    kde=True, \n",
    "    hue_order=title_group_order\n",
    ")\n",
    "plt.title(\"Age distribution by bucketed title, for large families\")\n",
    "plt.show()"
   ]
  },
  {
   "cell_type": "markdown",
   "id": "98b8cb87",
   "metadata": {},
   "source": [
    "Seems informative, see what combination of features does best"
   ]
  },
  {
   "cell_type": "code",
   "execution_count": null,
   "id": "c33f8ea2",
   "metadata": {},
   "outputs": [],
   "source": [
    "get_keyed_dict = lambda dfgb: dfgb.agg({\"Age\": \"mean\"}).to_dict()[\"Age\"]\n",
    "\n",
    "mean_age = df[\"Age\"].mean()\n",
    "\n",
    "mean_age_by_class = get_keyed_dict(df.groupby(\"Pclass\"))\n",
    "mean_age_by_title = get_keyed_dict(df.groupby(\"title_group\"))\n",
    "mean_age_by_party = get_keyed_dict(df.groupby(\"party_size_desc\"))\n",
    "\n",
    "multi_key_mean_ages = {\n",
    "    **get_keyed_dict(df.groupby([\"Pclass\", \"title_group\"])),\n",
    "    **get_keyed_dict(df.groupby([\"Pclass\", \"party_size_desc\"])),\n",
    "    **get_keyed_dict(df.groupby([\"title_group\", \"party_size_desc\"])),\n",
    "    **get_keyed_dict(df.groupby([\"Pclass\", \"title_group\", \"party_size_desc\"])),\n",
    "}\n",
    "multi_key_mean_ages = {\n",
    "    k: v for k, v in multi_key_mean_ages.items()\n",
    "    if not np.isnan(v)\n",
    "}\n",
    "\n",
    "def impute_age(*args) -> float:\n",
    "    def _impute(row):\n",
    "        key = tuple(row[a] for a in args)\n",
    "        return multi_key_mean_ages[key] if key in multi_key_mean_ages else mean_age\n",
    "    return _impute\n",
    "\n",
    "\n",
    "df = df.assign(\n",
    "    est_age_0=mean_age,\n",
    "    est_age_1=lambda df: df[\"Pclass\"].map(mean_age_by_class),\n",
    "    est_age_2=lambda df: df[\"title_group\"].map(mean_age_by_title),\n",
    "    est_age_3=lambda df: df[\"party_size_desc\"].map(mean_age_by_party),\n",
    "    est_age_4=lambda df: df.apply(impute_age(\"Pclass\", \"title_group\"), axis=1),\n",
    "    est_age_5=lambda df: df.apply(impute_age(\"Pclass\", \"party_size_desc\"), axis=1),\n",
    "    est_age_6=lambda df: df.apply(impute_age(\"title_group\", \"party_size_desc\"), axis=1),\n",
    "    est_age_7=lambda df: df.apply(\n",
    "        impute_age(\"Pclass\", \"title_group\", \"party_size_desc\"), axis=1\n",
    "    ),\n",
    ")"
   ]
  },
  {
   "cell_type": "code",
   "execution_count": null,
   "id": "0cae0be1",
   "metadata": {},
   "outputs": [],
   "source": [
    "age_not_null = ~pd.isna(df[\"Age\"])\n",
    "\n",
    "for i in range(8):\n",
    "    rmse = np.linalg.norm(\n",
    "        df[\"Age\"][age_not_null] - df[f\"est_age_{i}\"][age_not_null]\n",
    "    )\n",
    "    print(f\"est_age_{i}: RMSE = {rmse}\")"
   ]
  },
  {
   "cell_type": "markdown",
   "id": "c16b3a89",
   "metadata": {},
   "source": [
    "All three—run with that"
   ]
  },
  {
   "cell_type": "code",
   "execution_count": null,
   "id": "c1242fd6",
   "metadata": {},
   "outputs": [],
   "source": [
    "df = df.assign(\n",
    "    est_age=lambda df: np.where(~pd.isna(df[\"Age\"]), df[\"Age\"], df[\"est_age_7\"]),\n",
    ").drop(\n",
    "    [f\"est_age_{i}\" for i in range(8)], \n",
    "    axis=1,\n",
    ")"
   ]
  },
  {
   "cell_type": "code",
   "execution_count": null,
   "id": "be9f2e63",
   "metadata": {},
   "outputs": [],
   "source": [
    "df.head()"
   ]
  },
  {
   "cell_type": "markdown",
   "id": "29c2e281",
   "metadata": {},
   "source": [
    "Examine the new features."
   ]
  },
  {
   "cell_type": "code",
   "execution_count": null,
   "id": "471e17ed",
   "metadata": {},
   "outputs": [],
   "source": [
    "df.cabin_section"
   ]
  },
  {
   "cell_type": "code",
   "execution_count": null,
   "id": "7f71fafb",
   "metadata": {},
   "outputs": [],
   "source": [
    "sorted(df[\"cabin_section\"].unique())"
   ]
  },
  {
   "cell_type": "code",
   "execution_count": null,
   "id": "bd4b6bd1",
   "metadata": {},
   "outputs": [],
   "source": [
    "party_size_order = [\"solo\", \"small\", \"large\"]\n",
    "\n",
    "sns.countplot(\n",
    "    data=df, x=\"cabin_section\", hue=\"Survived\", order=sorted(df[\"cabin_section\"].unique()), hue_order=[0, 1]\n",
    ")\n",
    "plt.title(\"Survivorship by cabin section\")\n",
    "plt.show()\n",
    "\n",
    "sns.countplot(data=df, x=\"party_size_desc\", hue=\"Sex\", order=party_size_order)\n",
    "plt.title(\"Sex distribution for different party sizes\")\n",
    "plt.show()\n",
    "\n",
    "sns.histplot(data=df, x=\"Age\", hue=\"party_size_desc\", kde=True, hue_order=party_size_order)\n",
    "plt.title(\"Age distribution for different party sizes\")\n",
    "plt.show()\n",
    "\n",
    "sns.countplot(\n",
    "    data=df, x=\"party_size_desc\", hue=\"Survived\", order=party_size_order, hue_order=[0, 1],\n",
    ")\n",
    "plt.title(\"Survivorship for different party sizes\")\n",
    "plt.show()\n"
   ]
  },
  {
   "cell_type": "markdown",
   "id": "545f1daa",
   "metadata": {},
   "source": [
    "### Model"
   ]
  },
  {
   "cell_type": "code",
   "execution_count": null,
   "id": "62b9aef5",
   "metadata": {},
   "outputs": [],
   "source": [
    "from sklearn.preprocessing import StandardScaler\n",
    "\n",
    "from sklearn.model_selection import GridSearchCV, KFold, cross_val_score"
   ]
  },
  {
   "cell_type": "markdown",
   "id": "878efa08",
   "metadata": {},
   "source": [
    "Set a couple baselines"
   ]
  },
  {
   "cell_type": "code",
   "execution_count": null,
   "id": "abb7cc88",
   "metadata": {},
   "outputs": [],
   "source": [
    "p_survive = train_df[\"Survived\"].mean()\n",
    "\n",
    "baseline_acc = max(p_survive, 1 - p_survive)\n",
    "\n",
    "print(f\"Predict all don't survive: {baseline_acc:.3f}\")"
   ]
  },
  {
   "cell_type": "code",
   "execution_count": null,
   "id": "e5078091",
   "metadata": {},
   "outputs": [],
   "source": [
    "sex_survived_df = train_df.groupby(\"Sex\").agg({\"Survived\": \"mean\", \"PassengerId\": \"count\"})\n",
    "\n",
    "p_survive_f = sex_survived_df.iloc[0][0]\n",
    "n_f = sex_survived_df.iloc[0][1]\n",
    "\n",
    "p_survive_m = sex_survived_df.iloc[1][0]\n",
    "n_m = sex_survived_df.iloc[0][1]\n",
    "\n",
    "acc_f = max(p_survive_f, 1 - p_survive_f)\n",
    "acc_m = max(p_survive_m, 1 - p_survive_m)\n",
    "\n",
    "baseline_acc_by_sex = ((n_f * acc_f) + (n_m * acc_m)) / (n_f + n_m)\n",
    "\n",
    "print(f\"Predict survive by sex only: {baseline_acc_by_sex:.3f}\")"
   ]
  },
  {
   "cell_type": "markdown",
   "id": "6a27cbd1",
   "metadata": {},
   "source": [
    "Preprocess the data"
   ]
  },
  {
   "cell_type": "code",
   "execution_count": null,
   "id": "5cc0adc9",
   "metadata": {},
   "outputs": [],
   "source": [
    "ord_features = [\n",
    "    \"Pclass\",\n",
    "    \"est_age\",\n",
    "    \"fare\",\n",
    "    \"has_all_info\",\n",
    "    \"party_size\",\n",
    "#     \"SibSp\",\n",
    "#     \"Parch\",\n",
    "#     \"title_group\",\n",
    "]\n",
    "cat_features = [\n",
    "    \"Sex\",\n",
    "    \"port_from\",\n",
    "    \"cabin_section\",\n",
    "]\n",
    "\n",
    "train_features = ord_features + cat_features\n",
    "target_feature = \"Survived\""
   ]
  },
  {
   "cell_type": "code",
   "execution_count": null,
   "id": "39cbaa25",
   "metadata": {},
   "outputs": [],
   "source": [
    "clean_df = pd.get_dummies(\n",
    "    data=df[train_features + [target_feature]],\n",
    "    columns=cat_features,\n",
    "    drop_first=True,\n",
    ").assign(\n",
    "    has_all_info=lambda df: df.has_all_info.astype(np.int8)\n",
    ")\n",
    "\n",
    "clean_train_df = clean_df[: train_df.shape[0]]\n",
    "clean_test_df = clean_df[train_df.shape[0] :]"
   ]
  },
  {
   "cell_type": "code",
   "execution_count": null,
   "id": "e00557b5",
   "metadata": {},
   "outputs": [],
   "source": [
    "X_train = clean_train_df.drop(target_feature, axis=1).to_numpy()\n",
    "Y_train = clean_train_df[target_feature].to_numpy()\n",
    "\n",
    "X_test = clean_test_df.drop(target_feature, axis=1).to_numpy()"
   ]
  },
  {
   "cell_type": "code",
   "execution_count": null,
   "id": "db197f91",
   "metadata": {},
   "outputs": [],
   "source": [
    "kfold_cv = KFold(\n",
    "    n_splits=10, \n",
    "    shuffle=True,\n",
    "    random_state=0, \n",
    ")\n",
    "\n",
    "metrics = [\"accuracy\", \"roc_auc\"]"
   ]
  },
  {
   "cell_type": "markdown",
   "id": "2458316d",
   "metadata": {},
   "source": [
    "Logistic Regression"
   ]
  },
  {
   "cell_type": "code",
   "execution_count": null,
   "id": "d1449332",
   "metadata": {},
   "outputs": [],
   "source": [
    "# Scale data\n",
    "scaler = StandardScaler()\n",
    "\n",
    "X_train_ord = X_train[..., : len(ord_features)]\n",
    "X_train_cat = X_train[..., len(ord_features) :]\n",
    "\n",
    "X_train_scaled = np.hstack(\n",
    "    [scaler.fit_transform(X_train_ord), X_train_cat]\n",
    ")"
   ]
  },
  {
   "cell_type": "code",
   "execution_count": null,
   "id": "18eee229",
   "metadata": {},
   "outputs": [],
   "source": [
    "from sklearn.linear_model import LogisticRegression"
   ]
  },
  {
   "cell_type": "code",
   "execution_count": null,
   "id": "71c8f4e3",
   "metadata": {
    "scrolled": true
   },
   "outputs": [],
   "source": [
    "%%time \n",
    "\n",
    "param_grid_lr = [\n",
    "    dict(penalty=[\"none\"], max_iter=[1000]),\n",
    "    dict(penalty=[\"elasticnet\"], l1_ratio=[0, 0.25, 0.5, 0.75, 1.0], solver=[\"saga\"], max_iter=[1000]),\n",
    "]\n",
    "\n",
    "gs_lr = GridSearchCV(\n",
    "    estimator=LogisticRegression(),\n",
    "    param_grid=param_grid_lr,\n",
    "    scoring=metrics,\n",
    "    n_jobs=4,\n",
    "    refit=\"roc_auc\",\n",
    ")\n",
    "gs_lr.fit(\n",
    "    X=X_train_scaled, \n",
    "    y=Y_train,\n",
    ")\n",
    "\n",
    "results = gs_lr.cv_results_\n",
    "best_idx = np.argmin(results[\"rank_test_roc_auc\"])\n",
    "print(f\"Best params: {gs_lr.best_params_}\\n\")\n",
    "print(\"Best accuracy     = {:.5f}\".format(results[\"mean_test_accuracy\"][best_idx]))\n",
    "print(\"Best AUC          = {:.5f}\".format(results[\"mean_test_roc_auc\"][best_idx]))\n",
    "print(\"\\n\")"
   ]
  },
  {
   "cell_type": "markdown",
   "id": "a968fb06",
   "metadata": {},
   "source": [
    "XGBoost\n",
    "\n",
    "Easy to overfit on such a small dataset, so use conservative parameters"
   ]
  },
  {
   "cell_type": "code",
   "execution_count": null,
   "id": "81a77812",
   "metadata": {},
   "outputs": [],
   "source": [
    "from xgboost import XGBClassifier"
   ]
  },
  {
   "cell_type": "code",
   "execution_count": null,
   "id": "c0397a51",
   "metadata": {
    "scrolled": false
   },
   "outputs": [],
   "source": [
    "%%time\n",
    "\n",
    "param_grid_xgb = dict(\n",
    "    booster=[\"gbtree\"],\n",
    "    n_estimators=[50, 100, 200],\n",
    "    learning_rate=[0.1],\n",
    "    gamma=[0],\n",
    "    max_depth=[4, 5],\n",
    "    min_child_weight=[5, 10],\n",
    "    max_delta_step=[0],\n",
    "    sampling_method=[\"uniform\"],\n",
    "    subsample=[0.8],\n",
    "    colsample_bytree=[0.8, 1],\n",
    "    reg_alpha=[1, 1.5, 2],\n",
    "    reg_lambda=[0, 0.5, 1],\n",
    ")\n",
    "\n",
    "gs_xgb = GridSearchCV(\n",
    "    estimator=XGBClassifier(use_label_encoder=False, eval_metric=\"auc\"),\n",
    "    param_grid=param_grid_xgb,\n",
    "    scoring=metrics,\n",
    "    refit=\"roc_auc\",\n",
    "    n_jobs=4,\n",
    ")\n",
    "gs_xgb.fit(\n",
    "    X=X_train, \n",
    "    y=Y_train,\n",
    ")\n",
    "\n",
    "results = gs_xgb.cv_results_\n",
    "best_idx = np.argmin(results[\"rank_test_roc_auc\"])\n",
    "print(f\"Best params: {gs_xgb.best_params_}\\n\")\n",
    "print(\"Best accuracy     = {:.5f}\".format(results[\"mean_test_accuracy\"][best_idx]))\n",
    "print(\"Best AUC          = {:.5f}\".format(results[\"mean_test_roc_auc\"][best_idx]))\n",
    "print(\"\\n\")"
   ]
  },
  {
   "cell_type": "markdown",
   "id": "ad2fcd53",
   "metadata": {},
   "source": [
    "Overall, best validation accuracy is XGBoost with performance:\n",
    "\n",
    "Accuracy = 82.2%  \n",
    "AUC = 0.877"
   ]
  },
  {
   "cell_type": "code",
   "execution_count": null,
   "id": "5abf977e",
   "metadata": {},
   "outputs": [],
   "source": [
    "sns.scatterplot(\n",
    "    x=gs_xgb.cv_results_[\"mean_test_roc_auc\"],\n",
    "    y=gs_xgb.cv_results_[\"std_test_roc_auc\"],\n",
    ")\n",
    "plt.title(\"Std vs. mean AUC\")\n",
    "plt.show()"
   ]
  },
  {
   "cell_type": "markdown",
   "id": "cbc78897",
   "metadata": {},
   "source": [
    "### Predict"
   ]
  },
  {
   "cell_type": "code",
   "execution_count": null,
   "id": "5afc3f21",
   "metadata": {},
   "outputs": [],
   "source": [
    "model = gs_xgb.best_estimator_"
   ]
  },
  {
   "cell_type": "code",
   "execution_count": null,
   "id": "d757eff6",
   "metadata": {},
   "outputs": [],
   "source": [
    "Y_test = model.predict_proba(X=X_test)[:,1]"
   ]
  },
  {
   "cell_type": "code",
   "execution_count": null,
   "id": "e8d3d8e1",
   "metadata": {},
   "outputs": [],
   "source": [
    "test_df = test_df.assign(\n",
    "    p_survived=Y_test,\n",
    "    survived=(Y_test > 0.5).astype(np.int8),\n",
    ")"
   ]
  },
  {
   "cell_type": "code",
   "execution_count": null,
   "id": "30236a73",
   "metadata": {},
   "outputs": [],
   "source": [
    "test_df"
   ]
  },
  {
   "cell_type": "code",
   "execution_count": null,
   "id": "42088556",
   "metadata": {},
   "outputs": [],
   "source": [
    "test_df[[\"PassengerId\", \"survived\"]].rename(columns=dict(survived=\"Survived\")).to_csv(\n",
    "    \"data/submission.csv\", index=False\n",
    ")"
   ]
  },
  {
   "cell_type": "code",
   "execution_count": null,
   "id": "90dcc72d",
   "metadata": {},
   "outputs": [],
   "source": []
  }
 ],
 "metadata": {
  "kernelspec": {
   "display_name": "Python 3 (ipykernel)",
   "language": "python",
   "name": "python3"
  },
  "language_info": {
   "codemirror_mode": {
    "name": "ipython",
    "version": 3
   },
   "file_extension": ".py",
   "mimetype": "text/x-python",
   "name": "python",
   "nbconvert_exporter": "python",
   "pygments_lexer": "ipython3",
   "version": "3.9.8"
  }
 },
 "nbformat": 4,
 "nbformat_minor": 5
}
